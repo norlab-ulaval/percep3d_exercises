{
 "cells": [
  {
   "cell_type": "markdown",
   "metadata": {
    "deletable": false,
    "editable": false,
    "nbgrader": {
     "cell_type": "markdown",
     "checksum": "f6cba6c997d44509f794cd226666f018",
     "grade": false,
     "grade_id": "cell-2c3b9a53f3a8b103",
     "locked": true,
     "schema_version": 3,
     "solution": false,
     "task": false
    },
    "slideshow": {
     "slide_type": "slide"
    }
   },
   "source": [
    "<p style=\"text-align: center;font-size: 40pt\">Exercises</p>\n",
    "<p style=\"text-align: center;font-size: 20pt\">Transformation functions in 2D</p>"
   ]
  },
  {
   "cell_type": "code",
   "execution_count": null,
   "metadata": {},
   "outputs": [],
   "source": [
    "%matplotlib widget\n",
    "#%matplotlib inline\n",
    "\n",
    "import matplotlib.pyplot as plt\n",
    "\n",
    "import numpy as np\n",
    "\n",
    "import ipywidgets as widgets\n",
    "\n",
    "%run ./scripts/helper_func.py\n",
    "path = \"{0}/common/scripts/style.py\".format(get_root_path())\n",
    "%run $path"
   ]
  },
  {
   "cell_type": "markdown",
   "metadata": {
    "deletable": false,
    "editable": false,
    "nbgrader": {
     "cell_type": "markdown",
     "checksum": "6807679ae0691580deed8953ff385d35",
     "grade": false,
     "grade_id": "1",
     "locked": true,
     "points": 4,
     "schema_version": 3,
     "solution": false,
     "task": true
    }
   },
   "source": [
    "# Exercise: apply (30 min)\n",
    "\n",
    "Build a [markdown table](https://www.markdownguide.org/extended-syntax/#tables) comparing all presented geometric quantities (rows) against all presented basic transformations (columns).\n",
    "The content of each cell should have a `X` if the quantity stays the same after the transformation.\n",
    "\n",
    "Here is a code template for your markdown table :\n",
    "```markdown\n",
    "|            | transformation 1 | transformation 2 |   ...   |\n",
    "|------------|:----------------:|:----------------:|:-------:|\n",
    "| quantity 1 |        -         |         X        |         |\n",
    "| quantity 2 |        X         |         X        |         |\n",
    "| ...        |                  |                  |         |\n",
    "```\n"
   ]
  },
  {
   "cell_type": "markdown",
   "metadata": {},
   "source": []
  },
  {
   "cell_type": "markdown",
   "metadata": {
    "deletable": false,
    "editable": false,
    "nbgrader": {
     "cell_type": "markdown",
     "checksum": "199c8db668b0494e50fb65ac3f10c33d",
     "grade": false,
     "grade_id": "2",
     "locked": true,
     "points": 2,
     "schema_version": 3,
     "solution": false,
     "task": true
    }
   },
   "source": [
    "# Exercise: apply (20 min)\n",
    "\n",
    "Run multiple times (i.e., more than 10 times just in case) the graph illustrating affine transformation in the lesson notebook.\n",
    "Can you deduce what properties of the point cloud are preserved?\n"
   ]
  },
  {
   "cell_type": "markdown",
   "metadata": {},
   "source": []
  }
 ],
 "metadata": {
  "kernelspec": {
   "display_name": "Python 3",
   "language": "python",
   "name": "python3"
  },
  "language_info": {
   "codemirror_mode": {
    "name": "ipython",
    "version": 3
   },
   "file_extension": ".py",
   "mimetype": "text/x-python",
   "name": "python",
   "nbconvert_exporter": "python",
   "pygments_lexer": "ipython3",
   "version": "3.7.6"
  }
 },
 "nbformat": 4,
 "nbformat_minor": 4
}
