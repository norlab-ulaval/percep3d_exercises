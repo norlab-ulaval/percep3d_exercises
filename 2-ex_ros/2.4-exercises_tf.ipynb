{
 "cells": [
  {
   "cell_type": "markdown",
   "metadata": {
    "deletable": false,
    "editable": false,
    "nbgrader": {
     "cell_type": "markdown",
     "checksum": "2fc205e77223a7a2b59b21b250de3e03",
     "grade": false,
     "grade_id": "cell-3595c9f4e7fb940d",
     "locked": true,
     "schema_version": 3,
     "solution": false,
     "task": false
    },
    "slideshow": {
     "slide_type": "slide"
    }
   },
   "source": [
    "<p style=\"text-align: center;font-size: 40pt\">Exercises</p>\n",
    "<p style=\"text-align: center;font-size: 20pt\">TF - coordinate frames and transformations in ROS</p>"
   ]
  },
  {
   "cell_type": "markdown",
   "metadata": {
    "deletable": false,
    "editable": false,
    "nbgrader": {
     "cell_type": "markdown",
     "checksum": "98315b49794ee0e55bd67264e70168f7",
     "grade": false,
     "grade_id": "cell-46589334d688b42e",
     "locked": true,
     "schema_version": 3,
     "solution": false,
     "task": false
    }
   },
   "source": [
    "# Exercise: TF tutorial (30 min)\n",
    "\n",
    "For the TF system, ROS has already a neat exercise ready for you to try.\n",
    "Go to the [wiki page](http://wiki.ros.org/tf/Tutorials/Introduction%20to%20tf) and follow their instructions starting from Section 2.\n",
    "The first section is about installing the necessary packages, but we have already done that for you in the virtual machine.\n",
    "\n",
    "What is __important__ to do before running their code is to restart your `roscore`, if you still have it running from the lesson.\n",
    "That is the quickest way to clean the parameter which turns on the simulated time mode.\n",
    "In this official tutorial, you need the real-time mode, which is default after starting the _roscore_.\n",
    "\n",
    "If everything works as it should, you will get two turtles chasing each other.\n",
    "It looks like this:\n",
    "\n",
    "<img src=\"images/turtle_demo.png\" width=\"75%\" style=\"display:block; margin: 0 auto;\">\n",
    "\n",
    "This tutorial allows you to try all the TF visualization methods mentioned in the lesson while having fun with the turtles.\n",
    "Use the opportunity to familiarize yourself with all of them (both methods and turtles, of course :).\n",
    "\n",
    "Then just before closing your nodes for the _turtle_tf_ tutorial, please answer the following two subquestions."
   ]
  },
  {
   "cell_type": "markdown",
   "metadata": {
    "deletable": false,
    "editable": false,
    "nbgrader": {
     "cell_type": "markdown",
     "checksum": "2dff71b4abf49d811e977af3ccc58ac5",
     "grade": false,
     "grade_id": "cell-46589334d688b42f",
     "locked": true,
     "points": 2,
     "schema_version": 3,
     "solution": false,
     "task": true
    }
   },
   "source": [
    "## Subquestion: What is running while playing with the two turtles?\n",
    "\n",
    "This question is not actually related to TF, but it shows us that you succeeded launching the tutorial...\n",
    "Please, insert in the answer below the output of the `rosnode list` command.\n"
   ]
  },
  {
   "cell_type": "markdown",
   "metadata": {},
   "source": []
  },
  {
   "cell_type": "markdown",
   "metadata": {
    "deletable": false,
    "editable": false,
    "nbgrader": {
     "cell_type": "markdown",
     "checksum": "a8158ea2cd13d6fbf50552a65b45509d",
     "grade": false,
     "grade_id": "cell-1db7b806d1a63382",
     "locked": true,
     "points": 2,
     "schema_version": 3,
     "solution": false,
     "task": true
    }
   },
   "source": [
    "## Subquestion: What does the `tf_monitor` show?\n",
    "\n",
    "Besides the _view_frames_ and _tf_echo_, the _tf_ package also offers the `tf_monitor`.\n",
    "You run it as `rosrun tf tf_monitor`.\n",
    "It continuously gives you an overview of all the frames, who publishes them and how often.\n",
    "The output refreshes by itself, so please copy just one of the refresh iterations to the answer below.\n"
   ]
  },
  {
   "cell_type": "markdown",
   "metadata": {},
   "source": []
  }
 ],
 "metadata": {
  "kernelspec": {
   "display_name": "Python 3",
   "language": "python",
   "name": "python3"
  },
  "language_info": {
   "codemirror_mode": {
    "name": "ipython",
    "version": 3
   },
   "file_extension": ".py",
   "mimetype": "text/x-python",
   "name": "python",
   "nbconvert_exporter": "python",
   "pygments_lexer": "ipython3",
   "version": "3.7.6"
  },
  "toc-showtags": false
 },
 "nbformat": 4,
 "nbformat_minor": 4
}
