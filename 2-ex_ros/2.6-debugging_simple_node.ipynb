{
 "cells": [
  {
   "cell_type": "markdown",
   "metadata": {
    "deletable": false,
    "editable": false,
    "nbgrader": {
     "cell_type": "markdown",
     "checksum": "6b45b8d504087dcc5376de6a4e217380",
     "grade": false,
     "grade_id": "cell-3595c9f4e7fb940d",
     "locked": true,
     "schema_version": 3,
     "solution": false,
     "task": false
    },
    "slideshow": {
     "slide_type": "slide"
    }
   },
   "source": [
    "<p style=\"text-align: center;font-size: 40pt\">Exercises</p>\n",
    "<p style=\"text-align: center;font-size: 20pt\">Debugging a simple ros node</p>"
   ]
  },
  {
   "cell_type": "markdown",
   "metadata": {
    "deletable": false,
    "editable": false,
    "nbgrader": {
     "cell_type": "markdown",
     "checksum": "1aaf9f8175e73d55ca147156b4d33855",
     "grade": false,
     "grade_id": "cell-4494578de2423f6a",
     "locked": true,
     "schema_version": 3,
     "solution": false,
     "task": false
    }
   },
   "source": [
    "# Exercise: Debugging a simple ROS node (30 min)\n",
    "\n",
    "Through this exercise, we will use what we have learned throughout this chapter to debug a simple ROS node.\n",
    "This exercise is a good preparation for the upcoming ROS exam, so make sure to understand it well!\n",
    "The exercise is based on the [ROS Tf2 tutorial](http://wiki.ros.org/tf2/Tutorials/Introduction%20to%20tf2) on the official ROS website.\n",
    "\n",
    "The tutorial expects you to already have a package named _percep3d_turtle_exercises_ in your workspace.\n",
    "We have created the package for you in the directory `~/catkin_ws/src`.\n",
    "You can quickly navigate there by executing `roscd percep3d_turtle_exercises`.\n",
    "\n",
    "We have created a modified version of the _turtlesim_ package.\n",
    "You need to modify the _launch/turtle_exercise.launch_ file to make the node behave as desired."
   ]
  },
  {
   "cell_type": "markdown",
   "metadata": {
    "deletable": false,
    "editable": false,
    "nbgrader": {
     "cell_type": "markdown",
     "checksum": "3a5378fc9fefc3dc3db10f30ecbafb98",
     "grade": false,
     "grade_id": "cell-e53566c2e48fa76f",
     "locked": true,
     "points": 1,
     "schema_version": 3,
     "solution": false,
     "task": true
    }
   },
   "source": [
    "# Adjusting the TFs\n",
    "\n",
    "The first step to debugging any ROS node is to adjust the TFs. \n",
    "The reason is that ROS topics often depend on the TFs in which the nodes operate.\n",
    "Thus, we want to make sure our TFs are properly alligned before debugging anything else. \n",
    "\n",
    "In this node, we have two turtles, both of which have a `world_frame_id` and a `turtle_frame_id`.\n",
    "Since we are assuming tha turtles are sea creatures, modify the launch file so that both turtles have the sea as parent frames. \n",
    "You can use `rosrun rqt_tf_tree rqt_tf_tree` command to inspect the state of frames from the node.\n",
    "\n",
    "As an answer, just write what modifications you needed to do the launch file to solve this.\n"
   ]
  },
  {
   "cell_type": "markdown",
   "metadata": {},
   "source": []
  },
  {
   "cell_type": "markdown",
   "metadata": {
    "deletable": false,
    "editable": false,
    "nbgrader": {
     "cell_type": "markdown",
     "checksum": "0232d2a086886117a75d92fb6d022527",
     "grade": false,
     "grade_id": "cell-1925f0ed9e623237",
     "locked": true,
     "points": 1,
     "schema_version": 3,
     "solution": false,
     "task": true
    }
   },
   "source": [
    "# Adjusting the topics\n",
    "\n",
    "Once the node TFs are properly adjusted, we can now focus on the topics.\n",
    "You may have noticed that contrarily to the normal _turtlesim_ package, you are unable to move the turtle with you arrow keys.\n",
    "Inspect the topics using `rosrun rqt_graph rqt_graph` and identify what is wrong with the package.\n",
    "Make the necessary changes in the launch file to enable the turtle commands with the arrow keys and write what you have changed below.\n"
   ]
  },
  {
   "cell_type": "markdown",
   "metadata": {},
   "source": []
  }
 ],
 "metadata": {
  "kernelspec": {
   "display_name": "Python 3",
   "language": "python",
   "name": "python3"
  },
  "language_info": {
   "codemirror_mode": {
    "name": "ipython",
    "version": 3
   },
   "file_extension": ".py",
   "mimetype": "text/x-python",
   "name": "python",
   "nbconvert_exporter": "python",
   "pygments_lexer": "ipython3",
   "version": "3.7.6"
  },
  "toc-showtags": false
 },
 "nbformat": 4,
 "nbformat_minor": 4
}
