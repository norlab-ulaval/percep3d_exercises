{
 "cells": [
  {
   "cell_type": "markdown",
   "metadata": {
    "deletable": false,
    "editable": false,
    "nbgrader": {
     "cell_type": "markdown",
     "checksum": "4bdd344790508ecc998c592e02d3de00",
     "grade": false,
     "grade_id": "cell-f9ac639a9aa72a1c",
     "locked": true,
     "schema_version": 3,
     "solution": false,
     "task": false
    }
   },
   "source": [
    "<p style=\"text-align: center;font-size: 40pt\">Exercises</p>\n",
    "<p style=\"text-align: center;font-size: 20pt\">Descriptive statistics</p>"
   ]
  },
  {
   "cell_type": "code",
   "execution_count": null,
   "metadata": {
    "deletable": false,
    "editable": false,
    "nbgrader": {
     "cell_type": "code",
     "checksum": "a6980dd417383ecaf1f7186eb9555350",
     "grade": false,
     "grade_id": "cell-217af0a44d593b5e",
     "locked": true,
     "schema_version": 3,
     "solution": false,
     "task": false
    }
   },
   "outputs": [],
   "source": [
    "#%matplotlib widget\n",
    "%matplotlib inline\n",
    "import matplotlib.pyplot as plt\n",
    "\n",
    "import numpy as np\n",
    "\n",
    "%run ./scripts/helper_func.py\n",
    "path = \"{0}/common/scripts/style.py\".format(get_root_path())\n",
    "%run $path"
   ]
  },
  {
   "cell_type": "markdown",
   "metadata": {
    "deletable": false,
    "editable": false,
    "nbgrader": {
     "cell_type": "markdown",
     "checksum": "3f4dfc5afe17b3f680e4c99f537ecbf6",
     "grade": false,
     "grade_id": "cell-83ba76e9a98b64b2",
     "locked": true,
     "schema_version": 3,
     "solution": false,
     "task": false
    }
   },
   "source": [
    "Hidden custom latex commands here $ \\curvearrowright$\n",
    "\n",
    "----\n",
    "[comment]: <> (Useful commands)\n",
    "$\\newcommand{\\textcomma}{\\quad,}$\n",
    "$\\newcommand{\\textdot}{\\quad.}$\n",
    "$\\newcommand{\\vec}[1]{\\mathbf{#1}}$\n",
    "$\\newcommand{\\mat}[1]{\\mathbf{#1}}$\n",
    "$\\newcommand{\\vecsim}[1]{\\boldsymbol{#1}}$\n",
    "$\\newcommand{\\matsim}[1]{\\boldsymbol{#1}}$\n",
    "$\\newcommand{\\real}{\\mathbb{R}}$\n",
    "$\\newcommand{\\E}{\\mathrm{E}}$\n",
    "$\\newcommand{\\L}{\\mathrm{L}}$\n",
    "$\\newcommand{\\Var}{\\mathrm{Var}}$\n",
    "$\\newcommand{\\normal}{\\mathcal{N}}$\n",
    "----"
   ]
  },
  {
   "cell_type": "markdown",
   "metadata": {
    "deletable": false,
    "editable": false,
    "nbgrader": {
     "cell_type": "markdown",
     "checksum": "18eeff49dea4486a9ca5bd4981a63b6c",
     "grade": false,
     "grade_id": "cell-c5e1870aaa566dac",
     "locked": true,
     "points": 6,
     "schema_version": 3,
     "solution": false,
     "task": true
    }
   },
   "source": [
    "# Exercise: math (60 min)\n",
    "\n",
    "Demonstrate that the computation of the variance is translation invariant. In other words, show that $\\text{Var}(\\mathcal{X}) = \\text{Var}(\\mathcal{X}+a)$ for a set $\\mathcal{X} = \\{(x_1 + a), (x_2 + a), \\dots, (x_i + a)\\}$.\n",
    "\n",
    "- _Hint 1_: replace $x_i$ by $(x_i + a)$ in equations for $\\E[\\mathcal{X}]$ and $\\E\\left[(\\mathcal{X} -\\E[\\mathcal{X}])^2 \\right]$.\n",
    "- _Hint 2_: you may need to review some of the [summation identities](https://en.wikipedia.org/wiki/Summation#Identities).\n",
    "- _Hint 3_: you may need to review [dot products](https://en.wikipedia.org/wiki/Dot_product)\n"
   ]
  },
  {
   "cell_type": "markdown",
   "metadata": {},
   "source": []
  },
  {
   "cell_type": "markdown",
   "metadata": {
    "deletable": false,
    "editable": false,
    "nbgrader": {
     "cell_type": "markdown",
     "checksum": "43a1b5f8fc7969f88c828a7d1d4b2f1f",
     "grade": false,
     "grade_id": "cell-10cc5627af24a069",
     "locked": true,
     "schema_version": 3,
     "solution": false,
     "task": false
    }
   },
   "source": [
    "# Exercise: apply (10 min)\n",
    "\n",
    "Three different thermostats (A, B, C) were set to maintain zero temperature in a refrigerator. \n",
    "The following distributions represent their performance over some time:"
   ]
  },
  {
   "cell_type": "code",
   "execution_count": null,
   "metadata": {
    "deletable": false,
    "editable": false,
    "jupyter": {
     "source_hidden": true
    },
    "nbgrader": {
     "cell_type": "code",
     "checksum": "8b0bd171dece2b6c4a5e884bd287fc14",
     "grade": false,
     "grade_id": "cell-9acddbebb984e652",
     "locked": true,
     "schema_version": 3,
     "solution": false,
     "task": false
    }
   },
   "outputs": [],
   "source": [
    "n = 1000\n",
    "binwidth = 0.1\n",
    "dist_names = [\"A\", \"B\", \"C\"]\n",
    "x_range = (-3, 3)\n",
    "\n",
    "X = np.array([np.random.normal(0.5, 0.5, n),\n",
    "              np.random.uniform(-2., 2., n),\n",
    "              np.random.gamma(2., 0.3, n)-2.])\n",
    "\n",
    "colors = plt.rcParams['axes.prop_cycle'].by_key()['color']\n",
    "\n",
    "fig, axs = plt.subplots(nrows=3, ncols=1, figsize=(5,5))\n",
    "\n",
    "for i in range(len(X)):\n",
    "    axs[i].hist(X[i,:], bins=np.arange(min(X[i,:]), max(X[i,:]) + binwidth, binwidth), color=colors[i]);\n",
    "    axs[i].set_title('Distribution ' + dist_names[i])\n",
    "    axs[i].set_xlim(x_range)\n",
    "\n",
    "plt.tight_layout()"
   ]
  },
  {
   "cell_type": "markdown",
   "metadata": {
    "deletable": false,
    "editable": false,
    "nbgrader": {
     "cell_type": "markdown",
     "checksum": "29bed187220dbaec0ac2797fdca1c6da",
     "grade": false,
     "grade_id": "cell-b9537e284f159bdb",
     "locked": true,
     "points": 1,
     "schema_version": 3,
     "solution": false,
     "task": true
    }
   },
   "source": [
    "Q1: Which thermostat provided the the most accurate results?\n"
   ]
  },
  {
   "cell_type": "markdown",
   "metadata": {},
   "source": []
  },
  {
   "cell_type": "markdown",
   "metadata": {
    "deletable": false,
    "editable": false,
    "nbgrader": {
     "cell_type": "markdown",
     "checksum": "e9d237a9c404a94043eeafb5310536a6",
     "grade": false,
     "grade_id": "cell-e779b83bb9474303",
     "locked": true,
     "points": 1,
     "schema_version": 3,
     "solution": false,
     "task": true
    }
   },
   "source": [
    "Q2: Which thermostat was the most precise?\n"
   ]
  },
  {
   "cell_type": "markdown",
   "metadata": {},
   "source": []
  },
  {
   "cell_type": "markdown",
   "metadata": {
    "deletable": false,
    "editable": false,
    "nbgrader": {
     "cell_type": "markdown",
     "checksum": "9fe8b6bbf6f928a3f687ee58d8067f66",
     "grade": false,
     "grade_id": "cell-6fb6e0abcdf52abb",
     "locked": true,
     "points": 1,
     "schema_version": 3,
     "solution": false,
     "task": true
    }
   },
   "source": [
    "Q3: Which thermostat was the least accurate?\n"
   ]
  },
  {
   "cell_type": "markdown",
   "metadata": {},
   "source": []
  },
  {
   "cell_type": "markdown",
   "metadata": {
    "deletable": false,
    "editable": false,
    "nbgrader": {
     "cell_type": "markdown",
     "checksum": "b83272886b781123da0da5d7d274cba2",
     "grade": false,
     "grade_id": "cell-2303fbced7a033ee",
     "locked": true,
     "points": 1,
     "schema_version": 3,
     "solution": false,
     "task": true
    }
   },
   "source": [
    "Q4: Which thermostat was the least precise?\n"
   ]
  },
  {
   "cell_type": "markdown",
   "metadata": {},
   "source": []
  },
  {
   "cell_type": "markdown",
   "metadata": {
    "deletable": false,
    "editable": false,
    "nbgrader": {
     "cell_type": "markdown",
     "checksum": "2bcce43fb79d12fddf7cc63385c7a5c6",
     "grade": false,
     "grade_id": "cell-b1ba6b78cefb5717",
     "locked": true,
     "points": 9,
     "schema_version": 3,
     "solution": false,
     "task": true
    }
   },
   "source": [
    "# Exercise: math (90 min)\n",
    "\n",
    "As introduced in the variance section, demonstrate that this equality is true:\n",
    "\\begin{equation}\n",
    "\\frac{1}{n}\\sum_i^n (x_i - \\bar{x})^2 = \\frac{1}{n}\\vec{x}^T \\vec{x} - \\bar{x}^2 \\textdot\n",
    "\\end{equation}\n",
    "\n",
    "- _Hint 1_: start by expanding the elements squared.\n",
    "- _Hint 2_: you will need to recall the equation for the mean.\n",
    "- _Hint 3_: you may need to review some of the [summation identities](https://en.wikipedia.org/wiki/Summation#Identities).\n"
   ]
  },
  {
   "cell_type": "markdown",
   "metadata": {},
   "source": []
  }
 ],
 "metadata": {
  "kernelspec": {
   "display_name": "Python 3",
   "language": "python",
   "name": "python3"
  },
  "language_info": {
   "codemirror_mode": {
    "name": "ipython",
    "version": 3
   },
   "file_extension": ".py",
   "mimetype": "text/x-python",
   "name": "python",
   "nbconvert_exporter": "python",
   "pygments_lexer": "ipython3",
   "version": "3.7.6"
  }
 },
 "nbformat": 4,
 "nbformat_minor": 4
}
