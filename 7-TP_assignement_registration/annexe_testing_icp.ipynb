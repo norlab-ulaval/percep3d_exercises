{
 "cells": [
  {
   "cell_type": "markdown",
   "metadata": {
    "deletable": false,
    "editable": false,
    "nbgrader": {
     "cell_type": "markdown",
     "checksum": "20107ad485d6b3308857a1c20607dbd1",
     "grade": false,
     "grade_id": "cell-1c59c2c8f0c151b7",
     "locked": true,
     "schema_version": 3,
     "solution": false,
     "task": false
    }
   },
   "source": [
    "<p style=\"text-align: center;font-size: 40pt\">Testing ICP</p>\n",
    "<p style=\"text-align: center;font-size: 20pt\">Annexe to the assigment</p>"
   ]
  },
  {
   "cell_type": "code",
   "execution_count": null,
   "metadata": {},
   "outputs": [],
   "source": [
    "%matplotlib inline\n",
    "\n",
    "import matplotlib.pyplot as plt\n",
    "import numpy as np\n",
    "from scipy import spatial\n",
    "from IPython.display import HTML\n",
    "\n",
    "%run ./scripts/helper_func.py\n",
    "path = \"{0}/lessons/transformations_2d/scripts/helper_func.py\".format(get_root_path())\n",
    "%run $path\n",
    "path = \"{0}/common/scripts/style.py\".format(get_root_path())\n",
    "%run $path"
   ]
  },
  {
   "cell_type": "code",
   "execution_count": null,
   "metadata": {},
   "outputs": [],
   "source": [
    "# Generate two point clouds\n",
    "nb_pts = 400\n",
    "P = build_room([1.2, 2.], [2.2, 1.5], angle=-0, nb_pts=nb_pts)\n",
    "Q = build_room([1.8, 2.], [2.8, 2.2], angle=-0.3, nb_pts=nb_pts)\n",
    "\n",
    "fig, ax = plt.subplots(nrows=1, ncols=1, figsize=(8,8))\n",
    "draw_point_clouds(ax, P=P, Q=Q)"
   ]
  },
  {
   "cell_type": "code",
   "execution_count": null,
   "metadata": {},
   "outputs": [],
   "source": [
    "# keep 75 % of the points\n",
    "prob = np.random.uniform(size=P.shape[1])\n",
    "mask = (prob < 0.75)\n",
    "P = P[:, mask]\n",
    "\n",
    "prob = np.random.uniform(size=Q.shape[1])\n",
    "mask = (prob < 0.75)\n",
    "Q = Q[:, mask]\n",
    "\n",
    "normals_Q = np.zeros([2, Q.shape[1]])\n",
    "k_nn = 20\n",
    "\n",
    "# build kdtree\n",
    "tree = spatial.KDTree(Q.T)\n",
    "dist, indices = tree.query(Q.T, k=k_nn)\n",
    "\n",
    "for i, nn_i in enumerate(indices):\n",
    "    neighbors = Q[0:2, nn_i]\n",
    "    mu = np.mean(neighbors, axis=1)\n",
    "    errors = (neighbors.T - mu).T\n",
    "    cov = 1/k_nn * (errors @ errors.T)\n",
    "    eigenValues, eigenVectors = sorted_eig(cov)\n",
    "    normals_Q[:,i] = eigenVectors[:,0] # smallest eigen vector\n",
    "\n",
    "fig, ax = plt.subplots(nrows=1, ncols=1, figsize=(8,8))\n",
    "draw_point_clouds(ax, Q=Q, normals_Q=normals_Q)"
   ]
  },
  {
   "cell_type": "code",
   "execution_count": null,
   "metadata": {},
   "outputs": [],
   "source": [
    "nb_pts = P.shape[1]\n",
    "\n",
    "tree = spatial.KDTree(Q.T)\n",
    "dist, indices = tree.query(P.T, k=1)\n",
    "\n",
    "errors = Q[:2, indices] - P[:2]\n",
    "h = np.empty(nb_pts)\n",
    "G = np.empty([3, nb_pts])\n",
    "\n",
    "for i in range(nb_pts):\n",
    "    q_id = indices[i]\n",
    "    n = normals_Q[:,q_id]\n",
    "    p = P[:,i]\n",
    "    e = errors[:,i]\n",
    "    h[i] = np.dot(e, n)\n",
    "    cross = p[0] * n[1] - p[1] * n[0] # pseudo-cross product in 2D\n",
    "    G[0:2,i] = n\n",
    "    G[2,i] = cross\n",
    "\n",
    "\n",
    "fig, axs = plt.subplots(nrows=1, ncols=2, figsize=(12,6))\n",
    "ax=axs[0]\n",
    "draw_point_clouds(ax, P=P, Q=Q, errors=errors)\n",
    "ax.set_title(\"Point clouds\")\n",
    "\n",
    "ax=axs[1]\n",
    "ax.quiver(np.zeros(nb_pts), np.zeros(nb_pts), errors[0], errors[1], \n",
    "          color=\"tab:red\", alpha=0.2,\n",
    "          angles='xy', scale_units='xy', scale=1.)\n",
    "ax.set_aspect('equal', adjustable='box')\n",
    "ax.set_xlabel(r\"Error on $\\vec{\\mathscr{x}}$\")\n",
    "ax.set_ylabel(r\"Error on $\\vec{\\mathscr{y}}$\")\n",
    "ax.set_title(\"Residual error\")\n",
    "lim = [-0.25, 0.25]\n",
    "ax.set_xlim(lim)\n",
    "ax.set_ylim(lim)\n",
    "fig.tight_layout()"
   ]
  },
  {
   "cell_type": "code",
   "execution_count": null,
   "metadata": {},
   "outputs": [],
   "source": [
    "x = np.linalg.solve(G @ G.T, G @ h) # this gives: [x, y, theta]\n",
    "\n",
    "T = rigid_tranformation(x)\n",
    "P_prime = T @ P\n",
    "\n",
    "fig, ax = plt.subplots(nrows=1, ncols=1, figsize=(6,6))\n",
    "draw_point_clouds(ax, P=P_prime, Q=Q, T=T)"
   ]
  }
 ],
 "metadata": {
  "kernelspec": {
   "display_name": "Python 3",
   "language": "python",
   "name": "python3"
  },
  "language_info": {
   "codemirror_mode": {
    "name": "ipython",
    "version": 3
   },
   "file_extension": ".py",
   "mimetype": "text/x-python",
   "name": "python",
   "nbconvert_exporter": "python",
   "pygments_lexer": "ipython3",
   "version": "3.7.6"
  }
 },
 "nbformat": 4,
 "nbformat_minor": 4
}
