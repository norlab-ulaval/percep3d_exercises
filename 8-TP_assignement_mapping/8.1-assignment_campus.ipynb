{
 "cells": [
  {
   "cell_type": "markdown",
   "metadata": {
    "deletable": false,
    "editable": false,
    "nbgrader": {
     "cell_type": "markdown",
     "checksum": "8fe494b4defe2d7ce1bead5037282080",
     "grade": false,
     "grade_id": "cell-87551e213caef2bd",
     "locked": true,
     "schema_version": 3,
     "solution": false,
     "task": false
    }
   },
   "source": [
    "<p style=\"text-align: center;font-size: 40pt\">Assignment</p>\n",
    "<p style=\"text-align: center;font-size: 20pt\">Investigating the campus</p>\n",
    "<img src=\"images/campus3D.jpg\" width=\"100%\">"
   ]
  },
  {
   "cell_type": "markdown",
   "metadata": {
    "deletable": false,
    "editable": false,
    "nbgrader": {
     "cell_type": "markdown",
     "checksum": "940d58cfbe7f4da23821dc367baf84d6",
     "grade": false,
     "grade_id": "cell-d7f8d9343b47046c",
     "locked": true,
     "schema_version": 3,
     "solution": false,
     "task": false
    }
   },
   "source": [
    "# General remarks\n",
    "\n",
    "- **Expected time**: 2 hours\n",
    "- **Goal**: to be able to build a 3D map from point clouds recorded from a real deployment.\n",
    "\n",
    "Requirements:\n",
    "- [ROS mapping node](../../lessons/8-mapping_softwares/8.1-lesson_mapping.ipynb)\n",
    "\n",
    "This is a replacement to the assignment _Investigating a nuclear power plant_, so you are free to choose between the two.\n",
    "During your day on the main campus of Laval University, you were asked to gather a rosbag from one of Norlab's robots.\n",
    "To acces your data, run the following commands in a terminal of your virtual machine:\n",
    "\n",
    "```shell\n",
    "$ cd ~/percep3d_data/\n",
    "$ wget -O warthog_demo.zip https://ulavaldti-my.sharepoint.com/:u:/g/personal/dobar35_ulaval_ca/EYCawH0gGt5JgEfr45pA-mcBMscJwt0iyC6_1r7gNLfKpw?download=1\n",
    "$ unzip warthog_demo.zip\n",
    "$ rm warthog_demo.zip\n",
    "```\n",
    "We cut the rosbag to a smaller part of the path recorded in order to avoid filling the disk space reserved for the virtual machine.\n",
    "\n",
    "You will need to add new launch files adapted specifically for the robot you were using.\n",
    "Run the following commands in a terminal of your virtual machine to install them:\n",
    "\n",
    "```shell\n",
    "$ roscd percep3d_mapping/\n",
    "$ wget -O warthog.zip https://ulavaldti-my.sharepoint.com/:u:/g/personal/spdes4_ulaval_ca/EaHvmX_XZ-JNt54RpmPjNaABM8gH1K9PC0gKpktJcBHMlQ?download=1\n",
    "$ unzip warthog.zip -d ./\n",
    "$ rm warthog.zip\n",
    "```\n",
    "\n",
    "If you follow the instructions from the lesson [ROS mapping node](../../lessons/mapping_softwares/1-lesson_mapping.ipynb), you will need to replace the following line:\n",
    "\n",
    "```diff\n",
    "- $ roslaunch percep3d_mapping darpa_dynamic_mapper_ctu.launch\n",
    "\n",
    "+ $ roslaunch percep3d_mapping warthog_mapping.launch \n",
    "```\n",
    "\n",
    "and\n",
    "```diff\n",
    "- $ rosbag play ~/percep3d_data/ugv_ctu_2020-02-26-19-44-51_alpha_course_percep3d.bag --clock --keep-alive\n",
    "\n",
    "+ $ rosbag play -r 0.5 ~/percep3d_data/AM_run_deskewed.bag --clock --keep-alive\n",
    "```\n",
    "We added the flag `-r 0.5` (i.e., running the bag at half speed) to make sure that the virtual machine can keep up with a lidar having 32 beams.\n",
    "\n",
    "The intention this assignment is to simply explore the produced map and report some results using tools that were explained during the lecture."
   ]
  },
  {
   "cell_type": "markdown",
   "metadata": {
    "deletable": false,
    "editable": false,
    "nbgrader": {
     "cell_type": "markdown",
     "checksum": "a2c7619808ae998d4a749adb8fa82a80",
     "grade": false,
     "grade_id": "cell-654e0bdec422daec",
     "locked": true,
     "points": 1,
     "schema_version": 3,
     "solution": false,
     "task": true
    }
   },
   "source": [
    "# Question 1: a map in rviz (1 pt)\n",
    "\n",
    "Follow the instructions from the lesson [ROS mapping node](1-lesson_mapping.ipynb) and let the rosbag run up to ~150 seconds.\n",
    "After that time, pause the rosbag.\n",
    "Using the Ubuntu `screenshot` application, take a screenshot of what you see in your rviz window. \n",
    "Import the screenshot in the folder `/images/` of this repository.\n",
    "Use the following html code to display your screenshot in the following cell.\n",
    "\n",
    "```html\n",
    "<img src=\"images/<your file name>\" width=\"100%\">\n",
    "```"
   ]
  },
  {
   "cell_type": "markdown",
   "metadata": {},
   "source": [
    "Your answer here."
   ]
  },
  {
   "cell_type": "markdown",
   "metadata": {
    "deletable": false,
    "editable": false,
    "nbgrader": {
     "cell_type": "markdown",
     "checksum": "9026cebc06e4b22320f79acda23d29b7",
     "grade": false,
     "grade_id": "cell-88d40e35e017c2a0",
     "locked": true,
     "points": 2,
     "schema_version": 3,
     "solution": false,
     "task": true
    }
   },
   "source": [
    "# Question 2: multiple views in Paraview (2 pts)\n",
    "\n",
    "Still with the rosbag paused after 150 seconds, export the map as a `.vtk` file and open it in Paraview.\n",
    "Ensure that the display type is set to `Points` and select a colorbar displaying the Z component of the field `normals`.\n",
    "Using a _Camera Parallel Projection_, take the following three screenshots:\n",
    "- a side orthogonal view\n",
    "- a top orthogonal view\n",
    "- a perspective view\n",
    "\n",
    "You can export screenshots directly within Paraview using `File -> Save Screenshot...`.\n",
    "Again, use the following html code to display all your screenshots in the following cell.\n",
    "\n",
    "```html\n",
    "<img src=\"images/<your file name 1>\" width=\"100%\">\n",
    "<img src=\"images/<your file name 2>\" width=\"100%\">\n",
    "<img src=\"images/<your file name 3>\" width=\"100%\">\n",
    "```\n",
    "\n",
    "- _Hint_: it might be worth it to close the mapping node, the rosbag play and their related terminal to free some memory used by your virtual machine. \n",
    "If you have Paraview installed locally, it might be easier to export your `.vtk` file on your host and work from there."
   ]
  },
  {
   "cell_type": "markdown",
   "metadata": {},
   "source": [
    "Your answer here"
   ]
  },
  {
   "cell_type": "markdown",
   "metadata": {
    "deletable": false,
    "editable": false,
    "nbgrader": {
     "cell_type": "markdown",
     "checksum": "f7a8b219163e67c9fc1e48885769af4d",
     "grade": false,
     "grade_id": "cell-ba47db10b625f374",
     "locked": true,
     "points": 1,
     "schema_version": 3,
     "solution": false,
     "task": true
    }
   },
   "source": [
    "# Question 3: a tree (1 pt)\n",
    "\n",
    "In Paraview and using the selection tool, extract a side view of a single tall tree located in the open area where the robot started (i.e., _le Grand axe_).\n",
    "These trees are well spaced, so it should be easy to find one to extract.\n",
    "Take a screenshot and use the html code to display it on the following cell.\n",
    "\n",
    "```html\n",
    "<img src=\"images/<your file name>\" width=\"50%\">\n",
    "```"
   ]
  },
  {
   "cell_type": "markdown",
   "metadata": {},
   "source": [
    "Your answer here"
   ]
  },
  {
   "cell_type": "markdown",
   "metadata": {
    "deletable": false,
    "editable": false,
    "nbgrader": {
     "cell_type": "markdown",
     "checksum": "0dab052e82080057d4eda182a3fc4a29",
     "grade": false,
     "grade_id": "cell-91da48758199ff55",
     "locked": true,
     "points": 1,
     "schema_version": 3,
     "solution": false,
     "task": true
    }
   },
   "source": [
    "# Question 4: measuring tool (1 pt)\n",
    "\n",
    "Two building are facing each other in the 3D map.\n",
    "On one side there is the library named _Pavillon Jean-Charles-Bonenfant_, and on the other there is the engineering building named _Pavillon Adrien-Pouliot_.\n",
    "What is the distance between there main wall\n",
    "\n",
    "- _Hint_: if you don't know the campus very well, search the names of the building in Google map first.\n"
   ]
  },
  {
   "cell_type": "markdown",
   "metadata": {},
   "source": [
    "Your answer here"
   ]
  }
 ],
 "metadata": {
  "kernelspec": {
   "display_name": "Python 3",
   "language": "python",
   "name": "python3"
  },
  "language_info": {
   "codemirror_mode": {
    "name": "ipython",
    "version": 3
   },
   "file_extension": ".py",
   "mimetype": "text/x-python",
   "name": "python",
   "nbconvert_exporter": "python",
   "pygments_lexer": "ipython3",
   "version": "3.7.6"
  }
 },
 "nbformat": 4,
 "nbformat_minor": 4
}
