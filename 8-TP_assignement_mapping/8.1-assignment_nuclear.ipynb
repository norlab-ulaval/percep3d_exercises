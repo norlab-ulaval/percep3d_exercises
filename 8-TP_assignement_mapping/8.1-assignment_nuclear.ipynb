{
 "cells": [
  {
   "cell_type": "markdown",
   "metadata": {},
   "source": [
    "<p style=\"text-align: center;font-size: 40pt\">Assignment</p>\n",
    "<p style=\"text-align: center;font-size: 20pt\">Investigating a nuclear power plant</p>\n",
    "<img src=\"images/power_plant.png\" width=\"100%\">"
   ]
  },
  {
   "cell_type": "markdown",
   "metadata": {},
   "source": [
    "# General remarks\n",
    "\n",
    "- **Expected time**: 2 hours\n",
    "- **Goal**: to be able to build a 3D map from point clouds recorded from a real deployment.\n",
    "\n",
    "Requirements:\n",
    "- [ROS mapping node](../../lessons/8-mapping_softwares/8.1-lesson_mapping.ipynb)\n",
    "\n",
    "During the urban version of the DARPA Subterranean Challenge, seven robots were deployed in parallel to explore an unfinished nuclear power plant.\n",
    "You already have access to the rosbag recorded by one of the robots equipped with tracks.\n",
    "The intention here is to simply explore the produced map and report some results."
   ]
  },
  {
   "cell_type": "markdown",
   "metadata": {
    "deletable": false,
    "editable": false,
    "nbgrader": {
     "cell_type": "markdown",
     "checksum": "7eceada7c5d96a86d5dc2ef5c7349fe6",
     "grade": false,
     "grade_id": "cell-654e0bdec422daec",
     "locked": true,
     "points": 1,
     "schema_version": 3,
     "solution": false,
     "task": true
    }
   },
   "source": [
    "# Question 1: a map in rviz (1 pt)\n",
    "\n",
    "Follow the instructions from the lesson [ROS mapping node](1-lesson_mapping.ipynb) and let the rosbag run up to 1000 seconds.\n",
    "After that time, pause the rosbag.\n",
    "Using the Ubuntu `screenshot` application, take a screenshot of what you see in your rviz window.\n",
    "Import the screenshot in the folder `/images/` of this repository.\n",
    "Use the following html code to display your screenshot in the following cell.\n",
    "\n",
    "```html\n",
    "<img src=\"images/<your file name>\" width=\"100%\">\n",
    "```"
   ]
  },
  {
   "cell_type": "markdown",
   "metadata": {},
   "source": [
    "Your answer here."
   ]
  },
  {
   "cell_type": "markdown",
   "metadata": {
    "deletable": false,
    "editable": false,
    "nbgrader": {
     "cell_type": "markdown",
     "checksum": "92cc3e3ecc45f2da108d6b643f6a84b7",
     "grade": false,
     "grade_id": "cell-88d40e35e017c2a0",
     "locked": true,
     "points": 2,
     "schema_version": 3,
     "solution": false,
     "task": true
    }
   },
   "source": [
    "# Question 2: multiple views in Paraview (2 pts)\n",
    "\n",
    "Still with the rosbag paused after 1000 seconds, export the map as a `.vtk` file and open it in Paraview.\n",
    "Ensure that the display type is set to `Points` and select a colorbar displaying the Z component of the field `normals`.\n",
    "Using a _Camera Parallel Projection_, take the following three screenshots:\n",
    "- a side orthogonal view\n",
    "- a top orthogonal view\n",
    "- a perspective view\n",
    "\n",
    "You can export screenshots directly within Paraview using `File -> Save Screenshot...`.\n",
    "Again, use the following html code to display all your screenshots in the following cell.\n",
    "\n",
    "```html\n",
    "<img src=\"images/<your file name>\" width=\"100%\">\n",
    "```\n",
    "\n",
    "- _Hint_: it might be worth it to close the mapping node, the rosbag play and their related terminal to free some memory used by your virtual machine. \n",
    "If you have Paraview installed locally, it might be easier to export your `.vtk` file on your host and work from there."
   ]
  },
  {
   "cell_type": "markdown",
   "metadata": {},
   "source": [
    "Your answer here"
   ]
  },
  {
   "cell_type": "markdown",
   "metadata": {
    "deletable": false,
    "editable": false,
    "nbgrader": {
     "cell_type": "markdown",
     "checksum": "3d8c07f2f85af0e1cde8cf9612694d55",
     "grade": false,
     "grade_id": "cell-ba47db10b625f374",
     "locked": true,
     "points": 1,
     "schema_version": 3,
     "solution": false,
     "task": true
    }
   },
   "source": [
    "# Question 3: the staircase (1 pt)\n",
    "\n",
    "In Paraview and using the selection tool, extract a side view of the staircase with the walls.\n",
    "Take a screenshot and use the html code to display it on the following cell.\n",
    "\n",
    "```html\n",
    "<img src=\"images/<your file name>\" width=\"50%\">\n",
    "```"
   ]
  },
  {
   "cell_type": "markdown",
   "metadata": {},
   "source": [
    "Your answer here"
   ]
  },
  {
   "cell_type": "markdown",
   "metadata": {
    "deletable": false,
    "editable": false,
    "nbgrader": {
     "cell_type": "markdown",
     "checksum": "6c05ced6069166c33b9cb6df9041e90b",
     "grade": false,
     "grade_id": "cell-91da48758199ff55",
     "locked": true,
     "points": 1,
     "schema_version": 3,
     "solution": false,
     "task": true
    }
   },
   "source": [
    "# Question 4: measuring tool (1 pt)\n",
    "\n",
    "What is the height, from ceiling to floor, of the explored building? We are looking for the overall dimensions of the building, not just of a single floor, so make sure that your extraction from Question 3 is properly made.\n"
   ]
  },
  {
   "cell_type": "markdown",
   "metadata": {},
   "source": [
    "Your answer here"
   ]
  }
 ],
 "metadata": {
  "kernelspec": {
   "display_name": "Python 3",
   "language": "python",
   "name": "python3"
  },
  "language_info": {
   "codemirror_mode": {
    "name": "ipython",
    "version": 3
   },
   "file_extension": ".py",
   "mimetype": "text/x-python",
   "name": "python",
   "nbconvert_exporter": "python",
   "pygments_lexer": "ipython3",
   "version": "3.7.6"
  }
 },
 "nbformat": 4,
 "nbformat_minor": 4
}
