{
 "cells": [
  {
   "cell_type": "markdown",
   "metadata": {
    "deletable": false,
    "editable": false,
    "nbgrader": {
     "cell_type": "markdown",
     "checksum": "b525b461ae60c8dad03c14b8c5c73469",
     "grade": false,
     "grade_id": "cell-415d67b2bc1a96d4",
     "locked": true,
     "schema_version": 3,
     "solution": false,
     "task": false
    }
   },
   "source": [
    "<p style=\"text-align: center;font-size: 40pt\">Assignment</p>\n",
    "<p style=\"text-align: center;font-size: 20pt\">What is happening with those companies?</p>"
   ]
  },
  {
   "cell_type": "markdown",
   "metadata": {
    "deletable": false,
    "editable": false,
    "nbgrader": {
     "cell_type": "markdown",
     "checksum": "fdc41f8263177a16a3a51b00c4e4e425",
     "grade": false,
     "grade_id": "cell-d2e5d41fc9d27320",
     "locked": true,
     "schema_version": 3,
     "solution": false,
     "task": false
    }
   },
   "source": [
    "# General remarks\n",
    "\n",
    "- **Expected time**: 4 hours\n",
    "- **Goal**: to understand the social and technical implications of autonomous vehicles\n",
    "\n",
    "Requirements:\n",
    "- [Historical notes on autonomous cars](../../../lessons/autonomous_vehicles/1-lesson_history.ipynb)\n",
    "\n",
    "As seen in our highlight of autonomous car milestones, there was a boom of activities after 2010.\n",
    "So much so it is getting harder to have a high-level overview of what is going on.\n",
    "This assignment is there to make you focus on a few of those companies instead of the overall ecosystem.\n",
    "It is a way to go deeper in your general understanding of autonomous cars, while following your own interests.\n",
    "Here is a partial list of current autonomous car companies given in no particular order:\n",
    "\n",
    "- Waymo: [Wikipedia](https://en.wikipedia.org/wiki/Waymo), [official website](https://waymo.com/)\n",
    "- Cruise LLC: [official website](https://getcruise.com/), [Wikipedia](https://en.wikipedia.org/wiki/Cruise_(autonomous_vehicle)), [Extra](https://www.gm.com/our-stories/self-driving-cars.html)\n",
    "- Argo AI: [official website](https://www.argo.ai/), [Extra](https://corporate.ford.com/company/autonomous-vehicles.html)\n",
    "- Uber: [official website](https://www.uber.com/us/en/atg/technology/), [Extra](https://medium.com/@UberATG/learning-from-the-past-to-move-forward-f4af566f2c3)\n",
    "- BMW: [official website](https://www.bmw.com/en/automotive-life/autonomous-driving.html)\n",
    "- Nissan: [official website](https://www.nissan-global.com/EN/TECHNOLOGY/), [Extra](https://www.nissanusa.com/experience-nissan/news-and-events/self-driving-autonomous-car.html)  \n",
    "- Tesla: [official website](https://www.tesla.com/autopilot), [Wikipedia](https://en.wikipedia.org/wiki/Tesla_Autopilot)\n",
    "- Mercedes-Benz: [official website](https://www.mercedes-benz.com/en/innovation/autonomous/research-vehicle-f-015-luxury-in-motion/)\n",
    "- Bosch: [official website](https://www.bosch-mobility-solutions.com/en/highlights/automated-mobility/)\n",
    "- Zoox: [official website](https://zoox.com/), [Wikipedia](https://en.wikipedia.org/wiki/Zoox_(company))\n",
    "- Nuro: [official website](https://nuro.ai/), [Wikipedia](https://en.wikipedia.org/wiki/Nuro)\n",
    "- Pony.ai: [official website](https://www.pony.ai/en/index.html), [Wikipedia](https://en.wikipedia.org/wiki/Pony.ai)\n",
    "- Aurora: [official website](https://aurora.tech/), [Wikipedia](https://en.wikipedia.org/wiki/Chris_Urmson)\n",
    "- Apple: [Wikipedia](https://en.wikipedia.org/wiki/Apple_electric_car_project), [external news](https://appleinsider.com/topic/project+titan)\n",
    "- WeRide: [official website](https://www.weride.ai/)\n",
    "- Zenuity: [official website](https://www.zenuity.com/)\n",
    "- Navya: [official website](https://navya.tech/)\n",
    "- EasyMile: [official website](https://easymile.com/)\n",
    "\n",
    "If one of them seems to not exist anymore, please let us know so we can update the list for the next time."
   ]
  },
  {
   "cell_type": "markdown",
   "metadata": {
    "deletable": false,
    "editable": false,
    "nbgrader": {
     "cell_type": "markdown",
     "checksum": "e0c956b0d12ec7efd45175346c447a20",
     "grade": false,
     "grade_id": "1",
     "locked": true,
     "points": 0,
     "schema_version": 3,
     "solution": false,
     "task": true
    }
   },
   "source": [
    "# Question - preamble (0 point)\n",
    "\n",
    "Choose, either from that list or from your own research, **three** companies that will be the focus of your assignment.\n",
    "Once your selection is done, you need to:\n",
    "1. Mark your territory: write on the Slack channel assigned to this module the name of your three companies.\n",
    "You cannot select a triplet already selected by another student.\n",
    "If there is a collision, the student with the earliest message timestamps from Slack wins.\n",
    "\n",
    "1. Write their name in the following cell.\n",
    "If you choose a company outside the list, add one sentence that explains why you consider it as an autonomous car company."
   ]
  },
  {
   "cell_type": "markdown",
   "metadata": {},
   "source": [
    "Answer:\n",
    "\n",
    "1. {Your company name 1}\n",
    "1. {Your company name 2}\n",
    "1. {Your company name 3}"
   ]
  },
  {
   "cell_type": "markdown",
   "metadata": {
    "deletable": false,
    "editable": false,
    "nbgrader": {
     "cell_type": "markdown",
     "checksum": "9bdb3331fd2235994fd941aef4f11f2f",
     "grade": false,
     "grade_id": "2",
     "locked": true,
     "points": 1,
     "schema_version": 3,
     "solution": false,
     "task": true
    }
   },
   "source": [
    "# Question - facts (1 point)\n",
    "\n",
    "For each of the companies, fill a table with the following information:\n",
    "1. Foundation date\n",
    "1. Approximative number of employees\n",
    "1. Official website\n",
    "1. Total amount in investment rounds\n",
    "1. Headquarters location\n",
    "1. Number of Twitter followers\n",
    "\n",
    "If the information is not applicable, shortly explain why.\n",
    "Don't forget to link to your sources using Markdown hyperlinks, such as:\n",
    "```\n",
    "[this is a link](http:a.link.com)\n",
    "```"
   ]
  },
  {
   "cell_type": "markdown",
   "metadata": {},
   "source": [
    "Answer:\n",
    "\n",
    "|                 |{Your company name 1}|{Your company name 2}|{Your company name 3}|\n",
    "|:-----           |:----:               |:----:               |:----:               |\n",
    "|Date             |                     |                     |                     |\n",
    "|Nb employees     |                     |                     |                     |\n",
    "|Official website |                     |                     |                     |\n",
    "|Investments      |                     |                     |                     |\n",
    "|Location         |                     |                     |                     |\n",
    "|Nb followers     |                     |                     |                     |"
   ]
  },
  {
   "cell_type": "markdown",
   "metadata": {
    "deletable": false,
    "editable": false,
    "nbgrader": {
     "cell_type": "markdown",
     "checksum": "e48e994ad026bb793276e78e4b420cec",
     "grade": false,
     "grade_id": "3",
     "locked": true,
     "points": 1,
     "schema_version": 3,
     "solution": false,
     "task": true
    }
   },
   "source": [
    "# Question - Systems and partnerships (1 points)\n",
    "\n",
    "For each company, describe in roughly 10 sentences their main vehicle.\n",
    "Focus on the shape, size, weight, sensors, targeted audience, to name few.\n",
    "Make sure that your sources are credible and link them using Markdown.\n",
    "Add a photo in the folder `image/` and add them to your text using :\n",
    "```html\n",
    "<img src=\"images/photo_of_a_vehicle.jpg\" width=\"50%\">\n",
    "```\n",
    "List public partnerships with other companies or university."
   ]
  },
  {
   "cell_type": "markdown",
   "metadata": {},
   "source": [
    "## {Your company name 1}\n",
    "\n",
    "Your text here (~ 10 sentences)\n",
    "\n",
    "<img src=\"images/photo_of_a_vehicle.jpg\" width=\"50%\">\n",
    "\n",
    "Partnerships:\n",
    "- example\n",
    "- example"
   ]
  },
  {
   "cell_type": "markdown",
   "metadata": {},
   "source": [
    "## {Your company name 2}\n",
    "\n",
    "Your text here (~ 10 sentences)\n",
    "\n",
    "<img src=\"images/photo_of_a_vehicle.jpg\" width=\"50%\">\n",
    "\n",
    "Partnerships:\n",
    "- example\n",
    "- example"
   ]
  },
  {
   "cell_type": "markdown",
   "metadata": {},
   "source": [
    "## {Your company name 3}\n",
    "\n",
    "Your text here\n",
    "\n",
    "<img src=\"images/photo_of_a_vehicle.jpg\" width=\"50%\">\n",
    "\n",
    "Partnerships:\n",
    "- example\n",
    "- example"
   ]
  },
  {
   "cell_type": "markdown",
   "metadata": {
    "deletable": false,
    "editable": false,
    "nbgrader": {
     "cell_type": "markdown",
     "checksum": "9f13c39f76ee314d23abded51648c315",
     "grade": false,
     "grade_id": "4",
     "locked": true,
     "points": 2,
     "schema_version": 3,
     "solution": false,
     "task": true
    }
   },
   "source": [
    "# Question - Analysis (2 points)\n",
    "\n",
    "For all companies, describe what are the expected benefits of their product to the target audience.\n",
    "In a second section, describe what would be the drawbacks of their product on other economic sectors or group of people.\n",
    "This idea is to make direct links to companies you selected, not general statements.\n",
    "\n",
    "- _Hint_: Look at [this section of Wikipedia](https://en.wikipedia.org/wiki/Self-driving_car#Potential_changes_for_different_industries) to get you started."
   ]
  },
  {
   "cell_type": "markdown",
   "metadata": {},
   "source": [
    "## Benefits\n",
    "\n",
    "Your text here (~ 10 sentences)"
   ]
  },
  {
   "cell_type": "markdown",
   "metadata": {},
   "source": [
    "## Drawbacks\n",
    "\n",
    "Your text here (~ 10 sentences)"
   ]
  },
  {
   "cell_type": "markdown",
   "metadata": {
    "deletable": false,
    "editable": false,
    "nbgrader": {
     "cell_type": "markdown",
     "checksum": "feaf51dcf9f136e21881d6afc6ca395c",
     "grade": false,
     "grade_id": "5",
     "locked": true,
     "points": 1,
     "schema_version": 3,
     "solution": false,
     "task": true
    }
   },
   "source": [
    "# Question - Investigation (1 point)\n",
    "\n",
    "Find connections between your selection of companies and milestones described in the lesson on the history of autonomous cars or between current companies.\n",
    "\n",
    "- _Hint_: look at the name of people in teams or research groups, names of laboratories, names of universities, etc.\n",
    "It is a small world, you will be surprised."
   ]
  },
  {
   "cell_type": "markdown",
   "metadata": {},
   "source": [
    "Your answer"
   ]
  }
 ],
 "metadata": {
  "kernelspec": {
   "display_name": "Python 3",
   "language": "python",
   "name": "python3"
  },
  "language_info": {
   "codemirror_mode": {
    "name": "ipython",
    "version": 3
   },
   "file_extension": ".py",
   "mimetype": "text/x-python",
   "name": "python",
   "nbconvert_exporter": "python",
   "pygments_lexer": "ipython3",
   "version": "3.7.6"
  }
 },
 "nbformat": 4,
 "nbformat_minor": 4
}
