{
 "cells": [
  {
   "cell_type": "markdown",
   "metadata": {
    "deletable": false,
    "editable": false,
    "nbgrader": {
     "cell_type": "markdown",
     "checksum": "4a3f5215ee6e4a5ff7276587e4ffb413",
     "grade": false,
     "grade_id": "cell-92bb322ba309189e",
     "locked": true,
     "schema_version": 3,
     "solution": false,
     "task": false
    }
   },
   "source": [
    "<p style=\"text-align: center;font-size: 40pt\">Exercises</p>\n",
    "<p style=\"text-align: center;font-size: 20pt\">Overview of lidars</p>"
   ]
  },
  {
   "cell_type": "markdown",
   "metadata": {
    "deletable": false,
    "editable": false,
    "nbgrader": {
     "cell_type": "markdown",
     "checksum": "23bbd900093c67928ae4062dc96cf43c",
     "grade": false,
     "grade_id": "cell-bb5fcaed7ec45d9f",
     "locked": true,
     "schema_version": 3,
     "solution": false,
     "task": false
    }
   },
   "source": [
    "# Exercise: lidar data analysis (15 min)"
   ]
  },
  {
   "cell_type": "markdown",
   "metadata": {
    "deletable": false,
    "editable": false,
    "nbgrader": {
     "cell_type": "markdown",
     "checksum": "e28f6776e350da00da63349721409b37",
     "grade": false,
     "grade_id": "1",
     "locked": true,
     "points": 2,
     "schema_version": 3,
     "solution": false,
     "task": true
    }
   },
   "source": [
    "## Subquestion\n",
    "You just bought a new lidar and you are really excited.\n",
    "In order to try it, you scan your living room.\n",
    "Here is a picture of your living room and of the resulting scan:\n",
    "\n",
    "<p style=\"text-align: center; margin-bottom: 30pt;\">\n",
    "<img src=\"images/living_room.jpg\" width=\"65%\"/>\n",
    "<br/>\n",
    "Living room picture.\n",
    "</p>\n",
    "\n",
    "<p style=\"text-align: center; margin-bottom: 30pt;\">\n",
    "<img src=\"images/living_room_same_view.png\" width=\"65%\"/>\n",
    "<br/>\n",
    "Living room scan.\n",
    "</p>\n",
    "\n",
    "You are really happy of the result.\n",
    "However, after visualizing the scan from different angles, you notice something strange.\n",
    "There seems to be something outside your apartment, in front of your window:\n",
    "\n",
    "<p style=\"text-align: center; margin-bottom: 30pt;\">\n",
    "<img src=\"images/living_room_higher_view.png\" width=\"65%\"/>\n",
    "<br/>\n",
    "Living room scan, seen from higher. The arrow indicates the points outside your apartment.\n",
    "</p>\n",
    "\n",
    "<p style=\"text-align: center; margin-bottom: 30pt;\">\n",
    "<img src=\"images/living_room_side_view.png\" width=\"65%\"/>\n",
    "<br/>\n",
    "Living room scan, seen from the side. The arrow indicates the points outside your apartment.\n",
    "</p>\n",
    "\n",
    "<p style=\"text-align: center; margin-bottom: 30pt;\">\n",
    "<img src=\"images/living_room_top_view.png\" width=\"65%\"/>\n",
    "<br/>\n",
    "Living room scan, seen from above. The arrow indicates the points outside your apartment.\n",
    "</p>\n",
    "\n",
    "After seeing this, you open your window and look outside, but you see nothing.\n",
    "How can you explain those points in the scan?\n",
    "Is your lidar broken?\n"
   ]
  },
  {
   "cell_type": "markdown",
   "metadata": {},
   "source": []
  },
  {
   "cell_type": "markdown",
   "metadata": {
    "deletable": false,
    "editable": false,
    "nbgrader": {
     "cell_type": "markdown",
     "checksum": "92eee5ae8fd8c1331000a165707b4a4e",
     "grade": false,
     "grade_id": "2",
     "locked": true,
     "points": 2,
     "schema_version": 3,
     "solution": false,
     "task": true
    }
   },
   "source": [
    "## Subquestion\n",
    "Afterward, you decide to try your lidar near a staircase.\n",
    "You take two scans, but once again, when you look at the results, you notice something strange.\n",
    "Some objects do not have the same shape on the first and the second scan.\n",
    "\n",
    "<p style=\"text-align: center; margin-bottom: 30pt;\">\n",
    "<img src=\"images/first_image.png\" width=\"50%\"/>\n",
    "<br/>\n",
    "First staircase scan (seen from above).\n",
    "The arrows indicate the differences between the two scans and the X mark indicates where the scan was taken.\n",
    "</p>\n",
    "\n",
    "<p style=\"text-align: center;\">\n",
    "<img src=\"images/second_image.png\" width=\"50%\"/>\n",
    "<br/>\n",
    "Second staircase scan (seen from above).\n",
    "The arrows indicate the differences between the two scans and the X mark indicates where the scan was taken.\n",
    "</p>\n",
    "\n",
    "How can you explain those differences?\n"
   ]
  },
  {
   "cell_type": "markdown",
   "metadata": {},
   "source": []
  },
  {
   "cell_type": "markdown",
   "metadata": {
    "deletable": false,
    "editable": false,
    "nbgrader": {
     "cell_type": "markdown",
     "checksum": "fed94d1aa4c730d0affd0030e18bd129",
     "grade": false,
     "grade_id": "3",
     "locked": true,
     "points": 4,
     "schema_version": 3,
     "solution": false,
     "task": true
    }
   },
   "source": [
    "# Exercise: lidar specifications (30 min) <a id=\"exercise-lidar-specifications\"/>\n",
    "You really like lidars, so you decide to buy another one.\n",
    "After a few hours of searching on Internet, you end up with two models that you like: the OS0-32 by Ouster and the HDL-32E by Velodyne (yes, you guessed it, both sensors have 32 channels).\n",
    "In order to choose one of them, you have to build a table to compare their specifications.\n",
    "To do so, read carefully their datasheets ([OS0-32, OS0-64 and OS0-128 datasheet](http://data.ouster.io/downloads/OS0-lidar-sensor-datasheet.pdf?__hstc=34987006.2f8e88980e42ec09148713f5d7d3cfa2.1592103231915.1592769064873.1593279265969.3&__hssc=34987006.1.1593279265969&__hsfp=3163026173) - [HDL-32E datasheet](https://autonomoustuff.com/wp-content/uploads/2019/05/HDL-32E_Datasheet_whitelabel.pdf)) and find/compute the specifications of both sensors.\n",
    "Consider that the lidar you buy will be used to scan [lambertian surfaces](https://en.wikipedia.org/wiki/Lambertian_reflectance) that are 80 % reflective and that only one return per pulse will be recorded (no multiple echoes).\n",
    "Table entries marked with an *X* are not necessary and those marked with an *=* need to be computed.\n"
   ]
  },
  {
   "cell_type": "markdown",
   "metadata": {},
   "source": [
    "|            Specification            |          OS0-32          |          HDL32-E         |\n",
    "|:-----------------------------------:|:------------------------:|:------------------------:|\n",
    "|        Beam divergence (deg)        |                          |             X            |\n",
    "|         Range accuracy (m)         |                          |                          |\n",
    "|  Horizontal angular accuracy (deg)  |                          |             X            |\n",
    "|   Vertical angular accuracy (deg)   |                          |             X            |\n",
    "|        Range resolution (m)        |                          |             X            |\n",
    "|    Horizontal field of view (deg)   |                          |                          |\n",
    "|     Vertical field of view (deg)    |                          |                          |\n",
    "| Horizontal angular resolution (deg) |             =            |                          |\n",
    "|  Vertical angular resolution (deg)  |             =            |                          |\n",
    "|        Horizontal resolution        |                          |             =            |\n",
    "|         Vertical resolution         |                          |             =            |\n",
    "|            Scan rate (Hz)           |                          |                          |\n",
    "|          Points per second          |                          |                          |\n",
    "|          Laser safety class         |                          |                          |\n",
    "|          Minimum range (m)          |                          |             X            |\n",
    "|          Maximum range (m)          |                          |                          |"
   ]
  }
 ],
 "metadata": {
  "kernelspec": {
   "display_name": "Python 3",
   "language": "python",
   "name": "python3"
  },
  "language_info": {
   "codemirror_mode": {
    "name": "ipython",
    "version": 3
   },
   "file_extension": ".py",
   "mimetype": "text/x-python",
   "name": "python",
   "nbconvert_exporter": "python",
   "pygments_lexer": "ipython3",
   "version": "3.6.9"
  },
  "toc-autonumbering": true
 },
 "nbformat": 4,
 "nbformat_minor": 4
}
