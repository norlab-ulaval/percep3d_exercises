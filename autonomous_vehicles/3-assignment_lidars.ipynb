{
 "cells": [
  {
   "cell_type": "markdown",
   "metadata": {
    "deletable": false,
    "editable": false,
    "nbgrader": {
     "cell_type": "markdown",
     "checksum": "ba8785d5320c1f49a81b4d7975833359",
     "grade": false,
     "grade_id": "cell-5a0ce0b36b0ae0c6",
     "locked": true,
     "schema_version": 3,
     "solution": false,
     "task": false
    }
   },
   "source": [
    "<p style=\"text-align: center;font-size: 40pt\">Assignment</p>\n",
    "<p style=\"text-align: center;font-size: 20pt\">Analysis of commercial lidars</p>"
   ]
  },
  {
   "cell_type": "code",
   "execution_count": null,
   "metadata": {},
   "outputs": [],
   "source": [
    "import matplotlib.pyplot as plt\n",
    "import numpy as np\n",
    "import pandas as pd\n",
    "\n",
    "%run ./scripts/helper_func.py\n",
    "path = \"{0}/common/scripts/style.py\".format(get_root_path())\n",
    "%run $path"
   ]
  },
  {
   "cell_type": "markdown",
   "metadata": {
    "deletable": false,
    "editable": false,
    "nbgrader": {
     "cell_type": "markdown",
     "checksum": "c0018fdcc1d90aa1fd4a2bee05c4cdab",
     "grade": false,
     "grade_id": "cell-154ce974391afd4a",
     "locked": true,
     "schema_version": 3,
     "solution": false,
     "task": false
    }
   },
   "source": [
    "# General remarks\n",
    "\n",
    "- **Expected time**: 4 hours\n",
    "- **Goal**: to understand the basic operation of a lidar\n",
    "\n",
    "Requirements:\n",
    "- [Overview of lidars](../../lessons/autonomous_vehicles/5-lesson_lidars.ipynb)\n",
    "\n",
    "In 2013, I produced the following graph to understand a bit the market of lidars.\n",
    "Unfortunately, most of those products are either discontinued or the manufacturer closed.\n",
    "This is not because lidars are dead, as some would like to believe, but rather because it is a new market and many new companies launch products and get bought by larger companies.\n",
    "\n",
    "<p style=\"text-align: center;\">\n",
    "    <img src=\"images/lidar_overview_2013.jpg\" width=\"40%\" alt=\"\">\n",
    "    <br>\n",
    "</p>\n",
    "\n",
    "As we are living in a wave of technology related to range measurement, this assignment is intended to stay agile and to follow trends.\n",
    "You will have to reproduce this kind of graph with your own data collected mostly from data sheets.\n",
    "It is a way to go deeper in your general understanding of lidars, while being free enough to follow your own interests.\n",
    "Lidars and depth cameras are not limited to autonomous cars.\n",
    "They are used in the gaming industry, aerial survey, entertainment, road safety, construction, and so on.\n",
    "In case you don't have any special interest, here is a partial list of current lidar companies given in no particular order:\n",
    "\n",
    "- Mesa Imaging \n",
    "- PMD \n",
    "- ASUS \n",
    "- Microsoft \n",
    "- Occular Robotics\n",
    "- Hokuyo \n",
    "- Sick \n",
    "- Velodyne\n",
    "- FARO \n",
    "- Leica\n",
    "- Riegl \n",
    "- Topcon\n",
    "- Trimble\n",
    "- Optec \n",
    "- Zoller+Froehlich\n",
    "- Konica Minolta\n",
    "- LEAP\n",
    "- Panasonic\n",
    "- Nikon\n",
    "- Artec\n",
    "- NextEngine\n",
    "- Creaform\n",
    "- RoboSense\n",
    "- LeddarTech\n",
    "- LeiShen Intelligent System\n",
    "\n",
    "If one of them seems to not exist anymore, please let us know so we can update the list for the next time."
   ]
  },
  {
   "cell_type": "markdown",
   "metadata": {
    "deletable": false,
    "editable": false,
    "nbgrader": {
     "cell_type": "markdown",
     "checksum": "e0218fd82944c321cbc20a899244ea3f",
     "grade": false,
     "grade_id": "1",
     "locked": true,
     "points": 3,
     "schema_version": 3,
     "solution": false,
     "task": true
    }
   },
   "source": [
    "# Question - collecting data (3 points)\n",
    "\n",
    "You need to list the specification of at least **10 different lidars** from at least **4 different companies**.\n",
    "Of course, you cannot select the ones already given as examples.\n",
    "Use the following code block to enter your information.\n",
    "Here are some instructions to help you with corner cases:\n",
    "- If you face many specifications for the same lidar, use the most favorable one (e.g., minimum beam divergence, maximum range).\n",
    "- If you don't find a field, use `float('nan')` or an empty string `''`.\n",
    "- The release year of a product is usually not in data sheets but more in press releases.\n",
    "\n",
    "We are using [`pandas`](https://pandas.pydata.org/) to collect the information in a nicely organized table.\n",
    "For this assignment, you don't need to explicitly learn `pandas` since all the code is provided for you, so you can focus on searching the information.\n",
    "You can begin by filling the following table with the values you found in [the exercise on lidar specifications](1e-exercises_lidars.ipynb#exercise-lidar-specifications)."
   ]
  },
  {
   "cell_type": "code",
   "execution_count": null,
   "metadata": {},
   "outputs": [],
   "source": [
    "index = ['Company name',\n",
    "         'Year',\n",
    "         'Minimum range (m)',\n",
    "         'Maximum range (m)',\n",
    "         'Range resolution (m)',\n",
    "         'Volume (m^3)',\n",
    "         'Weight (kg)',\n",
    "         'Beam divergence (deg)',\n",
    "         'Range accuracy (m)',\n",
    "         'Horizontal field of view (deg)',\n",
    "         'Vertical field of view (deg)',\n",
    "         'Scan rate (Hz)',\n",
    "         'Points per second',\n",
    "         'Laser safety class',\n",
    "        ]\n",
    "df_lidars = pd.DataFrame(index=index)\n",
    "\n",
    "df_lidars['OS0-32'] = pd.Series({\n",
    "                   'Company name':'Ouster',\n",
    "                           'Year':2020,\n",
    "              'Minimum range (m)':-1,\n",
    "              'Maximum range (m)':-1,\n",
    "           'Range resolution (m)':-1,\n",
    "                   'Volume (m^3)':(np.pi*(0.085)**2)*0.058,\n",
    "                    'Weight (kg)':0.368,\n",
    "          'Beam divergence (deg)':-1,\n",
    "             'Range accuracy (m)':-1,\n",
    " 'Horizontal field of view (deg)':-1,\n",
    "   'Vertical field of view (deg)':-1,\n",
    "                 'Scan rate (Hz)':-1,\n",
    "              'Points per second':-1,\n",
    "             'Laser safety class':-1,\n",
    "})\n",
    "\n",
    "df_lidars['HDL32-E'] = pd.Series({\n",
    "                   'Company name':'Velodyne',\n",
    "                           'Year':2010,\n",
    "              'Minimum range (m)':float('nan'),\n",
    "              'Maximum range (m)':-1,\n",
    "           'Range resolution (m)':float('nan'),\n",
    "                   'Volume (m^3)':(np.pi*(0.085)**2)*0.144,\n",
    "                    'Weight (kg)':1.0,\n",
    "          'Beam divergence (deg)':float('nan'),\n",
    "             'Range accuracy (m)':-1,\n",
    " 'Horizontal field of view (deg)':-1,\n",
    "   'Vertical field of view (deg)':-1,\n",
    "                 'Scan rate (Hz)':-1,\n",
    "              'Points per second':-1,\n",
    "             'Laser safety class':-1,\n",
    "})\n",
    "\n",
    "# 1- Add ten other lidars here\n",
    "# YOUR CODE HERE\n",
    "\n",
    "# This will print your table nicely\n",
    "df_lidars"
   ]
  },
  {
   "cell_type": "markdown",
   "metadata": {
    "deletable": false,
    "editable": false,
    "nbgrader": {
     "cell_type": "markdown",
     "checksum": "87b530602a25a5d054d9da26742478d5",
     "grade": false,
     "grade_id": "2",
     "locked": true,
     "points": 1,
     "schema_version": 3,
     "solution": false,
     "task": true
    }
   },
   "source": [
    "# Question - looking for trends (1 point)\n",
    "\n",
    "Use the following code block to find two trends in your data.\n",
    "You can modify those plots to suit your needs, as they were only produced to get you started rapidly.\n",
    "For example, sometimes some values are clearer when using log scale on one axis (or on both) using:\n",
    "```python\n",
    "ax.set_yscale('log')\n",
    "```\n",
    "\n",
    "Negative results (i.e., the lack of trend where there should be one) are also accepted.\n",
    "Use the markdown block under the code to give explanations on both of your graph using between five and ten sentences for each one."
   ]
  },
  {
   "cell_type": "code",
   "execution_count": null,
   "metadata": {},
   "outputs": [],
   "source": [
    "# 2- Change those string to explore other relations\n",
    "\n",
    "# graph on the left\n",
    "l_display_x = 'Year'\n",
    "l_display_y = 'Weight (kg)'\n",
    "l_size = 'Maximum range (m)'\n",
    "\n",
    "# graph on the right\n",
    "r_display_x = 'Volume (m^3)'\n",
    "r_display_y = 'Range accuracy (m)'\n",
    "r_size = 'Points per second'\n",
    "\n",
    "# Plotting\n",
    "if 'fig' in globals():\n",
    "    plt.close(fig)\n",
    "\n",
    "fig = plt.figure(figsize=(14,7))\n",
    "\n",
    "#------------------------\n",
    "ax1 = fig.add_subplot(121)\n",
    "ax = ax1\n",
    "\n",
    "sc = ax.scatter(df_lidars.loc[l_display_x], df_lidars.loc[l_display_y], \n",
    "                c=df_lidars.loc[l_size].astype(float))\n",
    "ax.set_xlabel(l_display_x)\n",
    "ax.set_ylabel(l_display_y)\n",
    "cbar = fig.colorbar(sc)\n",
    "cbar.ax.set_ylabel(l_size);\n",
    "\n",
    "ax2 = fig.add_subplot(122)\n",
    "ax = ax2\n",
    "\n",
    "sc = ax.scatter(df_lidars.loc[r_display_x], df_lidars.loc[r_display_y], \n",
    "                c=df_lidars.loc[r_size].astype(float))\n",
    "ax.set_xlabel(r_display_x)\n",
    "ax.set_ylabel(r_display_y)\n",
    "cbar = fig.colorbar(sc)\n",
    "cbar.ax.set_ylabel(r_size);\n",
    "fig.tight_layout()"
   ]
  },
  {
   "cell_type": "markdown",
   "metadata": {},
   "source": [
    "## Explanations\n",
    "\n",
    "**Right graph**: YOUR ANSWER HERE\n",
    "\n",
    "**Left graph**: YOUR ANSWER HERE"
   ]
  },
  {
   "cell_type": "markdown",
   "metadata": {
    "deletable": false,
    "editable": false,
    "nbgrader": {
     "cell_type": "markdown",
     "checksum": "eacd6f49c3e29e3cb8ae4461b78aab04",
     "grade": false,
     "grade_id": "3",
     "locked": true,
     "points": 1,
     "schema_version": 3,
     "solution": false,
     "task": true
    }
   },
   "source": [
    "# Safety (1 point)\n",
    "\n",
    "Using between five and ten sentences, discuss the safety of the lidars you selected.\n",
    "You are not limited to them, but here are some questions to get you started:\n",
    "- which one of your lidars is the safest, most dangerous, why?\n",
    "- what should you **not do** with a lidar?"
   ]
  },
  {
   "cell_type": "markdown",
   "metadata": {},
   "source": [
    "YOUR ANSWER HERE"
   ]
  }
 ],
 "metadata": {
  "kernelspec": {
   "display_name": "Python 3",
   "language": "python",
   "name": "python3"
  },
  "language_info": {
   "codemirror_mode": {
    "name": "ipython",
    "version": 3
   },
   "file_extension": ".py",
   "mimetype": "text/x-python",
   "name": "python",
   "nbconvert_exporter": "python",
   "pygments_lexer": "ipython3",
   "version": "3.6.9"
  }
 },
 "nbformat": 4,
 "nbformat_minor": 4
}
