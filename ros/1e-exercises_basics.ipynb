{
 "cells": [
  {
   "cell_type": "markdown",
   "metadata": {
    "deletable": false,
    "editable": false,
    "nbgrader": {
     "cell_type": "markdown",
     "checksum": "0ab906e97206652bf0ffbed2842fac34",
     "grade": false,
     "grade_id": "cell-3595c9f4e7fb940d",
     "locked": true,
     "schema_version": 3,
     "solution": false,
     "task": false
    },
    "slideshow": {
     "slide_type": "slide"
    }
   },
   "source": [
    "<p style=\"text-align: center;font-size: 40pt\">Exercises</p>\n",
    "<p style=\"text-align: center;font-size: 20pt\">ROS basics</p>"
   ]
  },
  {
   "cell_type": "markdown",
   "metadata": {
    "deletable": false,
    "editable": false,
    "nbgrader": {
     "cell_type": "markdown",
     "checksum": "c6c660ad554f95bf1aeb79fbd52007c0",
     "grade": false,
     "grade_id": "cell-46589334d688b42e",
     "locked": true,
     "schema_version": 3,
     "solution": false,
     "task": false
    }
   },
   "source": [
    "In these exercises, we will practice some basic commands and tools useful for using ROS."
   ]
  },
  {
   "cell_type": "markdown",
   "metadata": {
    "deletable": false,
    "editable": false,
    "nbgrader": {
     "cell_type": "markdown",
     "checksum": "e1de27f832701b56dccf6b19ee9729e1",
     "grade": false,
     "grade_id": "cell-46589334d688b42f",
     "locked": true,
     "schema_version": 3,
     "solution": false,
     "task": false
    }
   },
   "source": [
    "# Prerequisites for this exercise\n",
    "\n",
    "You have already went through the [ROS tutorials 1. to 6.](http://wiki.ros.org/ROS/Tutorials), so the following commands should be familiar to you.\n",
    "We will need some basic ROS system running and we will re-use the turtle tutorials for this.\n",
    "In your virtual machine, open three terminals or preferably three tabs in one terminal window and run these commands, each in a separate terminal:\n",
    "\n",
    "- `$ roscore`\n",
    "- `$ rosrun turtlesim turtlesim_node`\n",
    "- `$ rosrun turtlesim turtle_teleop_key`\n",
    "\n",
    "You should see this:\n",
    "\n",
    "<img src=\"images/turtle_running_basic_exercise.png\" width=\"50%\" style=\"display:block; margin: 0 auto;\" />\n",
    "\n",
    "You can play for a little while with the turtle as in the ROS tutorial [6. Understanding ROS Topics](http://wiki.ros.org/ROS/Tutorials/UnderstandingTopics), but at some point work needs to be done... so proceed to the actual exercises."
   ]
  },
  {
   "cell_type": "markdown",
   "metadata": {
    "deletable": false,
    "editable": false,
    "nbgrader": {
     "cell_type": "markdown",
     "checksum": "e6db42b67d28594f516f695d097e2ec2",
     "grade": false,
     "grade_id": "cell-46589334d688b42g",
     "locked": true,
     "points": 1,
     "schema_version": 3,
     "solution": false,
     "task": true
    }
   },
   "source": [
    "# Exercise: See what nodes are running (10 min)\n",
    "\n",
    "List all the nodes currently running and copy paste the list to the cell below:\n"
   ]
  },
  {
   "cell_type": "markdown",
   "metadata": {},
   "source": []
  },
  {
   "cell_type": "markdown",
   "metadata": {
    "deletable": false,
    "editable": false,
    "nbgrader": {
     "cell_type": "markdown",
     "checksum": "a81b5b2e249bd5650503bfa8515254f1",
     "grade": false,
     "grade_id": "cell-93df0294eb7e353a",
     "locked": true,
     "points": 1,
     "schema_version": 3,
     "solution": false,
     "task": true
    }
   },
   "source": [
    "# Exercise: See what topics are present (10 min)\n",
    "\n",
    "The nodes you have launched and listed in the previous answer communicate one to another through ROS topics.\n",
    "Using the appropriate command line, list all the topics available and copy paste them in the next cell:\n"
   ]
  },
  {
   "cell_type": "markdown",
   "metadata": {},
   "source": []
  },
  {
   "cell_type": "markdown",
   "metadata": {
    "deletable": false,
    "editable": false,
    "nbgrader": {
     "cell_type": "markdown",
     "checksum": "08f6528ceed7a0cb7b993f4326a8c972",
     "grade": false,
     "grade_id": "cell-626d46d2b0626351",
     "locked": true,
     "points": 1,
     "schema_version": 3,
     "solution": false,
     "task": true
    }
   },
   "source": [
    "# Exercise: See what is going on with the turtle (10 min)\n",
    "\n",
    "The node which draws the turtle on the screen also publishes some topics.\n",
    "One of them contains current pose of the turtle (i.e., its coordinates).\n",
    "Print the content of one message of this topic to a terminal using the appropriate command line.\n",
    "Copy paste this contente into the cell below:\n"
   ]
  },
  {
   "cell_type": "markdown",
   "metadata": {},
   "source": []
  },
  {
   "cell_type": "markdown",
   "metadata": {
    "deletable": false,
    "editable": false,
    "nbgrader": {
     "cell_type": "markdown",
     "checksum": "b75a2ffeb8bd5dd66279dc519526b7f8",
     "grade": false,
     "grade_id": "cell-1db7b806d1a63382",
     "locked": true,
     "schema_version": 3,
     "solution": false,
     "task": false
    }
   },
   "source": [
    "# Exercise: See the ROS network of nodes (15 min)\n",
    "\n",
    "So far, we have been using a terminal to see what is running and happening in the ROS system.\n",
    "But as you know from the tutorials, there are several graphical tools to help you quickly investigate the status of the ROS system.\n",
    "Let's focus on `rqt_graph`. \n",
    "The interface keep its last status saved, so to make sure that everybody start with the same interface, run it using:\n",
    "```\n",
    "$ rqt_graph --clear-config\n",
    "```\n",
    "By default, the interface hides some parts of the graph, so there is not much to see:\n",
    "\n",
    "<img src=\"images/rqt_graph_exercise.png\" width=\"50%\" style=\"display:block; margin: 0 auto;\" />"
   ]
  },
  {
   "cell_type": "markdown",
   "metadata": {
    "deletable": false,
    "editable": false,
    "nbgrader": {
     "cell_type": "markdown",
     "checksum": "dbbf1074b36ec7c907f2c4578eec5c32",
     "grade": false,
     "grade_id": "cell-1db7b806d1a63383",
     "locked": true,
     "points": 1,
     "schema_version": 3,
     "solution": false,
     "task": true
    }
   },
   "source": [
    "## Subquestion:\n",
    "\n",
    "What are the settings in the tool window to see the `/turtle1/color_sensor` topic?\n"
   ]
  },
  {
   "cell_type": "markdown",
   "metadata": {},
   "source": []
  },
  {
   "cell_type": "markdown",
   "metadata": {
    "deletable": false,
    "editable": false,
    "nbgrader": {
     "cell_type": "markdown",
     "checksum": "e4a3ec4f5ac538f8033d6710e3f08908",
     "grade": false,
     "grade_id": "cell-f81f6db87a8c45be",
     "locked": true,
     "points": 1,
     "schema_version": 3,
     "solution": false,
     "task": true
    }
   },
   "source": [
    "## Subquestion:\n",
    "\n",
    "What additional settings are necessary to see the `rosout` node in the graph?\n"
   ]
  },
  {
   "cell_type": "markdown",
   "metadata": {},
   "source": []
  }
 ],
 "metadata": {
  "kernelspec": {
   "display_name": "Python 3",
   "language": "python",
   "name": "python3"
  },
  "language_info": {
   "codemirror_mode": {
    "name": "ipython",
    "version": 3
   },
   "file_extension": ".py",
   "mimetype": "text/x-python",
   "name": "python",
   "nbconvert_exporter": "python",
   "pygments_lexer": "ipython3",
   "version": "3.8.2"
  },
  "toc-showtags": false
 },
 "nbformat": 4,
 "nbformat_minor": 4
}
