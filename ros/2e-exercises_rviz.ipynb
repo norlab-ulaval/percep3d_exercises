{
 "cells": [
  {
   "cell_type": "markdown",
   "metadata": {
    "deletable": false,
    "editable": false,
    "nbgrader": {
     "cell_type": "markdown",
     "checksum": "649de7196fb9eec7a71cf386b31148fa",
     "grade": false,
     "grade_id": "cell-3595c9f4e7fb940d",
     "locked": true,
     "schema_version": 3,
     "solution": false,
     "task": false
    },
    "slideshow": {
     "slide_type": "slide"
    }
   },
   "source": [
    "<p style=\"text-align: center;font-size: 40pt\">Exercises</p>\n",
    "<p style=\"text-align: center;font-size: 20pt\">RVIZ - 3D visualization tool for ROS</p>"
   ]
  },
  {
   "cell_type": "markdown",
   "metadata": {
    "deletable": false,
    "editable": false,
    "nbgrader": {
     "cell_type": "markdown",
     "checksum": "416cf157518257e24dd0de98dd61e2ee",
     "grade": false,
     "grade_id": "cell-46589334d688b42e",
     "locked": true,
     "schema_version": 3,
     "solution": false,
     "task": false
    }
   },
   "source": [
    "# Exercise: Inspect other point clouds (20 min)\n",
    "\n",
    "There are more ROS topics with point cloud messages in the rosbag file besides the one we presented (`/rslidar16_points`).\n",
    "Let's see if you can find out a few things about them...\n",
    "You will have to run the rosbag as in the lesson:\n",
    "\n",
    "```\n",
    "$ rosparam set use_sim_time true\n",
    "$ rosbag play --clock -l ~/percep3d_data/husky_short_demo.bag\n",
    "```"
   ]
  },
  {
   "cell_type": "markdown",
   "metadata": {
    "deletable": false,
    "editable": false,
    "nbgrader": {
     "cell_type": "markdown",
     "checksum": "c63d8afca9cc1f59e416e9634f01be4a",
     "grade": false,
     "grade_id": "cell-46589334d688b42f",
     "locked": true,
     "points": 1,
     "schema_version": 3,
     "solution": false,
     "task": true
    }
   },
   "source": [
    "## Subquestion: \n",
    "What are the names of these additional point cloud topics?\n",
    "\n",
    "_Hint_: Rviz will help you or you can also inspect the output of `rostopic list -v` in a terminal.\n",
    "The flag `-v` is for verbose and will add information, including the type for each message.\n"
   ]
  },
  {
   "cell_type": "markdown",
   "metadata": {},
   "source": []
  },
  {
   "cell_type": "markdown",
   "metadata": {
    "deletable": false,
    "editable": false,
    "nbgrader": {
     "cell_type": "markdown",
     "checksum": "0728e907381cf4e0c5557e8c1959df25",
     "grade": false,
     "grade_id": "cell-93df0294eb7e353a",
     "locked": true,
     "points": 1,
     "schema_version": 3,
     "solution": false,
     "task": true
    }
   },
   "source": [
    "## Subquestion: \n",
    "These point cloud topics come from RGBD sensors, which use stereo vision to extract depth from classical digital camera images (contrary to the previous, laser-based sensor).\n",
    "Since the sensor has both depth information and image data at hand, it produces an augmented point cloud where each point contains the color information.\n",
    "Rviz can display color point clouds, try to figure out what settings are needed achieve that with the Point Cloud display:\n"
   ]
  },
  {
   "cell_type": "markdown",
   "metadata": {},
   "source": []
  },
  {
   "cell_type": "markdown",
   "metadata": {
    "deletable": false,
    "editable": false,
    "nbgrader": {
     "cell_type": "markdown",
     "checksum": "241c0fb17dd61bc0290d46f0670eba20",
     "grade": false,
     "grade_id": "cell-1db7b806d1a63382",
     "locked": true,
     "points": 1,
     "schema_version": 3,
     "solution": false,
     "task": true
    }
   },
   "source": [
    "# Exercise: A different way to view images (10 min)\n",
    "\n",
    "We have shown you how to use the _Image_ display to view image topics in Rviz.\n",
    "Yet, there is another one, called _Camera_.\n",
    "It requires the same basic configuration as the _Image_ display, but its output is slightly different.\n",
    "\n",
    "Explain in the following cell what is the difference?\n"
   ]
  },
  {
   "cell_type": "markdown",
   "metadata": {},
   "source": []
  },
  {
   "cell_type": "markdown",
   "metadata": {
    "deletable": false,
    "editable": false,
    "nbgrader": {
     "cell_type": "markdown",
     "checksum": "2373391c6e419df63a999c3e020f0b61",
     "grade": false,
     "grade_id": "cell-f81f6db87a8c45be",
     "locked": true,
     "points": 2,
     "schema_version": 3,
     "solution": false,
     "task": true
    }
   },
   "source": [
    "# Exercise: One more display type (20 min)\n",
    "\n",
    "To demonstrate one more useful display capability of Rviz, we have artificially inserted the `/visualization_marker_array` topic into it.\n",
    "Try to figure out by yourself how to display it in Rviz.\n",
    "\n",
    "Write in the following cell what **display type** did you used to visualize the topic and what does it show in Rviz?\n",
    "\n",
    "_Hint_: you can find out about topic properties by calling `rostopic info [topic_name]` on it.\n"
   ]
  },
  {
   "cell_type": "markdown",
   "metadata": {},
   "source": []
  }
 ],
 "metadata": {
  "kernelspec": {
   "display_name": "Python 3",
   "language": "python",
   "name": "python3"
  },
  "language_info": {
   "codemirror_mode": {
    "name": "ipython",
    "version": 3
   },
   "file_extension": ".py",
   "mimetype": "text/x-python",
   "name": "python",
   "nbconvert_exporter": "python",
   "pygments_lexer": "ipython3",
   "version": "3.7.6"
  },
  "toc-showtags": false
 },
 "nbformat": 4,
 "nbformat_minor": 4
}
