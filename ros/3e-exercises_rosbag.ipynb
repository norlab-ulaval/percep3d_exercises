{
 "cells": [
  {
   "cell_type": "markdown",
   "metadata": {
    "deletable": false,
    "editable": false,
    "nbgrader": {
     "cell_type": "markdown",
     "checksum": "7feb529077563c57e4275dc6b0e96059",
     "grade": false,
     "grade_id": "cell-3595c9f4e7fb940d",
     "locked": true,
     "schema_version": 3,
     "solution": false,
     "task": false
    },
    "slideshow": {
     "slide_type": "slide"
    }
   },
   "source": [
    "<p style=\"text-align: center;font-size: 40pt\">Exercises</p>\n",
    "<p style=\"text-align: center;font-size: 20pt\">Rosbag - saving and replaying ROS topics</p>"
   ]
  },
  {
   "cell_type": "markdown",
   "metadata": {
    "deletable": false,
    "editable": false,
    "nbgrader": {
     "cell_type": "markdown",
     "checksum": "150e8a6727deb7d6e138dff43435b3fe",
     "grade": false,
     "grade_id": "cell-46589334d688b42e",
     "locked": true,
     "points": 1,
     "schema_version": 3,
     "solution": false,
     "task": true
    }
   },
   "source": [
    "# Exercise: Using rosbag play (10 min)\n",
    "\n",
    "For this exercise, you will have to consult the documentation of the rosbag play tool (i.e., `rosbag play -h`).\n",
    "Write the command line that will play an imaginary bagfile named `my_bagfile.bag` with the following conditions:\n",
    "- playing only from its 100th second to its 300th second;\n",
    "- slowed down by half speed;\n",
    "- indefinitely in a loop; while also\n",
    "- publishing the _clock_ topic for simulated time.\n"
   ]
  },
  {
   "cell_type": "markdown",
   "metadata": {},
   "source": []
  },
  {
   "cell_type": "markdown",
   "metadata": {
    "deletable": false,
    "editable": false,
    "nbgrader": {
     "cell_type": "markdown",
     "checksum": "0c555f406f475ddf197f01a4d66354d7",
     "grade": false,
     "grade_id": "cell-1db7b806d1a63382",
     "locked": true,
     "points": 2,
     "schema_version": 3,
     "solution": false,
     "task": true
    }
   },
   "source": [
    "# Exercise: Recording a new bagfile (20 min)\n",
    "\n",
    "We don't have a robot for you to record a live topic, but thanks to rosbag play, you can still try rosbag record on your virtual machine.\n",
    "Run the rosbag play as in the rosbag lesson (with simulated time as well) with \n",
    "```\n",
    "$ rosparam set use_sim_time true\n",
    "$ rosbag play --clock --pause --delay=1.0 --rate=0.5 ~/percep3d_data/husky_short_demo.bag\n",
    "```\n",
    "\n",
    "The flag `--pause` will pause the bag waiting for you to press space bar on your keyboard.\n",
    "This will give you time to prepare your next command line.\n",
    "The flag `--delay` will delay the playback by one second after advertising the topics it will publish on.\n",
    "This gives time to all ROS nodes to subscribe the topics and catch all messages.\n",
    "Finally, `--rate` slows down the playback rate to allow the connected subscribers process all the data.\n",
    "\n",
    "Find the appropriate `rosbag record` command line that will create a new bagfile, which will contain only two topics called `/icp_odom` and `/imu_odom`.\n",
    "Keep this new bagfile for the next exercise. \n",
    "\n",
    "Using the command `ls -lh`, please report in the following cell what is the size of the new bagfile.\n",
    "\n",
    "- _Hint_: start by investigating possible flags using `rosbag record -h`.\n"
   ]
  },
  {
   "cell_type": "markdown",
   "metadata": {},
   "source": []
  },
  {
   "cell_type": "markdown",
   "metadata": {
    "deletable": false,
    "editable": false,
    "nbgrader": {
     "cell_type": "markdown",
     "checksum": "48e5967481505ea722a17d0b8e313647",
     "grade": false,
     "grade_id": "cell-f81f6db87a8c45be",
     "locked": true,
     "points": 2,
     "schema_version": 3,
     "solution": false,
     "task": true
    }
   },
   "source": [
    "# Exercise: Inspecting the new bagfile (5 min)\n",
    "\n",
    "It is a good practice to always check if our bagfile contains everything we expect it to contain.\n",
    "Especially before running a long and difficult experiment with real robots.\n",
    "Believe us, repeating such experiment just because we made a typo in a ROS topic name feels really silly...\n",
    "\n",
    "So, please insert the output of `rosbag info` of your new bagfile into the following answer cell.\n",
    "Does it contain the same number of messages (of the recorded topics) as the large source bagfile? \n"
   ]
  },
  {
   "cell_type": "markdown",
   "metadata": {},
   "source": []
  }
 ],
 "metadata": {
  "kernelspec": {
   "display_name": "Python 3",
   "language": "python",
   "name": "python3"
  },
  "language_info": {
   "codemirror_mode": {
    "name": "ipython",
    "version": 3
   },
   "file_extension": ".py",
   "mimetype": "text/x-python",
   "name": "python",
   "nbconvert_exporter": "python",
   "pygments_lexer": "ipython3",
   "version": "3.7.6"
  },
  "toc-showtags": false
 },
 "nbformat": 4,
 "nbformat_minor": 4
}
