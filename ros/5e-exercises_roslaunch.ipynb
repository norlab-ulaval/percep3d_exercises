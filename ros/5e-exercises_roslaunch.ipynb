{
 "cells": [
  {
   "cell_type": "markdown",
   "metadata": {
    "deletable": false,
    "editable": false,
    "nbgrader": {
     "cell_type": "markdown",
     "checksum": "a165d9158ef01169f76c5af5a7d9d481",
     "grade": false,
     "grade_id": "cell-3595c9f4e7fb940d",
     "locked": true,
     "schema_version": 3,
     "solution": false,
     "task": false
    },
    "slideshow": {
     "slide_type": "slide"
    }
   },
   "source": [
    "<p style=\"text-align: center;font-size: 40pt\">Exercises</p>\n",
    "<p style=\"text-align: center;font-size: 20pt\">Roslaunch - Tool for running multiple ROS nodes</p>"
   ]
  },
  {
   "cell_type": "markdown",
   "metadata": {
    "deletable": false,
    "editable": false,
    "nbgrader": {
     "cell_type": "markdown",
     "checksum": "3db1bb634e63dc92a0a066273ef72e97",
     "grade": false,
     "grade_id": "cell-46589334d688b42e",
     "locked": true,
     "points": 5,
     "schema_version": 3,
     "solution": false,
     "task": true
    }
   },
   "source": [
    "# Exercise: Roslaunch tutorial (30 min)\n",
    "\n",
    "This exercise will let you create a new launch file and test it right away.\n",
    "The exercise is based on the tutorial [Using rqt_console and roslaunch](http://wiki.ros.org/ROS/Tutorials/UsingRqtconsoleRoslaunch) on the official ROS website.\n",
    "The tutorial covers two topics, _rqt_console_ and _roslaunch_.\n",
    "You can read about and learn using the _rqt_console_ tool in the first part of the tutorial, but it is optional for you.\n",
    "We would like you to mainly focus on Sections 2.2 to 2.5 of the tutorial about the _roslaunch_ tool.\n",
    "\n",
    "The tutorial expects you to already have a package named _beginner_tutorials_ in your workspace.\n",
    "We have created the package for you in the directory `~/percep3d_workspace/catkin_workspace/src`.\n",
    "You can quickly navigate there by executing `roscd beginner_tutorials`.\n",
    "\n",
    "The tutorial guides you through a launch file creation, it explains what each part does and finally lets you start it and inspect the results.\n",
    "There is an additional tag `<group>` used and explained, don't be surprised.\n",
    "It is necessary for the demo they present to you.\n",
    "There is also a difference from the turtle demo you have done before.\n",
    "The turtles are not controlled by a keyboard, but by manually publishing the control message from a new terminal.\n",
    "Just follow the tutorial from the Section 2.2 onwards and you will see ;)\n",
    "\n",
    "You should get something like this:\n",
    "\n",
    "<img src=\"images/mimic_demo.png\" width=\"75%\" style=\"display:block; margin: 0 auto;\">\n",
    "\n",
    "To show us that you have succeeded, please insert into the next answer cell the list of ROS nodes running in the end of that tutorial:\n"
   ]
  },
  {
   "cell_type": "markdown",
   "metadata": {},
   "source": []
  }
 ],
 "metadata": {
  "kernelspec": {
   "display_name": "Python 3",
   "language": "python",
   "name": "python3"
  },
  "language_info": {
   "codemirror_mode": {
    "name": "ipython",
    "version": 3
   },
   "file_extension": ".py",
   "mimetype": "text/x-python",
   "name": "python",
   "nbconvert_exporter": "python",
   "pygments_lexer": "ipython3",
   "version": "3.8.2"
  },
  "toc-showtags": false
 },
 "nbformat": 4,
 "nbformat_minor": 4
}
