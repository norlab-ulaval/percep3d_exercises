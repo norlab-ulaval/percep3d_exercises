{
 "cells": [
  {
   "cell_type": "markdown",
   "metadata": {
    "slideshow": {
     "slide_type": "slide"
    }
   },
   "source": [
    "<p style=\"text-align: center;font-size: 40pt\">Exercises<\\p>\n",
    "<p style=\"text-align: center;font-size: 20pt\">Coordinate systems in 2D<\\p>"
   ]
  },
  {
   "cell_type": "code",
   "execution_count": null,
   "metadata": {
    "jupyter": {
     "source_hidden": true
    }
   },
   "outputs": [],
   "source": [
    "#%matplotlib widget\n",
    "%matplotlib inline\n",
    "\n",
    "import matplotlib.pyplot as plt\n",
    "from mpl_toolkits import mplot3d\n",
    "\n",
    "import numpy as np\n",
    "\n",
    "import ipywidgets as widgets\n",
    "\n",
    "%run ./scripts/helper_func.py\n",
    "%run ../../common/scripts/style.py"
   ]
  },
  {
   "cell_type": "markdown",
   "metadata": {},
   "source": [
    "Hidden custom latex commands here $ \\curvearrowright$\n",
    "\n",
    "----\n",
    "[comment]: <> (General commands)\n",
    "$\\newcommand{\\textcomma}{\\quad\\text{,}}$\n",
    "$\\newcommand{\\textdot}{\\quad\\text{.}}$\n",
    "$\\newcommand{\\vec}[1]{\\overrightarrow{#1}}$\n",
    "$\\newcommand{\\mat}[1]{\\mathbf{#1}}$\n",
    "$\\newcommand{\\frame}[1]{\\mathcal{#1}}$\n",
    "$\\newcommand{\\point}[2][]{{}^{#1}\\mathbf{#2}}$\n",
    "$\\newcommand{\\pointsym}[2][]{{}^{#1}\\boldsymbol{#2}}$\n",
    "$\\newcommand{\\matsym}[1]{\\boldsymbol{#1}}$\n",
    "$\\newcommand{\\real}{\\mathbb{R}}$\n",
    "$\\newcommand{\\bmat}[1]{\\begin{bmatrix}#1\\end{bmatrix}}$\n",
    "$\\newcommand{\\F}[2][]{{}_{#2}^{#1}\\mathscr{F}}$\n",
    "$\\newcommand{\\Fmat}[2][]{{}_{#2}^{#1}\\mat{F}}$\n",
    "$\\newcommand{\\origin}[2][]{{}_{#2}^{#1}\\mat{o}}$\n",
    "$\\newcommand{\\T}[2][]{{}_{#2}^{#1}\\mat{T}}$\n",
    "$\\newcommand{\\t}[2][]{{}_{#2}^{#1}\\mat{t}}$\n",
    "$\\newcommand{\\R}[2][]{{}_{#2}^{#1}\\mat{R}}$\n",
    "$\\newcommand{\\f}{\\vec{\\mathscr{f}}}}$\n",
    "$\\newcommand{\\ax}[2][]{{}_{#2}^{#1}\\vec{\\mathscr{x}}}$\n",
    "$\\newcommand{\\ay}[2][]{{}_{#2}^{#1}\\vec{\\mathscr{y}}}$\n",
    "$\\newcommand{\\az}[2][]{{}_{#2}^{#1}\\vec{\\mathscr{z}}}$\n",
    "$\\newcommand{\\aw}[2][]{{}_{#2}^{#1}\\vec{\\mathscr{w}}}$\n",
    "$\\newcommand{\\axi}{\\mathscr{x}}$\n",
    "$\\newcommand{\\ayi}{\\mathscr{y}}$\n",
    "$\\newcommand{\\azi}{\\mathscr{z}}$\n",
    "$\\newcommand{\\awi}{\\mathscr{w}}$\n",
    "$\\newcommand{\\pointx}[2][]{{}^{#1}{#2}_{\\axi}}$\n",
    "$\\newcommand{\\pointy}[2][]{{}^{#1}{#2}_{\\ayi}}$\n",
    "$\\newcommand{\\pointz}[2][]{{}^{#1}{#2}_{\\azi}}$\n",
    "$\\newcommand{\\SO}[1]{\\mathrm{SO}(#1)}$\n",
    "----"
   ]
  },
  {
   "cell_type": "markdown",
   "metadata": {},
   "source": [
    "# Exercise: math (10 min)\n",
    "\n",
    "Using the definition of the basis vector $\\ax{}$ and the equation to find the angle between two vectors, simplify the equation giving the elevation angle $\\theta$ of a vector $\\vec{p}$.\n",
    "Here is the generic version of the equation:\n",
    "$$\\theta = \\arccos\\left( \\frac{\\vec{a} \\cdot \\vec{b}}{\\|\\vec{a}\\|\\|\\vec{b}\\|} \\right)$$\n",
    "\n",
    "The following figure gives an example of the quantities involved in the questions.\n",
    "\n",
    "_Hint_: Don't over think it, it is just to get you started with equations."
   ]
  },
  {
   "cell_type": "code",
   "execution_count": null,
   "metadata": {
    "jupyter": {
     "source_hidden": true
    }
   },
   "outputs": [],
   "source": [
    "p = np.array([1.8, 1.])\n",
    "l_p = np.linalg.norm(p)\n",
    "\n",
    "fig, ax = plt.subplots(nrows=1, ncols=1, figsize=(5,5))\n",
    "\n",
    "draw_frame(ax, name=\"$A$\", text_x=r\"$ \\vec{\\mathscr{x}}$\", color = \"tab:blue\")\n",
    "draw_vector(ax, head=p, text=r\"$ \\vec{p}$\", text_offset=(0.1, 0))\n",
    "draw_arc_arrow(ax, np.arccos(p[0]/l_p), 0., text=r\"$\\theta$\", radius=0.8)\n",
    "\n",
    "clean_frame(ax, p, r\"Find the equation for $\\theta$\")"
   ]
  },
  {
   "cell_type": "markdown",
   "metadata": {
    "deletable": false,
    "nbgrader": {
     "cell_type": "markdown",
     "checksum": "8c9741e41f88edacc2ee480631f59b3b",
     "grade": true,
     "grade_id": "1",
     "locked": false,
     "points": 0,
     "schema_version": 3,
     "solution": true,
     "task": false
    }
   },
   "source": [
    "YOUR ANSWER HERE"
   ]
  },
  {
   "cell_type": "markdown",
   "metadata": {},
   "source": [
    "# Exercise: code (3 hours)\n",
    "\n",
    "Define a straight line $\\mathcal{P} = \\{\\point{p}_1, \\point{p}_2, \\cdots, \\point{p}_{10} \\}$ with evenly spaced points in homogeneous coordinates, such that\n",
    "\n",
    "\\begin{aligned}\n",
    "\\point{p}_\\text{homo} \n",
    "&= \n",
    "\\begin{bmatrix}\n",
    "p_\\axi \\\\\n",
    "p_\\ayi \\\\\n",
    "p_\\awi\\\\\n",
    "\\end{bmatrix} \n",
    "=\n",
    "\\begin{bmatrix}\n",
    "2x + 1\\\\\n",
    "-x + 2 \\\\\n",
    "x \\\\\n",
    "\\end{bmatrix}\n",
    "\\textcomma\n",
    "\\end{aligned}\n",
    "\n",
    "with $x = \\{1, 2, \\cdots, 10 \\}$.\n",
    "\n",
    "Generate a second line $\\mathcal{Q}$ by translating $\\mathcal{P}$ such that\n",
    "\\begin{aligned}\n",
    "\\mathcal{Q} \n",
    "&= \n",
    "\\mathrm{trans}(\\matsym{\\sigma}, \\mathcal{P} ) \\\\\n",
    "&=\n",
    "\\begin{bmatrix}\n",
    "1 \\\\\n",
    "-3 \\\\\n",
    "2 \\\\\n",
    "\\end{bmatrix}\n",
    "+\n",
    "\\mathcal{P}\n",
    "\\textdot\n",
    "\\end{aligned}"
   ]
  },
  {
   "cell_type": "markdown",
   "metadata": {},
   "source": [
    "## Subquestion\n",
    "\n",
    "Draw the projection of both set $\\mathcal{P}$ and $\\mathcal{Q}$ in Cartesian space.\n",
    "\n",
    "_Hint_: Use `np.linspace` to define $x$."
   ]
  },
  {
   "cell_type": "code",
   "execution_count": null,
   "metadata": {
    "deletable": false,
    "nbgrader": {
     "cell_type": "code",
     "checksum": "8f6cb0f6e89eb2768c48781f6e23279d",
     "grade": true,
     "grade_id": "2",
     "locked": false,
     "points": 0,
     "schema_version": 3,
     "solution": true,
     "task": false
    }
   },
   "outputs": [],
   "source": [
    "# YOUR CODE HERE\n",
    "raise NotImplementedError()"
   ]
  },
  {
   "cell_type": "markdown",
   "metadata": {},
   "source": [
    "## Subquestion\n",
    "Are the points still equally spaced in Cartesian coordinates? Why?"
   ]
  },
  {
   "cell_type": "markdown",
   "metadata": {
    "deletable": false,
    "nbgrader": {
     "cell_type": "markdown",
     "checksum": "8da31e95d7d0c71174095642473bba6c",
     "grade": true,
     "grade_id": "3",
     "locked": false,
     "points": 0,
     "schema_version": 3,
     "solution": true,
     "task": false
    }
   },
   "source": [
    "YOUR ANSWER HERE"
   ]
  },
  {
   "cell_type": "markdown",
   "metadata": {},
   "source": [
    "## Subquestion\n",
    "\n",
    "We know that translation doesn't affect the angle between vectors. \n",
    "As a consequence, both lines are parallel in homogeneous coordinates.\n",
    "Why aren't they parallel in Cartesian coordinates?"
   ]
  },
  {
   "cell_type": "markdown",
   "metadata": {
    "deletable": false,
    "nbgrader": {
     "cell_type": "markdown",
     "checksum": "45d5f07fb7351714bc3b19146b7f41de",
     "grade": true,
     "grade_id": "4",
     "locked": false,
     "points": 0,
     "schema_version": 3,
     "solution": true,
     "task": false
    }
   },
   "source": [
    "YOUR ANSWER HERE"
   ]
  },
  {
   "cell_type": "markdown",
   "metadata": {},
   "source": [
    "# Exercise: math (3 hours)\n",
    "\n",
    "Show that the area $a$ between three points $\\point{p}$, $\\point{q}$, and $\\point{r}$ forming a triangle can be computed as \n",
    "$$ a = \\frac{1}{2}\\mathrm{det}\\left(\\begin{bmatrix}\\vec{q} - \\vec{p} & \\vec{r} - \\vec{p} \\end{bmatrix}\\right) $$\n",
    "\n",
    "_Hint_: Start by looking the definition of [determinant](https://en.wikipedia.org/wiki/Determinant)."
   ]
  },
  {
   "cell_type": "markdown",
   "metadata": {
    "deletable": false,
    "nbgrader": {
     "cell_type": "markdown",
     "checksum": "0fb1f32b57e68afe480386e3fca21296",
     "grade": true,
     "grade_id": "5",
     "locked": false,
     "points": 0,
     "schema_version": 3,
     "solution": true,
     "task": false
    }
   },
   "source": [
    "YOUR ANSWER HERE"
   ]
  }
 ],
 "metadata": {
  "kernelspec": {
   "display_name": "Python 3",
   "language": "python",
   "name": "python3"
  },
  "language_info": {
   "codemirror_mode": {
    "name": "ipython",
    "version": 3
   },
   "file_extension": ".py",
   "mimetype": "text/x-python",
   "name": "python",
   "nbconvert_exporter": "python",
   "pygments_lexer": "ipython3",
   "version": "3.6.9"
  },
  "toc-showtags": false
 },
 "nbformat": 4,
 "nbformat_minor": 4
}
