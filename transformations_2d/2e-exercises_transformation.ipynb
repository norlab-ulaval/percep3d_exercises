{
 "cells": [
  {
   "cell_type": "markdown",
   "metadata": {
    "deletable": false,
    "editable": false,
    "nbgrader": {
     "cell_type": "markdown",
     "checksum": "f6cba6c997d44509f794cd226666f018",
     "grade": false,
     "grade_id": "cell-2c3b9a53f3a8b103",
     "locked": true,
     "schema_version": 3,
     "solution": false,
     "task": false
    },
    "slideshow": {
     "slide_type": "slide"
    }
   },
   "source": [
    "<p style=\"text-align: center;font-size: 40pt\">Exercises</p>\n",
    "<p style=\"text-align: center;font-size: 20pt\">Transformation functions in 2D</p>"
   ]
  },
  {
   "cell_type": "code",
   "execution_count": null,
   "metadata": {
    "deletable": false,
    "editable": false,
    "nbgrader": {
     "cell_type": "code",
     "checksum": "509cbf151d4b882451b1d64f7c2a4a82",
     "grade": false,
     "grade_id": "cell-f18fe3786de98b61",
     "locked": true,
     "schema_version": 3,
     "solution": false,
     "task": false
    }
   },
   "outputs": [],
   "source": [
    "%matplotlib widget\n",
    "#%matplotlib inline\n",
    "\n",
    "import matplotlib.pyplot as plt\n",
    "\n",
    "import numpy as np\n",
    "\n",
    "import ipywidgets as widgets\n",
    "\n",
    "%run ./scripts/helper_func.py\n",
    "%run ../../common/scripts/style.py"
   ]
  },
  {
   "cell_type": "markdown",
   "metadata": {
    "deletable": false,
    "editable": false,
    "nbgrader": {
     "cell_type": "markdown",
     "checksum": "c23fa6aa6eb1aba453dc71f5f15124c2",
     "grade": false,
     "grade_id": "cell-8de67df82e375610",
     "locked": true,
     "schema_version": 3,
     "solution": false,
     "task": false
    }
   },
   "source": [
    "# Exercise: apply (30 min)\n",
    "\n",
    "Build a [markdown table](https://www.markdownguide.org/extended-syntax/#tables) comparing all presented geometric quantities (rows) against all presented basic transformations (columns).\n",
    "The content of each cell should have a `X` if the quantity stays the same after the transformation.\n",
    "\n",
    "Here is a code template for your markdown table :\n",
    "```markdown\n",
    "|            | transformation 1 | transformation 2 |   ...   |\n",
    "|------------|:----------------:|:----------------:|:-------:|\n",
    "| quantity 1 |        -         |         X        |         |\n",
    "| quantity 2 |        X         |         X        |         |\n",
    "| ...        |                  |                  |         |\n",
    "```"
   ]
  },
  {
   "cell_type": "markdown",
   "metadata": {
    "deletable": false,
    "nbgrader": {
     "cell_type": "markdown",
     "checksum": "edc67771da4df4919cad9741bf064bb9",
     "grade": true,
     "grade_id": "1",
     "locked": false,
     "points": 3,
     "schema_version": 3,
     "solution": true,
     "task": false
    }
   },
   "source": [
    "YOUR ANSWER HERE"
   ]
  },
  {
   "cell_type": "markdown",
   "metadata": {
    "deletable": false,
    "editable": false,
    "nbgrader": {
     "cell_type": "markdown",
     "checksum": "71495c25883b27c9fc61bc1275e1022d",
     "grade": false,
     "grade_id": "cell-b257b7c55448f526",
     "locked": true,
     "schema_version": 3,
     "solution": false,
     "task": false
    }
   },
   "source": [
    "# Exercise: apply (20 min)\n",
    "\n",
    "Run multiple times (i.e., more than 10 times just in case) the graph illustrating affine transformation in the lesson notebook.\n",
    "Can you deduce what properties of the point cloud are preserved?"
   ]
  },
  {
   "cell_type": "markdown",
   "metadata": {
    "deletable": false,
    "nbgrader": {
     "cell_type": "markdown",
     "checksum": "07b74ba8cfb7d1e09d564f84fdc6002c",
     "grade": true,
     "grade_id": "2",
     "locked": false,
     "points": 2,
     "schema_version": 3,
     "solution": true,
     "task": false
    }
   },
   "source": [
    "YOUR ANSWER HERE"
   ]
  }
 ],
 "metadata": {
  "kernelspec": {
   "display_name": "Python 3",
   "language": "python",
   "name": "python3"
  },
  "language_info": {
   "codemirror_mode": {
    "name": "ipython",
    "version": 3
   },
   "file_extension": ".py",
   "mimetype": "text/x-python",
   "name": "python",
   "nbconvert_exporter": "python",
   "pygments_lexer": "ipython3",
   "version": "3.8.2"
  }
 },
 "nbformat": 4,
 "nbformat_minor": 4
}
