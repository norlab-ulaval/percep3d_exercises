{
 "cells": [
  {
   "cell_type": "markdown",
   "metadata": {
    "slideshow": {
     "slide_type": "slide"
    }
   },
   "source": [
    "<p style=\"text-align: center;font-size: 40pt\">Exercises<\\p>\n",
    "<p style=\"text-align: center;font-size: 20pt\">Rigid transformation in 2D<\\p>"
   ]
  },
  {
   "cell_type": "code",
   "execution_count": null,
   "metadata": {},
   "outputs": [],
   "source": [
    "%matplotlib widget\n",
    "#%matplotlib inline\n",
    "\n",
    "from IPython.display import Math\n",
    "\n",
    "import matplotlib.pyplot as plt\n",
    "from mpl_toolkits import mplot3d\n",
    "\n",
    "import numpy as np\n",
    "\n",
    "import ipywidgets as widgets\n",
    "\n",
    "%run ./scripts/helper_func.py\n",
    "%run ../../common/scripts/style.py"
   ]
  },
  {
   "cell_type": "markdown",
   "metadata": {},
   "source": [
    "# Exercise : code (1 hour)\n",
    "\n",
    "Draw the following point and reference frames in the frame of reference $\\frame{A}$:\n",
    "\n",
    "\\begin{aligned}\n",
    "\\point[C]{p} &= \\bmat{1.00 \\\\ 2.00} \\\\\n",
    "\\T[B]{C} &= \\bmat{0.71 & -0.71 & 3.00 \\\\ 0.71 & 0.71 & 1.00 \\\\ 0 & 0 & 1} \\\\\n",
    "\\T[A]{B} &= \\bmat{0.71 & 0.71 & 2.00 \\\\ -0.71 & 0.71 & 1.00 \\\\ 0 & 0 & 1} \n",
    "\\textdot \n",
    "\\end{aligned}\n",
    "\n",
    "- _Hint_: use `plt.plot()` to draw lines for the frames (six lines in total to draw) and `plt.scatter()` for points (one point)."
   ]
  },
  {
   "cell_type": "code",
   "execution_count": null,
   "metadata": {
    "deletable": false,
    "nbgrader": {
     "cell_type": "code",
     "checksum": "9e89c0ec37b784da98b2c3a0935fed81",
     "grade": true,
     "grade_id": "1",
     "locked": false,
     "points": 0,
     "schema_version": 3,
     "solution": true,
     "task": false
    }
   },
   "outputs": [],
   "source": [
    "# YOUR CODE HERE\n",
    "raise NotImplementedError()"
   ]
  },
  {
   "cell_type": "markdown",
   "metadata": {},
   "source": [
    "# Exercise: apply (3 hours)\n",
    "\n",
    "Consider the following coordinates and rigid transformation matrices:\n",
    "\n",
    "\\begin{aligned}\n",
    "\\point[A]{p} &=\\begin{bmatrix}\n",
    "  8 & 2 & 1\\\\\n",
    "\\end{bmatrix}^{T}\\\\\n",
    "\\point[F]{q} &=\\begin{bmatrix}\n",
    "  1 & -3 & 1\\\\\n",
    "\\end{bmatrix}^{T}\\\\\n",
    "\\T[A]{B} &=\\begin{bmatrix}\n",
    "  0.71 & 0.71 & 2.\\\\\n",
    "  -0.71 & 0.71 & 1.\\\\\n",
    "  0. & 0. & 1.\\\\\n",
    "\\end{bmatrix}\\\\\n",
    "\\T[C]{B} &=\\begin{bmatrix}\n",
    "  -1. & -0. & 3.\\\\\n",
    "  0. & -1. & 1.\\\\\n",
    "  0. & 0. & 1.\\\\\n",
    "\\end{bmatrix}\\\\\n",
    "\\T[A]{E} &=\\begin{bmatrix}\n",
    "  -0.97 & 0.26 & -0.45\\\\\n",
    "  -0.26 & -0.97 & 1.\\\\\n",
    "  0. & 0. & 1.\\\\\n",
    "\\end{bmatrix}\\\\\n",
    "\\T[D]{B} &=\\begin{bmatrix}\n",
    "  -0.5 & 0.87 & 4.\\\\\n",
    "  -0.87 & -0.5 & 2.\\\\\n",
    "  0. & 0. & 1.\\\\\n",
    "\\end{bmatrix}\\\\\n",
    "\\T[F]{E} &=\\begin{bmatrix}\n",
    "  0. & -1. & 1.\\\\\n",
    "  1. & 0. & 1.\\\\\n",
    "  0. & 0. & 1.\\\\\n",
    "\\end{bmatrix}\\\\\n",
    "\\T[D]{F} &=\\begin{bmatrix}\n",
    "  0.87 & -0.5 & 3.\\\\\n",
    "  0.5 & 0.87 & 3.\\\\\n",
    "  0. & 0. & 1.\\\\\n",
    "\\end{bmatrix}\\\\\n",
    "\\end{aligned}"
   ]
  },
  {
   "cell_type": "markdown",
   "metadata": {},
   "source": [
    "## Subquestion\n",
    "\n",
    "Give the coordinates of $\\point[A]{p}$ in the frame $\\frame{C}$."
   ]
  },
  {
   "cell_type": "code",
   "execution_count": null,
   "metadata": {
    "deletable": false,
    "nbgrader": {
     "cell_type": "code",
     "checksum": "8f6cb0f6e89eb2768c48781f6e23279d",
     "grade": true,
     "grade_id": "2",
     "locked": false,
     "points": 0,
     "schema_version": 3,
     "solution": true,
     "task": false
    }
   },
   "outputs": [],
   "source": [
    "# YOUR CODE HERE\n",
    "raise NotImplementedError()"
   ]
  },
  {
   "cell_type": "markdown",
   "metadata": {},
   "source": [
    "## Subquestion\n",
    "\n",
    "Give the coordinates of $\\point[F]{q}$ in the frame $\\frame{A}$."
   ]
  },
  {
   "cell_type": "code",
   "execution_count": null,
   "metadata": {
    "deletable": false,
    "nbgrader": {
     "cell_type": "code",
     "checksum": "1b691acd393456bfcf38fc24cea7805b",
     "grade": true,
     "grade_id": "3",
     "locked": false,
     "points": 0,
     "schema_version": 3,
     "solution": true,
     "task": false
    }
   },
   "outputs": [],
   "source": [
    "# YOUR CODE HERE\n",
    "raise NotImplementedError()"
   ]
  },
  {
   "cell_type": "markdown",
   "metadata": {},
   "source": [
    "## Subquestion\n",
    "\n",
    "Give the coordinates of $\\point[F]{q}$ in the frame $\\frame{C}$."
   ]
  },
  {
   "cell_type": "code",
   "execution_count": null,
   "metadata": {
    "deletable": false,
    "nbgrader": {
     "cell_type": "code",
     "checksum": "b73dbabc933c30ad68d74d7e24de03c1",
     "grade": true,
     "grade_id": "4",
     "locked": false,
     "points": 0,
     "schema_version": 3,
     "solution": true,
     "task": false
    }
   },
   "outputs": [],
   "source": [
    "# YOUR CODE HERE\n",
    "raise NotImplementedError()"
   ]
  },
  {
   "cell_type": "markdown",
   "metadata": {},
   "source": [
    "## Subquestion\n",
    "\n",
    "Using the available transformation matrices and using equations, show that converting from frame $\\frame{A}$ to $\\frame{B}$ and $\\frame{D}$ is equivalent to converting from $\\frame{A}$ to $\\frame{E}$, $\\frame{F}$ and $\\frame{D}$."
   ]
  },
  {
   "cell_type": "markdown",
   "metadata": {
    "deletable": false,
    "nbgrader": {
     "cell_type": "markdown",
     "checksum": "0fb1f32b57e68afe480386e3fca21296",
     "grade": true,
     "grade_id": "5",
     "locked": false,
     "points": 0,
     "schema_version": 3,
     "solution": true,
     "task": false
    }
   },
   "source": [
    "YOUR ANSWER HERE"
   ]
  },
  {
   "cell_type": "markdown",
   "metadata": {},
   "source": [
    "## Subquestion\n",
    "\n",
    "Implement your equality from the last subquestion and confirm that the matrices are equivalent.\n",
    "\n",
    "- _Hint 1_: keep in mind that comparing floats is tricky, if the difference between each element of the matrices are less than 0.05, it is fine.\n",
    "\n",
    "- _Hint 2_: you can use the function [`np.allclose(A, B, atol=0.05)`](https://numpy.org/doc/stable/reference/generated/numpy.allclose.html) to compare all the elements of two matrices."
   ]
  },
  {
   "cell_type": "code",
   "execution_count": null,
   "metadata": {
    "deletable": false,
    "nbgrader": {
     "cell_type": "code",
     "checksum": "b2c698972d22e6d5dafd77772639fa0c",
     "grade": true,
     "grade_id": "6",
     "locked": false,
     "points": 0,
     "schema_version": 3,
     "solution": true,
     "task": false
    }
   },
   "outputs": [],
   "source": [
    "# YOUR CODE HERE\n",
    "raise NotImplementedError()"
   ]
  }
 ],
 "metadata": {
  "kernelspec": {
   "display_name": "Python 3",
   "language": "python",
   "name": "python3"
  },
  "language_info": {
   "codemirror_mode": {
    "name": "ipython",
    "version": 3
   },
   "file_extension": ".py",
   "mimetype": "text/x-python",
   "name": "python",
   "nbconvert_exporter": "python",
   "pygments_lexer": "ipython3",
   "version": "3.6.9"
  }
 },
 "nbformat": 4,
 "nbformat_minor": 4
}
