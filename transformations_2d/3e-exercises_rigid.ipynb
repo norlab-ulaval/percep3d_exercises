{
 "cells": [
  {
   "cell_type": "markdown",
   "metadata": {
    "deletable": false,
    "editable": false,
    "nbgrader": {
     "cell_type": "markdown",
     "checksum": "f2c7a679df6a7bfa966dc66394001175",
     "grade": false,
     "grade_id": "cell-d86e28865fdabb31",
     "locked": true,
     "schema_version": 3,
     "solution": false,
     "task": false
    },
    "slideshow": {
     "slide_type": "slide"
    }
   },
   "source": [
    "<p style=\"text-align: center;font-size: 40pt\">Exercises</p>\n",
    "<p style=\"text-align: center;font-size: 20pt\">Rigid transformation in 2D</p>"
   ]
  },
  {
   "cell_type": "code",
   "execution_count": null,
   "metadata": {
    "deletable": false,
    "editable": false,
    "nbgrader": {
     "cell_type": "code",
     "checksum": "605ded09f24e185b769222059fc1b709",
     "grade": false,
     "grade_id": "cell-6af1aab6ca6fbbb5",
     "locked": true,
     "schema_version": 3,
     "solution": false,
     "task": false
    }
   },
   "outputs": [],
   "source": [
    "%matplotlib widget\n",
    "#%matplotlib inline\n",
    "\n",
    "from IPython.display import Math\n",
    "\n",
    "import matplotlib.pyplot as plt\n",
    "from mpl_toolkits import mplot3d\n",
    "\n",
    "import numpy as np\n",
    "\n",
    "import ipywidgets as widgets\n",
    "\n",
    "%run ./scripts/helper_func.py\n",
    "%run ../../common/scripts/style.py"
   ]
  },
  {
   "cell_type": "markdown",
   "metadata": {
    "deletable": false,
    "editable": false,
    "nbgrader": {
     "cell_type": "markdown",
     "checksum": "614c80dd76e7e8689994d2b92de0888d",
     "grade": false,
     "grade_id": "cell-0e37c5e16b92b76a",
     "locked": true,
     "schema_version": 3,
     "solution": false,
     "task": false
    }
   },
   "source": [
    "Hidden custom latex commands here $ \\curvearrowright$\n",
    "\n",
    "----\n",
    "[comment]: <> (General commands)\n",
    "$\\newcommand{\\textcomma}{\\quad\\text{,}}$\n",
    "$\\newcommand{\\textdot}{\\quad\\text{.}}$\n",
    "$\\newcommand{\\vec}[1]{\\overrightarrow{#1}}$\n",
    "$\\newcommand{\\mat}[1]{\\mathbf{#1}}$\n",
    "$\\newcommand{\\frame}[1]{\\mathcal{#1}}$\n",
    "$\\newcommand{\\point}[2][]{{}^{#1}\\mathbf{#2}}$\n",
    "$\\newcommand{\\pointsym}[2][]{{}^{#1}\\boldsymbol{#2}}$\n",
    "$\\newcommand{\\matsym}[1]{\\boldsymbol{#1}}$\n",
    "$\\newcommand{\\real}{\\mathbb{R}}$\n",
    "$\\newcommand{\\bmat}[1]{\\begin{bmatrix}#1\\end{bmatrix}}$\n",
    "$\\newcommand{\\F}[2][]{{}_{#2}^{#1}\\mathscr{F}}$\n",
    "$\\newcommand{\\Fmat}[2][]{{}_{#2}^{#1}\\mat{F}}$\n",
    "$\\newcommand{\\origin}[2][]{{}_{#2}^{#1}\\mat{o}}$\n",
    "$\\newcommand{\\T}[2][]{{}_{#2}^{#1}\\mat{T}}$\n",
    "$\\newcommand{\\t}[2][]{{}_{#2}^{#1}\\mat{t}}$\n",
    "$\\newcommand{\\R}[2][]{{}_{#2}^{#1}\\mat{R}}$\n",
    "$\\newcommand{\\f}{\\vec{\\mathscr{f}}}$\n",
    "$\\newcommand{\\ax}[2][]{{}_{#2}^{#1}\\vec{\\mathscr{x}}}$\n",
    "$\\newcommand{\\ay}[2][]{{}_{#2}^{#1}\\vec{\\mathscr{y}}}$\n",
    "$\\newcommand{\\az}[2][]{{}_{#2}^{#1}\\vec{\\mathscr{z}}}$\n",
    "$\\newcommand{\\aw}[2][]{{}_{#2}^{#1}\\vec{\\mathscr{w}}}$\n",
    "$\\newcommand{\\axi}{\\mathscr{x}}$\n",
    "$\\newcommand{\\ayi}{\\mathscr{y}}$\n",
    "$\\newcommand{\\azi}{\\mathscr{z}}$\n",
    "$\\newcommand{\\awi}{\\mathscr{w}}$\n",
    "$\\newcommand{\\pointx}[2][]{{}^{#1}{#2}_{\\axi}}$\n",
    "$\\newcommand{\\pointy}[2][]{{}^{#1}{#2}_{\\ayi}}$\n",
    "$\\newcommand{\\pointz}[2][]{{}^{#1}{#2}_{\\azi}}$\n",
    "$\\newcommand{\\SO}[1]{\\mathrm{SO}(#1)}$\n",
    "----"
   ]
  },
  {
   "cell_type": "markdown",
   "metadata": {
    "deletable": false,
    "editable": false,
    "nbgrader": {
     "cell_type": "markdown",
     "checksum": "9d46f830a4f593f0694c8659008906d3",
     "grade": false,
     "grade_id": "cell-5709aa37364484be",
     "locked": true,
     "schema_version": 3,
     "solution": false,
     "task": false
    }
   },
   "source": [
    "# Exercise : code (1 hour)\n",
    "\n",
    "Draw the following point and reference frames in the frame of reference $\\frame{A}$:\n",
    "\n",
    "\\begin{aligned}\n",
    "\\point[C]{p} &= \\bmat{1.00 \\\\ 2.00} \\\\\n",
    "\\T[B]{C} &= \\bmat{0.71 & -0.71 & 3.00 \\\\ 0.71 & 0.71 & 1.00 \\\\ 0 & 0 & 1} \\\\\n",
    "\\T[A]{B} &= \\bmat{0.71 & 0.71 & 2.00 \\\\ -0.71 & 0.71 & 1.00 \\\\ 0 & 0 & 1} \n",
    "\\textdot \n",
    "\\end{aligned}\n",
    "\n",
    "- _Hint_: use `plt.plot()` to draw lines for the frames (six lines in total to draw) and `plt.scatter()` for points (one point)."
   ]
  },
  {
   "cell_type": "code",
   "execution_count": null,
   "metadata": {
    "deletable": false,
    "nbgrader": {
     "cell_type": "code",
     "checksum": "37dc6d840250c1c70ba2c76b7fa9768b",
     "grade": true,
     "grade_id": "1",
     "locked": false,
     "points": 6,
     "schema_version": 3,
     "solution": true,
     "task": false
    }
   },
   "outputs": [],
   "source": [
    "# YOUR CODE HERE\n",
    "raise NotImplementedError()"
   ]
  },
  {
   "cell_type": "markdown",
   "metadata": {
    "deletable": false,
    "editable": false,
    "nbgrader": {
     "cell_type": "markdown",
     "checksum": "73565b17384b8772967be134daf0ad45",
     "grade": false,
     "grade_id": "cell-a890022aa37173a0",
     "locked": true,
     "schema_version": 3,
     "solution": false,
     "task": false
    }
   },
   "source": [
    "# Exercise: apply (3 hours)\n",
    "\n",
    "Consider the following coordinates and rigid transformation matrices:\n",
    "\n",
    "\\begin{aligned}\n",
    "\\point[A]{p} &=\\begin{bmatrix}\n",
    "  8 & 2 & 1\\\\\n",
    "\\end{bmatrix}^{T}\\\\\n",
    "\\point[F]{q} &=\\begin{bmatrix}\n",
    "  1 & -3 & 1\\\\\n",
    "\\end{bmatrix}^{T}\\\\\n",
    "\\T[A]{B} &=\\begin{bmatrix}\n",
    "  0.71 & 0.71 & 2.\\\\\n",
    "  -0.71 & 0.71 & 1.\\\\\n",
    "  0. & 0. & 1.\\\\\n",
    "\\end{bmatrix}\\\\\n",
    "\\T[C]{B} &=\\begin{bmatrix}\n",
    "  -1. & -0. & 3.\\\\\n",
    "  0. & -1. & 1.\\\\\n",
    "  0. & 0. & 1.\\\\\n",
    "\\end{bmatrix}\\\\\n",
    "\\T[A]{E} &=\\begin{bmatrix}\n",
    "  -0.97 & 0.26 & -0.45\\\\\n",
    "  -0.26 & -0.97 & 1.\\\\\n",
    "  0. & 0. & 1.\\\\\n",
    "\\end{bmatrix}\\\\\n",
    "\\T[D]{B} &=\\begin{bmatrix}\n",
    "  -0.5 & 0.87 & 4.\\\\\n",
    "  -0.87 & -0.5 & 2.\\\\\n",
    "  0. & 0. & 1.\\\\\n",
    "\\end{bmatrix}\\\\\n",
    "\\T[F]{E} &=\\begin{bmatrix}\n",
    "  0. & -1. & 1.\\\\\n",
    "  1. & 0. & 1.\\\\\n",
    "  0. & 0. & 1.\\\\\n",
    "\\end{bmatrix}\\\\\n",
    "\\T[D]{F} &=\\begin{bmatrix}\n",
    "  0.87 & -0.5 & 3.\\\\\n",
    "  0.5 & 0.87 & 3.\\\\\n",
    "  0. & 0. & 1.\\\\\n",
    "\\end{bmatrix}\\\\\n",
    "\\end{aligned}"
   ]
  },
  {
   "cell_type": "markdown",
   "metadata": {
    "deletable": false,
    "editable": false,
    "nbgrader": {
     "cell_type": "markdown",
     "checksum": "13f975d9c2e415fc0226a7ce432b6d16",
     "grade": false,
     "grade_id": "cell-46bab77339115fbd",
     "locked": true,
     "schema_version": 3,
     "solution": false,
     "task": false
    }
   },
   "source": [
    "## Subquestion\n",
    "\n",
    "Give the coordinates of $\\point[A]{p}$ in the frame $\\frame{C}$."
   ]
  },
  {
   "cell_type": "code",
   "execution_count": null,
   "metadata": {
    "deletable": false,
    "nbgrader": {
     "cell_type": "code",
     "checksum": "e08303148a26ac78cf2e3040dd113c25",
     "grade": true,
     "grade_id": "2",
     "locked": false,
     "points": 2,
     "schema_version": 3,
     "solution": true,
     "task": false
    }
   },
   "outputs": [],
   "source": [
    "# YOUR CODE HERE\n",
    "raise NotImplementedError()"
   ]
  },
  {
   "cell_type": "markdown",
   "metadata": {
    "deletable": false,
    "editable": false,
    "nbgrader": {
     "cell_type": "markdown",
     "checksum": "8b09bfe8892a8f769b3dfe8491d39200",
     "grade": false,
     "grade_id": "cell-a04008a5570c9cb0",
     "locked": true,
     "schema_version": 3,
     "solution": false,
     "task": false
    }
   },
   "source": [
    "## Subquestion\n",
    "\n",
    "Give the coordinates of $\\point[F]{q}$ in the frame $\\frame{A}$."
   ]
  },
  {
   "cell_type": "code",
   "execution_count": null,
   "metadata": {
    "deletable": false,
    "nbgrader": {
     "cell_type": "code",
     "checksum": "65ba4a86925c630fde6533d574c3e0f4",
     "grade": true,
     "grade_id": "3",
     "locked": false,
     "points": 2,
     "schema_version": 3,
     "solution": true,
     "task": false
    }
   },
   "outputs": [],
   "source": [
    "# YOUR CODE HERE\n",
    "raise NotImplementedError()"
   ]
  },
  {
   "cell_type": "markdown",
   "metadata": {
    "deletable": false,
    "editable": false,
    "nbgrader": {
     "cell_type": "markdown",
     "checksum": "8757c2b68fe26ab8e7ece29389112589",
     "grade": false,
     "grade_id": "cell-a7fc67931a004ea5",
     "locked": true,
     "schema_version": 3,
     "solution": false,
     "task": false
    }
   },
   "source": [
    "## Subquestion\n",
    "\n",
    "Give the coordinates of $\\point[F]{q}$ in the frame $\\frame{C}$."
   ]
  },
  {
   "cell_type": "code",
   "execution_count": null,
   "metadata": {
    "deletable": false,
    "nbgrader": {
     "cell_type": "code",
     "checksum": "98b56aec6e7f193b8219ca56f4a4c93f",
     "grade": true,
     "grade_id": "4",
     "locked": false,
     "points": 2,
     "schema_version": 3,
     "solution": true,
     "task": false
    }
   },
   "outputs": [],
   "source": [
    "# YOUR CODE HERE\n",
    "raise NotImplementedError()"
   ]
  },
  {
   "cell_type": "markdown",
   "metadata": {
    "deletable": false,
    "editable": false,
    "nbgrader": {
     "cell_type": "markdown",
     "checksum": "4a69c0f324c527841943228346c3f41a",
     "grade": false,
     "grade_id": "cell-0223f03e4fbb06d9",
     "locked": true,
     "schema_version": 3,
     "solution": false,
     "task": false
    }
   },
   "source": [
    "## Subquestion\n",
    "\n",
    "Using the available transformation matrices and using equations, show that converting from frame $\\frame{A}$ to $\\frame{B}$ and $\\frame{D}$ is equivalent to converting from $\\frame{A}$ to $\\frame{E}$, $\\frame{F}$ and $\\frame{D}$."
   ]
  },
  {
   "cell_type": "markdown",
   "metadata": {
    "deletable": false,
    "nbgrader": {
     "cell_type": "markdown",
     "checksum": "da291ab19f8d3ddf054b8a6a0d63eff2",
     "grade": true,
     "grade_id": "5",
     "locked": false,
     "points": 2,
     "schema_version": 3,
     "solution": true,
     "task": false
    }
   },
   "source": [
    "YOUR ANSWER HERE"
   ]
  },
  {
   "cell_type": "markdown",
   "metadata": {
    "deletable": false,
    "editable": false,
    "nbgrader": {
     "cell_type": "markdown",
     "checksum": "91e8403597ce35489d4542f23cfa181e",
     "grade": false,
     "grade_id": "cell-c5553ce0ad35ee2b",
     "locked": true,
     "schema_version": 3,
     "solution": false,
     "task": false
    }
   },
   "source": [
    "## Subquestion\n",
    "\n",
    "Implement your equality from the last subquestion and confirm that the matrices are equivalent.\n",
    "\n",
    "- _Hint 1_: keep in mind that comparing floats is tricky, if the difference between each element of the matrices are less than 0.05, it is fine.\n",
    "\n",
    "- _Hint 2_: you can use the function [`np.allclose(A, B, atol=0.05)`](https://numpy.org/doc/stable/reference/generated/numpy.allclose.html) to compare all the elements of two matrices."
   ]
  },
  {
   "cell_type": "code",
   "execution_count": null,
   "metadata": {
    "deletable": false,
    "nbgrader": {
     "cell_type": "code",
     "checksum": "f1f86c0c4c8929084d723ac1895f9b9d",
     "grade": true,
     "grade_id": "6",
     "locked": false,
     "points": 2,
     "schema_version": 3,
     "solution": true,
     "task": false
    }
   },
   "outputs": [],
   "source": [
    "# YOUR CODE HERE\n",
    "raise NotImplementedError()"
   ]
  }
 ],
 "metadata": {
  "kernelspec": {
   "display_name": "Python 3",
   "language": "python",
   "name": "python3"
  },
  "language_info": {
   "codemirror_mode": {
    "name": "ipython",
    "version": 3
   },
   "file_extension": ".py",
   "mimetype": "text/x-python",
   "name": "python",
   "nbconvert_exporter": "python",
   "pygments_lexer": "ipython3",
   "version": "3.8.2"
  }
 },
 "nbformat": 4,
 "nbformat_minor": 4
}
