{
 "cells": [
  {
   "cell_type": "markdown",
   "metadata": {
    "slideshow": {
     "slide_type": "slide"
    }
   },
   "source": [
    "<p style=\"text-align: center;font-size: 40pt\">Exercises<\\p>\n",
    "<p style=\"text-align: center;font-size: 20pt\">Coordinate systems in 3D<\\p>"
   ]
  },
  {
   "cell_type": "code",
   "execution_count": null,
   "metadata": {},
   "outputs": [],
   "source": [
    "%matplotlib widget\n",
    "#%matplotlib inline\n",
    "\n",
    "import matplotlib.pyplot as plt\n",
    "from mpl_toolkits import mplot3d\n",
    "from mpl_toolkits.mplot3d.art3d import Poly3DCollection\n",
    "\n",
    "import numpy as np\n",
    "\n",
    "import ipywidgets as widgets\n",
    "\n",
    "%run ./scripts/helper_func.py\n",
    "%run ../../common/scripts/style.py"
   ]
  },
  {
   "cell_type": "markdown",
   "metadata": {},
   "source": [
    "Hidden custom latex commands here $ \\curvearrowright$\n",
    "\n",
    "----\n",
    "[comment]: <> (General commands)\n",
    "$\\newcommand{\\textcomma}{\\quad\\text{,}}$\n",
    "$\\newcommand{\\textdot}{\\quad\\text{.}}$\n",
    "$\\newcommand{\\vec}[1]{\\overrightarrow{#1}}$\n",
    "$\\newcommand{\\mat}[1]{\\mathbf{#1}}$\n",
    "$\\newcommand{\\frame}[1]{\\mathcal{#1}}$\n",
    "$\\newcommand{\\point}[2][]{{}^{#1}\\mathbf{#2}}$\n",
    "$\\newcommand{\\pointsym}[2][]{{}^{#1}\\boldsymbol{#2}}$\n",
    "$\\newcommand{\\matsym}[1]{\\boldsymbol{#1}}$\n",
    "$\\newcommand{\\real}{\\mathbb{R}}$\n",
    "$\\newcommand{\\bmat}[1]{\\begin{bmatrix}#1\\end{bmatrix}}$\n",
    "$\\newcommand{\\F}[2][]{{}_{#2}^{#1}\\mathscr{F}}$\n",
    "$\\newcommand{\\Fmat}[2][]{{}_{#2}^{#1}\\mat{F}}$\n",
    "$\\newcommand{\\origin}[2][]{{}_{#2}^{#1}\\mat{o}}$\n",
    "$\\newcommand{\\T}[2][]{{}_{#2}^{#1}\\mat{T}}$\n",
    "$\\newcommand{\\t}[2][]{{}_{#2}^{#1}\\mat{t}}$\n",
    "$\\newcommand{\\R}[2][]{{}_{#2}^{#1}\\mat{R}}$\n",
    "$\\newcommand{\\f}{\\vec{\\mathscr{f}}}}$\n",
    "$\\newcommand{\\ax}[2][]{{}_{#2}^{#1}\\vec{\\mathscr{x}}}$\n",
    "$\\newcommand{\\ay}[2][]{{}_{#2}^{#1}\\vec{\\mathscr{y}}}$\n",
    "$\\newcommand{\\az}[2][]{{}_{#2}^{#1}\\vec{\\mathscr{z}}}$\n",
    "$\\newcommand{\\aw}[2][]{{}_{#2}^{#1}\\vec{\\mathscr{w}}}$\n",
    "$\\newcommand{\\axi}{\\mathscr{x}}$\n",
    "$\\newcommand{\\ayi}{\\mathscr{y}}$\n",
    "$\\newcommand{\\azi}{\\mathscr{z}}$\n",
    "$\\newcommand{\\awi}{\\mathscr{w}}$\n",
    "$\\newcommand{\\pointx}[2][]{{}^{#1}{#2}_{\\axi}}$\n",
    "$\\newcommand{\\pointy}[2][]{{}^{#1}{#2}_{\\ayi}}$\n",
    "$\\newcommand{\\pointz}[2][]{{}^{#1}{#2}_{\\azi}}$\n",
    "$\\newcommand{\\SO}[1]{\\mathrm{SO}(#1)}$\n",
    "----"
   ]
  },
  {
   "cell_type": "markdown",
   "metadata": {},
   "source": [
    "# Exercise: math (20 min)\n",
    "\n",
    "Given the following matrix\n",
    "\\begin{aligned}\n",
    "\\mat{A} &= \\bmat{\\point{p} & \\point{q} & \\point{r}} \\\\\n",
    "&= \\bmat{a & d & g \\\\ b & e & h \\\\ c & f & i }\n",
    "\\textdot\n",
    "\\end{aligned}\n",
    "\n",
    "By using the [rule of Sarrus](https://en.wikipedia.org/wiki/Rule_of_Sarrus) or just by looking up the answer, compute the expansion of the determinant.\n",
    "Then, demonstrate the triple product property of a determinant using:\n",
    "\\begin{aligned}\n",
    "\\det(\\mat{A}) &= \\point{p} \\cdot \\point{q} \\times \\point{r}\n",
    "\\textdot\n",
    "\\end{aligned}\n",
    "\n",
    "- _Hint_: use the convert the cross product into matrix multiplication."
   ]
  },
  {
   "cell_type": "markdown",
   "metadata": {
    "deletable": false,
    "nbgrader": {
     "cell_type": "markdown",
     "checksum": "8c9741e41f88edacc2ee480631f59b3b",
     "grade": true,
     "grade_id": "1",
     "locked": false,
     "points": 0,
     "schema_version": 3,
     "solution": true,
     "task": false
    }
   },
   "source": [
    "YOUR ANSWER HERE"
   ]
  },
  {
   "cell_type": "markdown",
   "metadata": {},
   "source": [
    "# Exercise: apply (20 min)\n",
    "\n",
    "Complete the following table by replacing the `X` by a integer to compare the number of parameters in 2D and 3D."
   ]
  },
  {
   "cell_type": "markdown",
   "metadata": {},
   "source": [
    "|                                | 2D  | 3D  |\n",
    "|:---------                      |:---:|:---:|\n",
    "| translation                    | X   | X   |\n",
    "| scale                          | X   | X   |\n",
    "| shear                          | X   | X   |\n",
    "| origin $\\origin{}$ (Cartesian) | X   | X   |\n",
    "| $\\F{}$ (Cartesian)             | X   | X   |"
   ]
  },
  {
   "cell_type": "markdown",
   "metadata": {
    "deletable": false,
    "nbgrader": {
     "cell_type": "markdown",
     "checksum": "09a94ba49bb048e8052fbec1e5911386",
     "grade": true,
     "grade_id": "2",
     "locked": false,
     "points": 0,
     "schema_version": 3,
     "solution": true,
     "task": false
    }
   },
   "source": [
    "YOUR ANSWER HERE"
   ]
  },
  {
   "cell_type": "markdown",
   "metadata": {},
   "source": [
    "# Question: code (30 min)\n",
    "\n",
    "A cube (in white dashed lines) was transformed by a shear angle of 30 degrees resulting the parallelepiped with red lines. \n",
    "Reverse engineer the shear matrix that produced the transformation."
   ]
  },
  {
   "cell_type": "code",
   "execution_count": null,
   "metadata": {
    "deletable": false,
    "nbgrader": {
     "cell_type": "code",
     "checksum": "185d8b50c762b7eb6382832ec5195914",
     "grade": true,
     "grade_id": "3",
     "locked": false,
     "points": 0,
     "schema_version": 3,
     "solution": true,
     "task": false
    }
   },
   "outputs": [],
   "source": [
    "# Original cube\n",
    "P = np.array([[-1,  1,  1, -1, -1,  1,  1, -1],\n",
    "              [-1, -1,  1,  1, -1, -1,  1,  1],\n",
    "              [-1, -1, -1, -1,  1,  1,  1,  1]])\n",
    "\n",
    "# Mysterious sheared cube\n",
    "P_prime = np.array([[-1.  ,  1.  ,  1.  , -1.  , -1.  ,  1.  ,  1.  , -1.  ],\n",
    "                    [-1.  , -1.  ,  1.  ,  1.  , -1.  , -1.  ,  1.  ,  1.  ],\n",
    "                    [-1.58, -1.58, -0.42, -0.42,  0.42,  0.42,  1.58,  1.58]])\n",
    "\n",
    "# 1- Replace P_ans by your own sheared point cloud\n",
    "P_ans=np.array([])\n",
    "\n",
    "# YOUR CODE HERE\n",
    "raise NotImplementedError()\n",
    "\n",
    "# Stuff for drawing\n",
    "if 'fig' in globals():\n",
    "    plt.close(fig)\n",
    "    \n",
    "fig = plt.figure()\n",
    "ax = fig.add_subplot(111, projection='3d')\n",
    "\n",
    "# plot sides\n",
    "draw_parallelepiped(ax, P, linestyle= ':', lw=1, edgecolors='w', alpha=0)\n",
    "draw_parallelepiped(ax, P_prime, fc='white', lw=2, edgecolors='tab:red', alpha=.2)\n",
    "draw_parallelepiped(ax, P_ans, fc='tab:green', lw=3, edgecolors='tab:green', alpha=0)\n",
    "\n",
    "draw_3d_frame(ax)\n",
    "ax_lim = 1.2\n",
    "ax.set_xlim(-ax_lim, ax_lim); ax.set_ylim(-ax_lim, ax_lim); ax.set_zlim(-ax_lim, ax_lim)\n",
    "ax.set_axis_off() # comment that if you want to see the axis\n",
    "ax.set_title(\"A mysterious sheared cube\")\n"
   ]
  }
 ],
 "metadata": {
  "kernelspec": {
   "display_name": "Python 3",
   "language": "python",
   "name": "python3"
  },
  "language_info": {
   "codemirror_mode": {
    "name": "ipython",
    "version": 3
   },
   "file_extension": ".py",
   "mimetype": "text/x-python",
   "name": "python",
   "nbconvert_exporter": "python",
   "pygments_lexer": "ipython3",
   "version": "3.6.9"
  },
  "toc-showtags": false
 },
 "nbformat": 4,
 "nbformat_minor": 4
}
