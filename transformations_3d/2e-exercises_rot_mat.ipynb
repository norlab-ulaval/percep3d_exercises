{
 "cells": [
  {
   "cell_type": "markdown",
   "metadata": {
    "deletable": false,
    "editable": false,
    "nbgrader": {
     "cell_type": "markdown",
     "checksum": "c490f95aa140f52f4c1a94fc92eafe04",
     "grade": false,
     "grade_id": "cell-bc9ebbbc04be8d5c",
     "locked": true,
     "schema_version": 3,
     "solution": false,
     "task": false
    },
    "slideshow": {
     "slide_type": "slide"
    }
   },
   "source": [
    "<p style=\"text-align: center;font-size: 40pt;\"> Exercises </p>\n",
    "<p style=\"text-align: center;font-size: 20pt;\"> Rotation in 3D - matrix </p>"
   ]
  },
  {
   "cell_type": "code",
   "execution_count": null,
   "metadata": {},
   "outputs": [],
   "source": [
    "%matplotlib widget\n",
    "#%matplotlib inline\n",
    "\n",
    "import matplotlib.pyplot as plt\n",
    "from mpl_toolkits import mplot3d\n",
    "from mpl_toolkits.mplot3d.art3d import Poly3DCollection\n",
    "\n",
    "import numpy as np\n",
    "\n",
    "import ipywidgets as widgets\n",
    "\n",
    "%run ./scripts/helper_func.py\n",
    "%run ../../common/scripts/style.py"
   ]
  },
  {
   "cell_type": "markdown",
   "metadata": {
    "deletable": false,
    "editable": false,
    "nbgrader": {
     "cell_type": "markdown",
     "checksum": "614c80dd76e7e8689994d2b92de0888d",
     "grade": false,
     "grade_id": "cell-0e37c5e16b92b76a",
     "locked": true,
     "schema_version": 3,
     "solution": false,
     "task": false
    }
   },
   "source": [
    "Hidden custom latex commands here $ \\curvearrowright$\n",
    "\n",
    "----\n",
    "[comment]: <> (General commands)\n",
    "$\\newcommand{\\textcomma}{\\quad\\text{,}}$\n",
    "$\\newcommand{\\textdot}{\\quad\\text{.}}$\n",
    "$\\newcommand{\\vec}[1]{\\overrightarrow{#1}}$\n",
    "$\\newcommand{\\mat}[1]{\\mathbf{#1}}$\n",
    "$\\newcommand{\\frame}[1]{\\mathcal{#1}}$\n",
    "$\\newcommand{\\point}[2][]{{}^{#1}\\mathbf{#2}}$\n",
    "$\\newcommand{\\pointsym}[2][]{{}^{#1}\\boldsymbol{#2}}$\n",
    "$\\newcommand{\\matsym}[1]{\\boldsymbol{#1}}$\n",
    "$\\newcommand{\\real}{\\mathbb{R}}$\n",
    "$\\newcommand{\\bmat}[1]{\\begin{bmatrix}#1\\end{bmatrix}}$\n",
    "$\\newcommand{\\F}[2][]{{}_{#2}^{#1}\\mathscr{F}}$\n",
    "$\\newcommand{\\Fmat}[2][]{{}_{#2}^{#1}\\mat{F}}$\n",
    "$\\newcommand{\\origin}[2][]{{}_{#2}^{#1}\\mat{o}}$\n",
    "$\\newcommand{\\T}[2][]{{}_{#2}^{#1}\\mat{T}}$\n",
    "$\\newcommand{\\t}[2][]{{}_{#2}^{#1}\\mat{t}}$\n",
    "$\\newcommand{\\R}[2][]{{}_{#2}^{#1}\\mat{R}}$\n",
    "$\\newcommand{\\f}{\\vec{\\mathscr{f}}}$\n",
    "$\\newcommand{\\ax}[2][]{{}_{#2}^{#1}\\vec{\\mathscr{x}}}$\n",
    "$\\newcommand{\\ay}[2][]{{}_{#2}^{#1}\\vec{\\mathscr{y}}}$\n",
    "$\\newcommand{\\az}[2][]{{}_{#2}^{#1}\\vec{\\mathscr{z}}}$\n",
    "$\\newcommand{\\aw}[2][]{{}_{#2}^{#1}\\vec{\\mathscr{w}}}$\n",
    "$\\newcommand{\\axi}{\\mathscr{x}}$\n",
    "$\\newcommand{\\ayi}{\\mathscr{y}}$\n",
    "$\\newcommand{\\azi}{\\mathscr{z}}$\n",
    "$\\newcommand{\\awi}{\\mathscr{w}}$\n",
    "$\\newcommand{\\pointx}[2][]{{}^{#1}{#2}_{\\axi}}$\n",
    "$\\newcommand{\\pointy}[2][]{{}^{#1}{#2}_{\\ayi}}$\n",
    "$\\newcommand{\\pointz}[2][]{{}^{#1}{#2}_{\\azi}}$\n",
    "$\\newcommand{\\SO}[1]{\\mathrm{SO}(#1)}$\n",
    "----"
   ]
  },
  {
   "cell_type": "markdown",
   "metadata": {
    "deletable": false,
    "editable": false,
    "nbgrader": {
     "cell_type": "markdown",
     "checksum": "ceb5129c63613066f9636731ab0aa6d8",
     "grade": false,
     "grade_id": "cell-1f79b7eee89a950a",
     "locked": true,
     "schema_version": 3,
     "solution": false,
     "task": false
    }
   },
   "source": [
    "# Exercise: math (30 min)\n",
    "\n",
    "Which of these matrices represent a valid rotation?\n",
    "\n",
    "- _Hint_: matrices have been chosen so it is way quicker to validate them using math instead of code.\n",
    "\n",
    "\\begin{gathered}\n",
    "\\mat{R}_1 =\n",
    "\\bmat{\n",
    "        1 & 0 & 0\\\\\n",
    "        0 & 0 & 1\\\\\n",
    "        0 & 1 & 0\\\\\n",
    "}\n",
    "\\quad\n",
    "\\mat{R}_2 =\n",
    "\\bmat{\n",
    "        0 & 1 & 0\\\\\n",
    "        1 & 0 & 1\\\\\n",
    "        0 & 0 & 0\\\\\n",
    "}\n",
    "\\quad\n",
    "\\mat{R}_3 =\n",
    "\\bmat{\n",
    "        0 & 0 & 1\\\\\n",
    "        0 & -1 & 0\\\\\n",
    "        1 & 0 & 0\\\\\n",
    "}\n",
    "\\\\\n",
    "\\mat{R}_4 =\n",
    "\\bmat{\n",
    "        \\sqrt{2}/2 & -\\sqrt{2}/2 & 0\\\\\n",
    "        \\sqrt{2}/2 & \\sqrt{2}/2 & 0\\\\\n",
    "        0 & 0 & 1\\\\\n",
    "}\n",
    "\\quad\n",
    "\\mat{R}_5 =\n",
    "\\bmat{\n",
    "       \\sqrt{2}/2 & \\sqrt{2}/2 & 0\\\\\n",
    "        \\sqrt{2}/2 & -\\sqrt{2}/2 & 0\\\\\n",
    "        0 & 0 & 1\\\\\n",
    "}\n",
    "\\\\\n",
    "\\mat{R}_6 =\n",
    "\\bmat{\n",
    "        1/2 & 0 & -\\sqrt{3}/2\\\\\n",
    "        \\sqrt{3}/2 & 0 & 1/2\\\\\n",
    "        0 & 1 & 0\\\\\n",
    "}\n",
    "\\quad\n",
    "\\mat{R}_7 =\n",
    "\\bmat{\n",
    "        1/2 & 0 & -\\sqrt{3}/2\\\\\n",
    "        \\sqrt{3}/2 & 0 & 1/2\\\\\n",
    "        0 & -1 & 0\\\\\n",
    "}\n",
    "\\\\\n",
    "\\mat{R}_8 =\n",
    "\\bmat{\n",
    "        0 & \\cos{30^\\circ} & \\sin{30^\\circ}\\\\\n",
    "        0 & -\\sin{30^\\circ} & \\cos{30^\\circ}\\\\\n",
    "        1 & 0 & 0\\\\\n",
    "}\n",
    "\\quad \n",
    "\\mat{R}_9 =\n",
    "\\bmat{\n",
    "        0 & \\cos{30^\\circ} & -\\sin{30^\\circ}\\\\\n",
    "        0 & \\sin{30^\\circ} & \\cos{30^\\circ}\\\\\n",
    "        1 & 0 & 0\\\\\n",
    "}\n",
    "\\end{gathered}    \n",
    "    \n",
    "[//]: # \n",
    "\" For Euler angle:\n",
    "1. $$\\begin{bmatrix}\n",
    "        \\cos{\\alpha}\\cos{\\beta}\\cos{\\gamma}-\\sin{\\alpha}\\sin{\\gamma} & -\\cos{\\alpha}\\cos{\\beta}\\sin{\\gamma}-\\sin{\\alpha}\\cos{\\gamma} & \\cos{\\alpha}\\sin{\\beta}\\\\\n",
    "        \\sin{\\alpha}\\cos{\\beta}\\cos{\\gamma}+\\cos{\\alpha}\\sin{\\gamma} & -\\sin{\\alpha}\\cos{\\beta}\\sin{\\gamma}+\\cos{\\alpha}\\cos{\\gamma} & \\sin{\\alpha}\\sin{\\beta}\\\\\n",
    "        -\\sin{\\beta}\\cos{\\gamma} & \\sin{\\beta}\\sin{\\gamma} & \\cos{\\beta}\n",
    "    \\end{bmatrix}$$\n",
    "\"\n"
   ]
  },
  {
   "cell_type": "markdown",
   "metadata": {
    "deletable": false,
    "nbgrader": {
     "cell_type": "markdown",
     "checksum": "edc67771da4df4919cad9741bf064bb9",
     "grade": true,
     "grade_id": "1",
     "locked": false,
     "points": 3,
     "schema_version": 3,
     "solution": true,
     "task": false
    }
   },
   "source": [
    "YOUR ANSWER HERE"
   ]
  },
  {
   "cell_type": "markdown",
   "metadata": {
    "deletable": false,
    "editable": false,
    "nbgrader": {
     "cell_type": "markdown",
     "checksum": "91d61c1d4de37767919b9600e23861ae",
     "grade": false,
     "grade_id": "cell-1ab248cfd6dc06fa",
     "locked": true,
     "schema_version": 3,
     "solution": false,
     "task": false
    }
   },
   "source": [
    "# Exercise: math (30 min)\n",
    "\n",
    "The following principal rotation matrices represent a rotation from frame $\\frame{A}$ to frame $\\frame{B}$.\n",
    "\n",
    "\\begin{gathered}\n",
    "\\R[B]{A}_1 = \\begin{bmatrix}\n",
    "        1 & 0 & 0\\\\\n",
    "        0 & 0 & -1\\\\\n",
    "        0 & 1 & 0\\\\\n",
    "    \\end{bmatrix}\n",
    "\\quad\n",
    "\\R[B]{A}_2 = \\begin{bmatrix}\n",
    "        1 & 0 & 0\\\\\n",
    "        0 & 0 & 1\\\\\n",
    "        0 & -1 & 0\\\\\n",
    "    \\end{bmatrix}\n",
    "\\\\\n",
    "\\R[B]{A}_3 = \\begin{bmatrix}\n",
    "        \\cos{30^\\circ} & -\\sin{30^\\circ} & 0\\\\\n",
    "        \\sin{30^\\circ} & \\cos{30^\\circ} & 0\\\\\n",
    "        0 & 0 & 1\\\\\n",
    "    \\end{bmatrix}\n",
    "\\quad\n",
    "\\R[B]{A}_4 = \\begin{bmatrix}\n",
    "        \\cos{50^\\circ} & 0 & \\sin{50^\\circ} \\\\\n",
    "        0 & 1 & 0\\\\\n",
    "        -\\sin{50^\\circ} & 0 & \\cos{50^\\circ} \\\\\n",
    "    \\end{bmatrix}\n",
    "\\end{gathered}"
   ]
  },
  {
   "cell_type": "markdown",
   "metadata": {
    "deletable": false,
    "editable": false,
    "nbgrader": {
     "cell_type": "markdown",
     "checksum": "005928bfe03bd39db08cd4f1bfa5dcd6",
     "grade": false,
     "grade_id": "cell-69fa2cfeeeb60216",
     "locked": true,
     "schema_version": 3,
     "solution": false,
     "task": false
    }
   },
   "source": [
    "# Subquestion\n",
    "For each matrix, what is the direction of the $\\ax{A}$ expressed in frame $\\frame{B}$?"
   ]
  },
  {
   "cell_type": "markdown",
   "metadata": {
    "deletable": false,
    "nbgrader": {
     "cell_type": "markdown",
     "checksum": "305f0aad1c7d9d4d043f8b3694c43fcf",
     "grade": true,
     "grade_id": "2",
     "locked": false,
     "points": 1,
     "schema_version": 3,
     "solution": true,
     "task": false
    }
   },
   "source": [
    "YOUR ANSWER HERE"
   ]
  },
  {
   "cell_type": "markdown",
   "metadata": {},
   "source": [
    "# Subquestion\n",
    "For each matrix, what is the principal axis of rotation?"
   ]
  },
  {
   "cell_type": "markdown",
   "metadata": {
    "deletable": false,
    "nbgrader": {
     "cell_type": "markdown",
     "checksum": "07028cf6076d4a199e4ea97bfeae8867",
     "grade": true,
     "grade_id": "3",
     "locked": false,
     "points": 1,
     "schema_version": 3,
     "solution": true,
     "task": false
    }
   },
   "source": [
    "YOUR ANSWER HERE"
   ]
  },
  {
   "cell_type": "markdown",
   "metadata": {},
   "source": [
    "# Subquestion\n",
    "For each matrix, what is the angle of rotation?"
   ]
  },
  {
   "cell_type": "markdown",
   "metadata": {
    "deletable": false,
    "nbgrader": {
     "cell_type": "markdown",
     "checksum": "378444e658482656c8ba2dbc88ceb5e5",
     "grade": true,
     "grade_id": "4",
     "locked": false,
     "points": 1,
     "schema_version": 3,
     "solution": true,
     "task": false
    }
   },
   "source": [
    "YOUR ANSWER HERE"
   ]
  },
  {
   "cell_type": "markdown",
   "metadata": {
    "deletable": false,
    "editable": false,
    "nbgrader": {
     "cell_type": "markdown",
     "checksum": "7958bf755510cd0639c1c7e31d4ac821",
     "grade": false,
     "grade_id": "cell-20b2b76d21016ca0",
     "locked": true,
     "schema_version": 3,
     "solution": false,
     "task": false
    }
   },
   "source": [
    "# Exercise: math (60 min) - calibration with three points\n",
    "\n",
    "Three landmarks, with their coordinates being $\\point{p}$, $\\point{q}$, and $\\point{r}$, are detected by a sensor in frame $\\frame{A}$ and another sensor in frame $\\frame{B}$.\n",
    "Their coordinates are\n",
    "\n",
    "\\begin{aligned}\n",
    "\\point[B]{p} =  \\begin{bmatrix}\n",
    "  0 \\\\ 0 \\\\ 1\\\\\n",
    "\\end{bmatrix}\n",
    "\\quad\n",
    "\\point[A]{p} &=  \\begin{bmatrix}\n",
    "  1 \\\\ 0 \\\\ 0\\\\\n",
    "\\end{bmatrix}\n",
    "\\\\\n",
    "\\point[B]{q} =  \\begin{bmatrix}\n",
    "  2 \\\\ 0 \\\\ 3\\\\\n",
    "\\end{bmatrix}\n",
    "\\quad\n",
    "\\point[A]{q} &=  \\begin{bmatrix}\n",
    "  3 \\\\ 2 \\\\ 0\\\\\n",
    "\\end{bmatrix}\n",
    "\\\\\n",
    "\\point[B]{r} =  \\begin{bmatrix}\n",
    "  1 \\\\ 4 \\\\ 2\\\\\n",
    "\\end{bmatrix}\n",
    "\\quad\n",
    "\\point[A]{r} &=  \\begin{bmatrix}\n",
    "  2 \\\\ 1 \\\\ 4\\\\\n",
    "\\end{bmatrix}\n",
    "\\textdot\n",
    "\\end{aligned}\n",
    "\n",
    "Both sensors are at the same position (i.e., they share the same origin), but don't have the same orientation.\n",
    "\n",
    "Find the rotation matrix $\\R[B]{A}$ that would give the relative orientation of the sensor in $\\frame{A}$ and the frame $\\frame{B}$.\n",
    "This the same as finding the extrinsic calibration between both sensors."
   ]
  },
  {
   "cell_type": "markdown",
   "metadata": {
    "deletable": false,
    "nbgrader": {
     "cell_type": "markdown",
     "checksum": "519ebaba04e101eae614dfe8219b3f3f",
     "grade": true,
     "grade_id": "5",
     "locked": false,
     "points": 6,
     "schema_version": 3,
     "solution": true,
     "task": false
    }
   },
   "source": [
    "YOUR ANSWER HERE"
   ]
  },
  {
   "cell_type": "markdown",
   "metadata": {
    "deletable": false,
    "editable": false,
    "nbgrader": {
     "cell_type": "markdown",
     "checksum": "13d6d2c615367d833d1694a6b20f80f1",
     "grade": false,
     "grade_id": "cell-7b5730c6043276bb",
     "locked": true,
     "schema_version": 3,
     "solution": false,
     "task": false
    }
   },
   "source": [
    "# Exercise: math (60 min) - calibration with two points\n",
    "\n",
    "You only need two points to constrain a 3D rotation, so let see how you can deal with this exercise.\n",
    "Two landmarks with their coordinates being $\\point{p}$ and $\\point{q}$ are detected by a sensor in frame $\\frame{A}$ and another sensor in frame $\\frame{B}$.\n",
    "Their coordinates are\n",
    "\n",
    "\\begin{aligned}\n",
    "\\point[B]{p} =  \\begin{bmatrix}\n",
    "  0 \\\\ 1 \\\\ 0\\\\\n",
    "\\end{bmatrix}\n",
    "\\quad\n",
    "\\point[A]{p} &=  \\begin{bmatrix}\n",
    "  1 \\\\ 0 \\\\ 0\\\\\n",
    "\\end{bmatrix}\n",
    "\\\\\n",
    "\\point[B]{q} =  \\begin{bmatrix}\n",
    "  2 \\\\ 1 \\\\ 0\\\\\n",
    "\\end{bmatrix}\n",
    "\\quad\n",
    "\\point[A]{q} &=  \\begin{bmatrix}\n",
    "  1 \\\\ 2 \\\\ 0\\\\\n",
    "\\end{bmatrix}\n",
    "\\textdot\n",
    "\\end{aligned}\n",
    "\n",
    "Both sensors are at the same position (i.e., they share the same origin), but don't have the same orientation.\n",
    "\n",
    "Find the rotation matrix $\\R[B]{A}$ that would give the relative orientation of the sensor in $\\frame{A}$ and the frame $\\frame{B}$.\n",
    "This the same as finding the extrinsic calibration between both sensors."
   ]
  },
  {
   "cell_type": "markdown",
   "metadata": {
    "deletable": false,
    "nbgrader": {
     "cell_type": "markdown",
     "checksum": "880487cf9f56120db1b198d253c36a55",
     "grade": true,
     "grade_id": "6",
     "locked": false,
     "points": 6,
     "schema_version": 3,
     "solution": true,
     "task": false
    }
   },
   "source": [
    "YOUR ANSWER HERE"
   ]
  },
  {
   "cell_type": "markdown",
   "metadata": {
    "deletable": false,
    "editable": false,
    "nbgrader": {
     "cell_type": "markdown",
     "checksum": "ea1f53b3e509f3f725b668de0d05c5c3",
     "grade": false,
     "grade_id": "cell-7f399f7bebfb30df",
     "locked": true,
     "schema_version": 3,
     "solution": false,
     "task": false
    }
   },
   "source": [
    "# Exercise: code (60 min) - a sneaky problem\n",
    "\n",
    "It is often required to chain small rotations to a rotation matrix holding the current state of a rigid body.\n",
    "On the long run, one of the problem that happen is that, due to rounding errors, the rotation matrix slowly degrades.\n",
    "For example, this situation can be observable when a localization algorithm is running for a couple of hours and then weird behavior start appear.\n",
    "This situation is extremely hard to debug and one of the symptoms is that point clouds would start to skew. \n",
    "\n",
    "The following code expose such a problem with a small rotation matrix `delta_R` that is used to slowly build a larger rotation matrix `R` by chaining it with itself.\n",
    "We have a for loop that repeat this operation `nb_iter` times and apply the transformation `R` to a point cloud shaped as a cube centered around the origin.\n",
    "The function `correct_3d_rot_mat()`, which does nothing at this point, is used to correct the matrix every `corr_freq` loops.\n",
    "\n",
    "Start by observing the impact of the rounding error in the figure provided.\n",
    "Then, fill the function `correct_3d_rot_mat()` so the cube is distorted after `nb_iter` iterations."
   ]
  },
  {
   "cell_type": "code",
   "execution_count": null,
   "metadata": {
    "deletable": false,
    "nbgrader": {
     "cell_type": "code",
     "checksum": "3d27a292522ceb0d896b29a066d1dd3c",
     "grade": true,
     "grade_id": "7",
     "locked": false,
     "points": 6,
     "schema_version": 3,
     "solution": true,
     "task": false
    }
   },
   "outputs": [],
   "source": [
    "def correct_3d_rot_mat(R):\n",
    "    \"\"\"Return R a corrected rotation matrix\"\"\"\n",
    "        \n",
    "    # YOUR CODE HERE\n",
    "    raise NotImplementedError()\n",
    "    return R\n",
    "\n",
    "nb_iter = 100000\n",
    "corr_freq = 1000\n",
    "\n",
    "R = np.eye(3)\n",
    "\n",
    "delta_R = np.array([[ 0.975186, -0.078656,  0.206931],\n",
    "                    [ 0.118357,  0.975186, -0.187086],\n",
    "                    [-0.187086,  0.206938,  0.960308]])\n",
    "\n",
    "# validating that delta_R is a rotation matrix\n",
    "print(\"det(delta_R) = %.5f\" % np.linalg.det(delta_R))\n",
    "norm_col0 = np.linalg.norm(delta_R[:,0])\n",
    "print(\"norm(col0) = %.5f\" % norm_col0)\n",
    "col2 = np.cross(delta_R[:,0], delta_R[:,1])\n",
    "print(\"col0 x col1 = col2: %r\" % np.allclose(col2, delta_R[:,2], atol=1e-05))\n",
    "\n",
    "# generate a point cloud with 8 points ordered to draw a cube\n",
    "P = generate_cube()\n",
    "\n",
    "for i in range(nb_iter):\n",
    "    # increment R by a small rotation\n",
    "    R = R @ delta_R \n",
    "    \n",
    "    # in a real application, there would be a complicated process here...\n",
    "    \n",
    "    # Apply a correction once in a while\n",
    "    if not(i % corr_freq):\n",
    "        R = correct_3d_rot_mat(R)\n",
    "\n",
    "# Rotate the original point cloud with our resulting \n",
    "# rotation matrix\n",
    "P_prime = R @ P\n",
    "\n",
    "#----------------------------------\n",
    "# Plotting stuff\n",
    "if 'fig' in globals():\n",
    "    plt.close(fig)\n",
    "fig = plt.figure(figsize=(3,3))\n",
    "ax = fig.add_subplot(111, projection=\"3d\")\n",
    "draw_3d_frame(ax)\n",
    "draw_parallelepiped(ax, P, linestyle= ':', lw=1, edgecolors='w', alpha=0)\n",
    "draw_parallelepiped(ax, P_prime, fc='white', lw=2, edgecolors='tab:red', alpha=.2)\n",
    "\n",
    "ax.set_axis_off()\n",
    "ax_lim = 1.1\n",
    "ax.set_xlim(-ax_lim, ax_lim); ax.set_ylim(-ax_lim, ax_lim); ax.set_zlim(-ax_lim, ax_lim);"
   ]
  }
 ],
 "metadata": {
  "kernelspec": {
   "display_name": "Python 3",
   "language": "python",
   "name": "python3"
  },
  "language_info": {
   "codemirror_mode": {
    "name": "ipython",
    "version": 3
   },
   "file_extension": ".py",
   "mimetype": "text/x-python",
   "name": "python",
   "nbconvert_exporter": "python",
   "pygments_lexer": "ipython3",
   "version": "3.8.2"
  }
 },
 "nbformat": 4,
 "nbformat_minor": 4
}
