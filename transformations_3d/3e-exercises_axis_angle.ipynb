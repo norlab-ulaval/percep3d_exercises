{
 "cells": [
  {
   "cell_type": "markdown",
   "metadata": {
    "deletable": false,
    "editable": false,
    "nbgrader": {
     "cell_type": "markdown",
     "checksum": "53c330a71e7f01c7f9cfdef5c15dd644",
     "grade": false,
     "grade_id": "cell-bc9ebbbc04be8d5c",
     "locked": true,
     "schema_version": 3,
     "solution": false,
     "task": false
    },
    "slideshow": {
     "slide_type": "slide"
    }
   },
   "source": [
    "<p style=\"text-align: center;font-size: 40pt;\"> Exercises </p>\n",
    "<p style=\"text-align: center;font-size: 20pt;\"> Rotation in 3D - axis angle </p>"
   ]
  },
  {
   "cell_type": "code",
   "execution_count": null,
   "metadata": {},
   "outputs": [],
   "source": [
    "%matplotlib widget\n",
    "#%matplotlib inline\n",
    "\n",
    "import matplotlib.pyplot as plt\n",
    "from mpl_toolkits import mplot3d\n",
    "from mpl_toolkits.mplot3d.art3d import Poly3DCollection\n",
    "\n",
    "import numpy as np\n",
    "\n",
    "import ipywidgets as widgets\n",
    "\n",
    "%run ./scripts/helper_func.py\n",
    "path = \"{0}/common/scripts/style.py\".format(get_root_path())\n",
    "%run $path"
   ]
  },
  {
   "cell_type": "markdown",
   "metadata": {
    "deletable": false,
    "editable": false,
    "nbgrader": {
     "cell_type": "markdown",
     "checksum": "e8dbd16d257543b8b8d368405d912ec4",
     "grade": false,
     "grade_id": "cell-5b6a35006c9c7dea",
     "locked": true,
     "schema_version": 3,
     "solution": false,
     "task": false
    }
   },
   "source": [
    "Hidden custom latex commands here $ \\curvearrowright$\n",
    "\n",
    "----\n",
    "[comment]: <> (General commands)\n",
    "$\\newcommand{\\textcomma}{\\quad\\text{,}}$\n",
    "$\\newcommand{\\textdot}{\\quad\\text{.}}$\n",
    "$\\newcommand{\\vec}[1]{\\overrightarrow{#1}}$\n",
    "$\\newcommand{\\mat}[1]{\\mathbf{#1}}$\n",
    "$\\newcommand{\\frame}[1]{\\mathcal{#1}}$\n",
    "$\\newcommand{\\point}[2][]{{}^{#1}\\mathbf{#2}}$\n",
    "$\\newcommand{\\pointsym}[2][]{{}^{#1}\\boldsymbol{#2}}$\n",
    "$\\newcommand{\\matsym}[1]{\\boldsymbol{#1}}$\n",
    "$\\newcommand{\\real}{\\mathbb{R}}$\n",
    "$\\newcommand{\\bmat}[1]{\\begin{bmatrix}#1\\end{bmatrix}}$\n",
    "$\\newcommand{\\F}[2][]{{}_{#2}^{#1}\\mathscr{F}}$\n",
    "$\\newcommand{\\Fmat}[2][]{{}_{#2}^{#1}\\mat{F}}$\n",
    "$\\newcommand{\\origin}[2][]{{}_{#2}^{#1}\\mat{o}}$\n",
    "$\\newcommand{\\T}[2][]{{}_{#2}^{#1}\\mat{T}}$\n",
    "$\\newcommand{\\t}[2][]{{}_{#2}^{#1}\\mat{t}}$\n",
    "$\\newcommand{\\R}[2][]{{}_{#2}^{#1}\\mat{R}}$\n",
    "$\\newcommand{\\f}{\\vec{\\mathscr{f}}}$\n",
    "$\\newcommand{\\ax}[2][]{{}_{#2}^{#1}\\vec{\\mathscr{x}}}$\n",
    "$\\newcommand{\\ay}[2][]{{}_{#2}^{#1}\\vec{\\mathscr{y}}}$\n",
    "$\\newcommand{\\az}[2][]{{}_{#2}^{#1}\\vec{\\mathscr{z}}}$\n",
    "$\\newcommand{\\aw}[2][]{{}_{#2}^{#1}\\vec{\\mathscr{w}}}$\n",
    "$\\newcommand{\\axi}{\\mathscr{x}}$\n",
    "$\\newcommand{\\ayi}{\\mathscr{y}}$\n",
    "$\\newcommand{\\azi}{\\mathscr{z}}$\n",
    "$\\newcommand{\\awi}{\\mathscr{w}}$\n",
    "$\\newcommand{\\pointx}[2][]{{}^{#1}{#2}_{\\axi}}$\n",
    "$\\newcommand{\\pointy}[2][]{{}^{#1}{#2}_{\\ayi}}$\n",
    "$\\newcommand{\\pointz}[2][]{{}^{#1}{#2}_{\\azi}}$\n",
    "$\\newcommand{\\SO}[1]{\\mathrm{SO}(#1)}$\n",
    "----"
   ]
  },
  {
   "cell_type": "markdown",
   "metadata": {
    "deletable": false,
    "editable": false,
    "nbgrader": {
     "cell_type": "markdown",
     "checksum": "17903cdf6a90c6749b42a176db6c7ce3",
     "grade": false,
     "grade_id": "1",
     "locked": true,
     "points": 3,
     "schema_version": 3,
     "solution": false,
     "task": true
    }
   },
   "source": [
    "# Exercise: math (30 min)\n",
    "\n",
    "For each of the following axis-angle rotations, give the equivalent rotation matrix\n",
    "\n",
    "\\begin{aligned}\n",
    "\\matsym{\\theta}_1 &= \\left\\{ \\;\n",
    "\\bmat{\n",
    "        1 \\\\\n",
    "        0 \\\\\n",
    "        0 \\\\\n",
    "}\n",
    ", \\quad\n",
    " \\frac{\\pi}{2}\n",
    "\\right\\}\n",
    "\\\\\n",
    "\\matsym{\\theta}_1 &= \\left\\{ \\;\n",
    "\\bmat{\n",
    "        0 \\\\\n",
    "        1 \\\\\n",
    "        0 \\\\\n",
    "}\n",
    ", \\quad\n",
    "\\frac{\\pi}{2}\n",
    "\\right\\}\n",
    "\\\\\n",
    "\\matsym{\\theta}_3 &=\n",
    "\\bmat{\n",
    "        0 \\\\\n",
    "        0 \\\\\n",
    "        \\frac{\\pi}{6} \\\\\n",
    "}\n",
    "\\end{aligned}\n",
    "\n",
    "- _Hint_: look for [known algebraic values of sin and cos](https://en.wikipedia.org/wiki/Trigonometric_functions#Algebraic_values).\n"
   ]
  },
  {
   "cell_type": "markdown",
   "metadata": {},
   "source": []
  },
  {
   "cell_type": "markdown",
   "metadata": {
    "deletable": false,
    "editable": false,
    "nbgrader": {
     "cell_type": "markdown",
     "checksum": "32a4369fadfaa7bb85b06cf205309a85",
     "grade": false,
     "grade_id": "2",
     "locked": true,
     "points": 3,
     "schema_version": 3,
     "solution": false,
     "task": true
    }
   },
   "source": [
    "# Exercise: apply (30 min) - Rotational distance\n",
    "\n",
    "It happens often that we want to compare rotation matrices to evaluate which one is the closest to a ground-truth value.\n",
    "For example, the attitude of a vehicle, measured by a very accurate and expensive equipment, is considered to be:\n",
    "\n",
    "\\begin{aligned}\n",
    "\\R{}_\\text{gt} =  \\begin{bmatrix}\n",
    "  0.23 & 0.91 & 0.35\\\\\n",
    "  -0.67 & 0.41 & -0.62\\\\\n",
    "  -0.7 & -0.09 & 0.7\\\\\n",
    "\\end{bmatrix}\n",
    "\\end{aligned}\n",
    "\n",
    "You also have three methods estimating the same vehicle attitude, using cheaper sensors, which produce the following rotation matrices:\n",
    "\n",
    "\\begin{aligned}\n",
    "\\R{}_1 =  \\begin{bmatrix}\n",
    "  0.09 & 0.94 & 0.32\\\\\n",
    "  -0.66 & 0.3 & -0.69\\\\\n",
    "  -0.74 & -0.15 & 0.65\\\\\n",
    "\\end{bmatrix}\n",
    ", \\quad\n",
    "\\R{}_2 =  \\begin{bmatrix}\n",
    "  0.57 & 0.74 & 0.35\\\\\n",
    "  -0.61 & 0.67 & -0.42\\\\\n",
    "  -0.55 & 0.03 & 0.84\\\\\n",
    "\\end{bmatrix}\n",
    ", \\quad\n",
    "\\R{}_3 =  \\begin{bmatrix}\n",
    "  0.22 & 0.93 & 0.29\\\\\n",
    "  -0.74 & 0.35 & -0.57\\\\\n",
    "  -0.64 & -0.09 & 0.77\\\\\n",
    "\\end{bmatrix}\n",
    "\\end{aligned}\n",
    "\n",
    "Which of those three methods produce the estimate which is closest to $\\R{}_\\text{gt}$?\n",
    "\n",
    "- _Hint 1_: Recall that $\\R{}^T \\, \\R{} = \\R{} \\, \\R{}^T = \\mat{I}$, which should give an error of 0.\n",
    "- _Hint 2_: You are looking for a distance expressed in radians. The equation is in the lesson.\n"
   ]
  },
  {
   "cell_type": "markdown",
   "metadata": {},
   "source": []
  },
  {
   "cell_type": "code",
   "execution_count": null,
   "metadata": {},
   "outputs": [],
   "source": [
    "# YOUR CODE HERE\n",
    "raise NotImplementedError()"
   ]
  }
 ],
 "metadata": {
  "kernelspec": {
   "display_name": "Python 3",
   "language": "python",
   "name": "python3"
  },
  "language_info": {
   "codemirror_mode": {
    "name": "ipython",
    "version": 3
   },
   "file_extension": ".py",
   "mimetype": "text/x-python",
   "name": "python",
   "nbconvert_exporter": "python",
   "pygments_lexer": "ipython3",
   "version": "3.6.9"
  }
 },
 "nbformat": 4,
 "nbformat_minor": 4
}
