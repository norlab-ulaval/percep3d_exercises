{
 "cells": [
  {
   "cell_type": "markdown",
   "metadata": {
    "deletable": false,
    "editable": false,
    "nbgrader": {
     "cell_type": "markdown",
     "checksum": "7dda3e3dfc9f5bf140ee5a509d2c55cb",
     "grade": false,
     "grade_id": "cell-bc9ebbbc04be8d5c",
     "locked": true,
     "schema_version": 3,
     "solution": false,
     "task": false
    },
    "slideshow": {
     "slide_type": "slide"
    }
   },
   "source": [
    "<p style=\"text-align: center;font-size: 40pt;\"> Exercises </p>\n",
    "<p style=\"text-align: center;font-size: 20pt;\"> Rotation in 3D - Euler angles </p>"
   ]
  },
  {
   "cell_type": "code",
   "execution_count": null,
   "metadata": {},
   "outputs": [],
   "source": [
    "%matplotlib widget\n",
    "#%matplotlib inline\n",
    "\n",
    "import matplotlib.pyplot as plt\n",
    "from mpl_toolkits import mplot3d\n",
    "from mpl_toolkits.mplot3d.art3d import Poly3DCollection\n",
    "\n",
    "import numpy as np\n",
    "\n",
    "import ipywidgets as widgets\n",
    "\n",
    "%run ./scripts/helper_func.py\n",
    "path = \"{0}/common/scripts/style.py\".format(get_root_path())\n",
    "%run $path"
   ]
  },
  {
   "cell_type": "markdown",
   "metadata": {
    "deletable": false,
    "editable": false,
    "nbgrader": {
     "cell_type": "markdown",
     "checksum": "c67913b65ac46214db16d0cb3e38f6f2",
     "grade": false,
     "grade_id": "cell-bec30d3c92cbeca2",
     "locked": true,
     "schema_version": 3,
     "solution": false,
     "task": false
    }
   },
   "source": [
    "Hidden custom latex commands here $ \\curvearrowright$\n",
    "\n",
    "----\n",
    "[comment]: <> (General commands)\n",
    "$\\newcommand{\\textcomma}{\\quad\\text{,}}$\n",
    "$\\newcommand{\\textdot}{\\quad\\text{.}}$\n",
    "$\\newcommand{\\vec}[1]{\\overrightarrow{#1}}$\n",
    "$\\newcommand{\\mat}[1]{\\mathbf{#1}}$\n",
    "$\\newcommand{\\frame}[1]{\\mathcal{#1}}$\n",
    "$\\newcommand{\\point}[2][]{{}^{#1}\\mathbf{#2}}$\n",
    "$\\newcommand{\\pointsym}[2][]{{}^{#1}\\boldsymbol{#2}}$\n",
    "$\\newcommand{\\matsym}[1]{\\boldsymbol{#1}}$\n",
    "$\\newcommand{\\real}{\\mathbb{R}}$\n",
    "$\\newcommand{\\bmat}[1]{\\begin{bmatrix}#1\\end{bmatrix}}$\n",
    "$\\newcommand{\\F}[2][]{{}_{#2}^{#1}\\mathscr{F}}$\n",
    "$\\newcommand{\\Fmat}[2][]{{}_{#2}^{#1}\\mat{F}}$\n",
    "$\\newcommand{\\origin}[2][]{{}_{#2}^{#1}\\mat{o}}$\n",
    "$\\newcommand{\\T}[2][]{{}_{#2}^{#1}\\mat{T}}$\n",
    "$\\newcommand{\\t}[2][]{{}_{#2}^{#1}\\mat{t}}$\n",
    "$\\newcommand{\\R}[2][]{{}_{#2}^{#1}\\mat{R}}$\n",
    "$\\newcommand{\\f}{\\vec{\\mathscr{f}}}$\n",
    "$\\newcommand{\\ax}[2][]{{}_{#2}^{#1}\\vec{\\mathscr{x}}}$\n",
    "$\\newcommand{\\ay}[2][]{{}_{#2}^{#1}\\vec{\\mathscr{y}}}$\n",
    "$\\newcommand{\\az}[2][]{{}_{#2}^{#1}\\vec{\\mathscr{z}}}$\n",
    "$\\newcommand{\\aw}[2][]{{}_{#2}^{#1}\\vec{\\mathscr{w}}}$\n",
    "$\\newcommand{\\axi}{\\mathscr{x}}$\n",
    "$\\newcommand{\\ayi}{\\mathscr{y}}$\n",
    "$\\newcommand{\\azi}{\\mathscr{z}}$\n",
    "$\\newcommand{\\awi}{\\mathscr{w}}$\n",
    "$\\newcommand{\\pointx}[2][]{{}^{#1}{#2}_{\\axi}}$\n",
    "$\\newcommand{\\pointy}[2][]{{}^{#1}{#2}_{\\ayi}}$\n",
    "$\\newcommand{\\pointz}[2][]{{}^{#1}{#2}_{\\azi}}$\n",
    "$\\newcommand{\\SO}[1]{\\mathrm{SO}(#1)}$\n",
    "----"
   ]
  },
  {
   "cell_type": "markdown",
   "metadata": {
    "deletable": false,
    "editable": false,
    "nbgrader": {
     "cell_type": "markdown",
     "checksum": "4d2f91a24b34385891bcf3c7159375d6",
     "grade": false,
     "grade_id": "1",
     "locked": true,
     "points": 2,
     "schema_version": 3,
     "solution": false,
     "task": true
    }
   },
   "source": [
    "# Exercise: math (20 min)\n",
    "\n",
    "Given the following sequences of rotations, determine the final orientation of $\\ax{}$.\n",
    "\n",
    "1. Rotation about $\\az{}$ by 90$^\\circ$, then rotation about **new** $\\ay{}$ by 90$^\\circ$.\n",
    "1. Rotation about $\\ay{}$ by 90$^\\circ$, then rotation about **new** $\\az{}$ by 90$^\\circ$.\n",
    "1. Rotation about $\\az{}$ by 90$^\\circ$, then rotation about **fixed** $\\ay{}$ by 90$^\\circ$.\n",
    "1. Rotation about $\\ay{}$ by 90$^\\circ$, then rotation about **fixed** $\\az{}$ by 90$^\\circ$.\n",
    "[//]: # \n",
    "\"\n",
    "1. Rotation about $\\az{}$ by 30$^\\circ$, then rotation about **new** $\\ax{}$ by 30$^\\circ$, then rotation about **new** $\\az{}$ by 30$^\\circ$.\n",
    "\"\n",
    "\n",
    "Recall that\n",
    "\\begin{gathered}\n",
    "\\ax{} = \\bmat{ 1\\\\ 0\\\\ 0}\n",
    "\\end{gathered}\n",
    "\n",
    "- _Hint 1_: values have been chosen so that it is faster to rotate your hand than to code it.\n",
    "- _Hint 2_: recall the right-hand rule for the direction of rotation.\n"
   ]
  },
  {
   "cell_type": "markdown",
   "metadata": {},
   "source": []
  },
  {
   "cell_type": "markdown",
   "metadata": {
    "deletable": false,
    "editable": false,
    "nbgrader": {
     "cell_type": "markdown",
     "checksum": "69bbf6bc587cf0b336c16157ed776eb6",
     "grade": false,
     "grade_id": "2",
     "locked": true,
     "points": 2,
     "schema_version": 3,
     "solution": false,
     "task": true
    }
   },
   "source": [
    "# Exercise: math (20 min)\n",
    "\n",
    "Using the z-x'-z'' intrinsic rotation convention (i.e., rotations about the **new** axes), determine the rotation matrix corresponding to the following rotations. \n",
    "\n",
    "- _Hint 1_: recall that $\\alpha$ represents a rotation about $\\az{}$, $\\beta$ represents a rotation about $\\ax{}'$ and $\\gamma$ represents a rotation about $\\az{}''$.\n",
    "- _Hint 2_: values have been chosen so that it is faster to rotate your hand than to code it.\n",
    "\n",
    "\n",
    "1. $\\alpha=\\theta$, $\\beta=0$, $\\gamma=0$\n",
    "1. $\\alpha=0$, $\\beta=0$, $\\gamma=\\theta$\n",
    "1. $\\alpha=\\frac{\\theta}{2}$, $\\beta=0$, $\\gamma=\\frac{\\theta}{2}$\n",
    "1. $\\alpha=\\theta$, $\\beta=\\pi$, $\\gamma=\\theta$\n"
   ]
  },
  {
   "cell_type": "markdown",
   "metadata": {},
   "source": []
  },
  {
   "cell_type": "markdown",
   "metadata": {
    "deletable": false,
    "editable": false,
    "nbgrader": {
     "cell_type": "markdown",
     "checksum": "40c1535cd9022fdc7cfdb09290335ca5",
     "grade": false,
     "grade_id": "3",
     "locked": true,
     "points": 2,
     "schema_version": 3,
     "solution": false,
     "task": true
    }
   },
   "source": [
    "# Exercise: math (20 min)\n",
    "\n",
    "Find the Euler angles $\\matsym{\\theta} = \\left\\{\\alpha , \\beta , \\gamma \\right\\}$ corresponding to the following rotation matrices in the z-x'-z'' convention.\n",
    "\n",
    "- _Hint_: look for [known algebraic values of sin and cos](https://en.wikipedia.org/wiki/Trigonometric_functions#Algebraic_values).\n",
    "\n",
    "\\begin{aligned}\n",
    "\\R{}_1 &= \n",
    "\\begin{bmatrix}\n",
    "    1 & 0 & 0\\\\\n",
    "    0 & 0 & -1\\\\\n",
    "    0 & 1 & 0\n",
    "\\end{bmatrix}\n",
    "\\\\\n",
    "\\R{}_2 &= \n",
    "\\begin{bmatrix}\n",
    "    \\frac{1}{2} & -\\frac{\\sqrt{3}}{2} & 0\\\\\n",
    "    \\frac{\\sqrt{3}}{4} & \\frac{1}{4}  & -\\frac{\\sqrt{3}}{2}\\\\\n",
    "    \\frac{3}{4}   & \\frac{\\sqrt{3}}{4}  & \\frac{1}{2}\n",
    "\\end{bmatrix}\n",
    "\\textdot\n",
    "\\end{aligned}\n"
   ]
  },
  {
   "cell_type": "markdown",
   "metadata": {},
   "source": []
  }
 ],
 "metadata": {
  "kernelspec": {
   "display_name": "Python 3",
   "language": "python",
   "name": "python3"
  },
  "language_info": {
   "codemirror_mode": {
    "name": "ipython",
    "version": 3
   },
   "file_extension": ".py",
   "mimetype": "text/x-python",
   "name": "python",
   "nbconvert_exporter": "python",
   "pygments_lexer": "ipython3",
   "version": "3.6.9"
  }
 },
 "nbformat": 4,
 "nbformat_minor": 4
}
