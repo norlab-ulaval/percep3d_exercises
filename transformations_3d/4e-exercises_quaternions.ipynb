{
 "cells": [
  {
   "cell_type": "markdown",
   "metadata": {
    "deletable": false,
    "editable": false,
    "nbgrader": {
     "cell_type": "markdown",
     "checksum": "6d52bf5b452d13fe120031a08e137cc3",
     "grade": false,
     "grade_id": "cell-bc9ebbbc04be8d5c",
     "locked": true,
     "schema_version": 3,
     "solution": false,
     "task": false
    },
    "slideshow": {
     "slide_type": "slide"
    }
   },
   "source": [
    "<p style=\"text-align: center;font-size: 40pt;\"> Exercises </p>\n",
    "<p style=\"text-align: center;font-size: 20pt;\"> Rotation in 3D - quaternions </p>"
   ]
  },
  {
   "cell_type": "code",
   "execution_count": null,
   "metadata": {},
   "outputs": [],
   "source": [
    "%matplotlib inline\n",
    "\n",
    "import matplotlib.pyplot as plt\n",
    "from mpl_toolkits import mplot3d\n",
    "from mpl_toolkits.mplot3d.art3d import Poly3DCollection\n",
    "\n",
    "import numpy as np\n",
    "\n",
    "import ipywidgets as widgets\n",
    "\n",
    "%run ./scripts/helper_func.py\n",
    "path = \"{0}/common/scripts/style.py\".format(get_root_path())\n",
    "%run $path"
   ]
  },
  {
   "cell_type": "markdown",
   "metadata": {
    "deletable": false,
    "editable": false,
    "nbgrader": {
     "cell_type": "markdown",
     "checksum": "86f46467f8bd3b48abb92fcca239766c",
     "grade": false,
     "grade_id": "cell-4eff321b98c81ebf",
     "locked": true,
     "schema_version": 3,
     "solution": false,
     "task": false
    }
   },
   "source": [
    "Hidden custom latex commands here $ \\curvearrowright$\n",
    "\n",
    "----\n",
    "[comment]: <> (General commands)\n",
    "$\\newcommand{\\textcomma}{\\quad\\text{,}}$\n",
    "$\\newcommand{\\textdot}{\\quad\\text{.}}$\n",
    "$\\newcommand{\\vec}[1]{\\overrightarrow{#1}}$\n",
    "$\\newcommand{\\mat}[1]{\\mathbf{#1}}$\n",
    "$\\newcommand{\\frame}[1]{\\mathcal{#1}}$\n",
    "$\\newcommand{\\point}[2][]{{}^{#1}\\mathbf{#2}}$\n",
    "$\\newcommand{\\pointsym}[2][]{{}^{#1}\\boldsymbol{#2}}$\n",
    "$\\newcommand{\\matsym}[1]{\\boldsymbol{#1}}$\n",
    "$\\newcommand{\\real}{\\mathbb{R}}$\n",
    "$\\newcommand{\\bmat}[1]{\\begin{bmatrix}#1\\end{bmatrix}}$\n",
    "$\\newcommand{\\F}[2][]{{}_{#2}^{#1}\\mathscr{F}}$\n",
    "$\\newcommand{\\Fmat}[2][]{{}_{#2}^{#1}\\mat{F}}$\n",
    "$\\newcommand{\\origin}[2][]{{}_{#2}^{#1}\\mat{o}}$\n",
    "$\\newcommand{\\T}[2][]{{}_{#2}^{#1}\\mat{T}}$\n",
    "$\\newcommand{\\t}[2][]{{}_{#2}^{#1}\\mat{t}}$\n",
    "$\\newcommand{\\R}[2][]{{}_{#2}^{#1}\\mat{R}}$\n",
    "$\\newcommand{\\f}{\\vec{\\mathscr{f}}}$\n",
    "$\\newcommand{\\ax}[2][]{{}_{#2}^{#1}\\vec{\\mathscr{x}}}$\n",
    "$\\newcommand{\\ay}[2][]{{}_{#2}^{#1}\\vec{\\mathscr{y}}}$\n",
    "$\\newcommand{\\az}[2][]{{}_{#2}^{#1}\\vec{\\mathscr{z}}}$\n",
    "$\\newcommand{\\aw}[2][]{{}_{#2}^{#1}\\vec{\\mathscr{w}}}$\n",
    "$\\newcommand{\\axi}{\\mathscr{x}}$\n",
    "$\\newcommand{\\ayi}{\\mathscr{y}}$\n",
    "$\\newcommand{\\azi}{\\mathscr{z}}$\n",
    "$\\newcommand{\\awi}{\\mathscr{w}}$\n",
    "$\\newcommand{\\pointx}[2][]{{}^{#1}{#2}_{\\axi}}$\n",
    "$\\newcommand{\\pointy}[2][]{{}^{#1}{#2}_{\\ayi}}$\n",
    "$\\newcommand{\\pointz}[2][]{{}^{#1}{#2}_{\\azi}}$\n",
    "$\\newcommand{\\SO}[1]{\\mathrm{SO}(#1)}$\n",
    "----"
   ]
  },
  {
   "cell_type": "markdown",
   "metadata": {
    "deletable": false,
    "editable": false,
    "nbgrader": {
     "cell_type": "markdown",
     "checksum": "c985df9b30ea392dbba184dc899c6ab9",
     "grade": false,
     "grade_id": "1",
     "locked": true,
     "points": 3,
     "schema_version": 3,
     "solution": false,
     "task": true
    }
   },
   "source": [
    "# Exercise: math (30 min)\n",
    "\n",
    "Given a quaternion in the format\n",
    "\n",
    "\\begin{aligned}\n",
    "\\mat{q} = \\bmat{q_\\axi \\\\ q_\\ayi \\\\ q_\\azi \\\\ q_\\awi }\n",
    "\\textdot\n",
    "\\end{aligned}\n",
    "\n",
    "Determine the rotation represented by the following unit quaternions.\n",
    "You should not need to compute anything.\n",
    "\n",
    "\\begin{aligned}\n",
    "\\mat{q}_1 = \\bmat{0 \\\\ 0 \\\\ 0 \\\\ 1}\n",
    ", \\quad\n",
    "\\mat{q}_2 = \\bmat{1 \\\\ 0 \\\\ 0 \\\\ 0}\n",
    ", \\quad\n",
    "\\mat{q}_3 = \\bmat{0 \\\\ 1 \\\\ 0 \\\\ 0}\n",
    ", \\quad\n",
    "\\mat{q}_4 = \\bmat{0 \\\\ 0 \\\\ \\sqrt{2}/2 \\\\ \\sqrt{2}/2}\n",
    "\\textdot\n",
    "\\end{aligned}\n",
    "\n",
    "The expected answer per quaternion should be a sentence defining the axis and the angle of rotation.\n"
   ]
  },
  {
   "cell_type": "markdown",
   "metadata": {},
   "source": []
  },
  {
   "cell_type": "markdown",
   "metadata": {
    "deletable": false,
    "editable": false,
    "nbgrader": {
     "cell_type": "markdown",
     "checksum": "a513eb41881d0aab077b760ad37301f8",
     "grade": false,
     "grade_id": "2",
     "locked": true,
     "points": 1,
     "schema_version": 3,
     "solution": false,
     "task": true
    }
   },
   "source": [
    "# Exercise: math (30 min)\n",
    "\n",
    "\n",
    "Given two quaternions $\\mat{a}$ and $\\mat{b}$, give the resulting quaternion that would first rotate a point by $\\mat{a}$ and then by $\\mat{b}$.\n",
    "\n",
    "Write the expansion, not just the general equation, so we can see the equation for the vector component and the scalar component.\n"
   ]
  },
  {
   "cell_type": "markdown",
   "metadata": {},
   "source": []
  },
  {
   "cell_type": "markdown",
   "metadata": {
    "deletable": false,
    "editable": false,
    "nbgrader": {
     "cell_type": "markdown",
     "checksum": "cdb7b35d4408a35c5a1a9a72ed860453",
     "grade": false,
     "grade_id": "3",
     "locked": true,
     "points": 1,
     "schema_version": 3,
     "solution": false,
     "task": true
    }
   },
   "source": [
    "# Exercise: math (30 min)\n",
    "\n",
    "For each of the following sequences of rotations, what is the resulting quaternion?\n",
    "\n",
    "\n",
    "1. rotation about $\\ax{}$ by $\\pi/2$ then rotation about $\\ay{}$ by $\\pi/3$.\n",
    "\n",
    "1. rotation about the vector $\\begin{bmatrix} 1 \\\\ 1 \\\\ 1 \\end{bmatrix}$ by $\\pi/4$ then rotation about the vector $\\begin{bmatrix} 2 \\\\ 2 \\\\ 2 \\end{bmatrix}$ by $-\\pi/4$.\n",
    "\n",
    "1. rotation about the vector $\\begin{bmatrix} 1 \\\\ 1 \\\\ 1 \\end{bmatrix}$ by $\\pi/4$ then rotation about the vector $\\begin{bmatrix} -1 \\\\ -1 \\\\ -1 \\end{bmatrix}$ by $\\pi/4$.\n",
    "\n"
   ]
  },
  {
   "cell_type": "markdown",
   "metadata": {},
   "source": []
  },
  {
   "cell_type": "markdown",
   "metadata": {
    "deletable": false,
    "editable": false,
    "nbgrader": {
     "cell_type": "markdown",
     "checksum": "fbbd3445ffeda44e9538266642489223",
     "grade": false,
     "grade_id": "4",
     "locked": true,
     "points": 1,
     "schema_version": 3,
     "solution": false,
     "task": true
    }
   },
   "source": [
    "# Exercise: math (20 min)\n",
    "\n",
    "Give all four values of the quaternion representing a rotation of 120 degrees around a vector $\\begin{bmatrix} 1 & 1 & 1 \\end{bmatrix}^T$?\n"
   ]
  },
  {
   "cell_type": "markdown",
   "metadata": {},
   "source": []
  }
 ],
 "metadata": {
  "kernelspec": {
   "display_name": "Python 3",
   "language": "python",
   "name": "python3"
  },
  "language_info": {
   "codemirror_mode": {
    "name": "ipython",
    "version": 3
   },
   "file_extension": ".py",
   "mimetype": "text/x-python",
   "name": "python",
   "nbconvert_exporter": "python",
   "pygments_lexer": "ipython3",
   "version": "3.6.9"
  }
 },
 "nbformat": 4,
 "nbformat_minor": 4
}
