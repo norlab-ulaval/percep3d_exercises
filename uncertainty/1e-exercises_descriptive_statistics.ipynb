{
 "cells": [
  {
   "cell_type": "code",
   "execution_count": 1,
   "metadata": {
    "jupyter": {
     "source_hidden": true
    }
   },
   "outputs": [],
   "source": [
    "#%matplotlib widget\n",
    "%matplotlib inline\n",
    "import matplotlib.pyplot as plt\n",
    "\n",
    "import numpy as np\n",
    "\n",
    "plt.style.use('dark_background')\n",
    "\n",
    "%run scripts/helper_func.py"
   ]
  },
  {
   "cell_type": "markdown",
   "metadata": {
    "slideshow": {
     "slide_type": "subslide"
    }
   },
   "source": [
    "# Exercices"
   ]
  },
  {
   "cell_type": "markdown",
   "metadata": {},
   "source": [
    "## Exercise 1: math (60 min)\n",
    "\n",
    "Demonstrate that the computation of the variance is translation invariant. In other words, show that $\\text{Var}(\\mathcal{X}) = \\text{Var}(\\mathcal{X}+a)$ for a set $\\mathcal{X} = \\{(x_1 + a), (x_2 + a), \\dots, (x_i + a)\\}$.\n",
    "\n",
    "- _Hint 1_: replace $x_i$ by $(x_i + a)$ in equations for $\\E[\\mathcal{X}]$ and $\\E(\\mathcal{X} -\\E[\\mathcal{X}])^2]$.\n",
    "- _Hint 2_: you may need to review some of the [summation identities](https://en.wikipedia.org/wiki/Summation#Identities).\n",
    "- _Hint 3_: you may need to review [dot products](https://en.wikipedia.org/wiki/Dot_product)"
   ]
  },
  {
   "cell_type": "markdown",
   "metadata": {
    "deletable": false,
    "nbgrader": {
     "cell_type": "markdown",
     "checksum": "8c9741e41f88edacc2ee480631f59b3b",
     "grade": true,
     "grade_id": "1",
     "locked": false,
     "points": 0,
     "schema_version": 3,
     "solution": true,
     "task": false
    }
   },
   "source": [
    "YOUR ANSWER HERE"
   ]
  },
  {
   "cell_type": "markdown",
   "metadata": {},
   "source": [
    "## Exercise 2: app. (10 min)\n",
    "\n",
    "Three different thermostats (A, B, C) were set to maintain zero temperature in a refrigerator. \n",
    "The following distributions represent their performance over some time:"
   ]
  },
  {
   "cell_type": "code",
   "execution_count": 2,
   "metadata": {
    "jupyter": {
     "source_hidden": true
    }
   },
   "outputs": [
    {
     "data": {
      "image/png": "[encoded data removed]",
      "text/plain": [
       "<Figure size 360x360 with 3 Axes>"
      ]
     },
     "metadata": {},
     "output_type": "display_data"
    }
   ],
   "source": [
    "n = 1000\n",
    "binwidth = 0.1\n",
    "dist_names = [\"A\", \"B\", \"C\"]\n",
    "x_range = (-3, 3)\n",
    "\n",
    "X = np.array([np.random.normal(0.5, 0.5, n),\n",
    "              np.random.uniform(-2., 2., n),\n",
    "              np.random.gamma(2., 0.3, n)-2.])\n",
    "\n",
    "colors = plt.rcParams['axes.prop_cycle'].by_key()['color']\n",
    "\n",
    "fig, axs = plt.subplots(nrows=3, ncols=1, figsize=(5,5))\n",
    "\n",
    "for i in range(len(X)):\n",
    "    axs[i].hist(X[i,:], bins=np.arange(min(X[i,:]), max(X[i,:]) + binwidth, binwidth), color=colors[i]);\n",
    "    axs[i].set_title('Distribution ' + dist_names[i])\n",
    "    axs[i].set_xlim(x_range)\n",
    "\n",
    "plt.tight_layout()"
   ]
  },
  {
   "cell_type": "markdown",
   "metadata": {},
   "source": [
    "Q1: Which thermostat provided the the most accurate results?"
   ]
  },
  {
   "cell_type": "markdown",
   "metadata": {
    "deletable": false,
    "nbgrader": {
     "cell_type": "markdown",
     "checksum": "09a94ba49bb048e8052fbec1e5911386",
     "grade": true,
     "grade_id": "2",
     "locked": false,
     "points": 0,
     "schema_version": 3,
     "solution": true,
     "task": false
    }
   },
   "source": [
    "YOUR ANSWER HERE"
   ]
  },
  {
   "cell_type": "markdown",
   "metadata": {},
   "source": [
    "Q2: Which thermostat was the most precise?"
   ]
  },
  {
   "cell_type": "markdown",
   "metadata": {
    "deletable": false,
    "nbgrader": {
     "cell_type": "markdown",
     "checksum": "8da31e95d7d0c71174095642473bba6c",
     "grade": true,
     "grade_id": "3",
     "locked": false,
     "points": 0,
     "schema_version": 3,
     "solution": true,
     "task": false
    }
   },
   "source": [
    "YOUR ANSWER HERE"
   ]
  },
  {
   "cell_type": "markdown",
   "metadata": {},
   "source": [
    "Q3: Which thermostat was the least accurate?"
   ]
  },
  {
   "cell_type": "markdown",
   "metadata": {
    "deletable": false,
    "nbgrader": {
     "cell_type": "markdown",
     "checksum": "45d5f07fb7351714bc3b19146b7f41de",
     "grade": true,
     "grade_id": "4",
     "locked": false,
     "points": 0,
     "schema_version": 3,
     "solution": true,
     "task": false
    }
   },
   "source": [
    "YOUR ANSWER HERE"
   ]
  },
  {
   "cell_type": "markdown",
   "metadata": {},
   "source": [
    "Q4: Which thermostat was the least precise?"
   ]
  },
  {
   "cell_type": "markdown",
   "metadata": {
    "deletable": false,
    "nbgrader": {
     "cell_type": "markdown",
     "checksum": "0fb1f32b57e68afe480386e3fca21296",
     "grade": true,
     "grade_id": "5",
     "locked": false,
     "points": 0,
     "schema_version": 3,
     "solution": true,
     "task": false
    }
   },
   "source": [
    "YOUR ANSWER HERE"
   ]
  },
  {
   "cell_type": "markdown",
   "metadata": {},
   "source": [
    "## Exercice 3: math (90 min)\n",
    "\n",
    "As introduced in the variance section, demonstrate that this equality is true:\n",
    "\\begin{equation}\n",
    "\\frac{1}{n}\\sum_i^n (x_i - \\bar{x})^2 = \\frac{1}{n}\\vec{x}^T \\vec{x} - \\bar{x} \\textdot\n",
    "\\end{equation}\n",
    "\n",
    "- _Hint 1_: start by expanding the elements squared.\n",
    "- _Hint 2_: you will need to recall the equation for the mean.\n",
    "- _Hint 3_: you may need to review some of the [summation identities](https://en.wikipedia.org/wiki/Summation#Identities)."
   ]
  },
  {
   "cell_type": "markdown",
   "metadata": {
    "deletable": false,
    "nbgrader": {
     "cell_type": "markdown",
     "checksum": "774020f7ee0f526ae520533bf2216d71",
     "grade": true,
     "grade_id": "6",
     "locked": false,
     "points": 0,
     "schema_version": 3,
     "solution": true,
     "task": false
    }
   },
   "source": [
    "YOUR ANSWER HERE"
   ]
  }
 ],
 "metadata": {
  "kernelspec": {
   "display_name": "Python 3",
   "language": "python",
   "name": "python3"
  },
  "language_info": {
   "codemirror_mode": {
    "name": "ipython",
    "version": 3
   },
   "file_extension": ".py",
   "mimetype": "text/x-python",
   "name": "python",
   "nbconvert_exporter": "python",
   "pygments_lexer": "ipython3",
   "version": "3.6.9"
  }
 },
 "nbformat": 4,
 "nbformat_minor": 4
}
